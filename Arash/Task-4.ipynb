{
 "cells": [
  {
   "cell_type": "markdown",
   "id": "a2c166ab-025c-4f77-b593-10636e04916a",
   "metadata": {},
   "source": [
    "#### **Task 4**: How taxi times changing during the day? Does higher traffic lead to bigger taxi times?"
   ]
  },
  {
   "cell_type": "code",
   "execution_count": null,
   "id": "f0c558c7-e48a-4657-a6ff-548b3ef7bb34",
   "metadata": {},
   "outputs": [],
   "source": [
    "data = data[['taxi_in', 'taxi_out', 'crs_dep_time', 'crs_arr_time']]"
   ]
  },
  {
   "cell_type": "code",
   "execution_count": null,
   "id": "f7a2c1fd-06d3-40b0-b8a9-47fd56afb7a1",
   "metadata": {},
   "outputs": [],
   "source": [
    "# ARRIVAL TIME VS TAXI TIME\n",
    "\n",
    "# set figure size\n",
    "plt.rcParams[\"figure.figsize\"] = (12,8)\n",
    "\n",
    "# plot clusters\n",
    "plt.scatter(data['crs_arr_time'],\n",
    "            data['taxi_in'],\n",
    "            )\n",
    "\n",
    "\n",
    "plt.legend(bbox_to_anchor=(1.04,0.5), loc=\"center left\", borderaxespad=0)\n",
    "plt.xlabel('Time of Day')\n",
    "plt.ylabel('Taxi_in Time (minutes)')\n",
    "plt.title('Taxi_in Time vs Time of Day')\n",
    "plt.grid()\n",
    "plt.show()"
   ]
  },
  {
   "cell_type": "markdown",
   "id": "343b4208-5e03-4e7f-9ce1-9e42c63e3fbb",
   "metadata": {},
   "source": [
    "Above visualisation shows significantly lower taxi_in times earlier on in the day, implies addition of taxi_in times as a feature could improve model accuracy. Addition of taxi_out times could also be included but see task 5 logic: airlines are able to compensate by lowering delays during flight."
   ]
  },
  {
   "cell_type": "code",
   "execution_count": null,
   "id": "64474bdf-ae0c-41a9-a272-d99318b3cde5",
   "metadata": {},
   "outputs": [],
   "source": [
    "# Departure TIME VS TAXI TIME\n",
    "\n",
    "# set figure size\n",
    "plt.rcParams[\"figure.figsize\"] = (12,8)\n",
    "\n",
    "# plot clusters\n",
    "plt.scatter(data['crs_dep_time'],\n",
    "            data['taxi_in'],\n",
    "            )\n",
    "\n",
    "\n",
    "plt.legend(bbox_to_anchor=(1.04,0.5), loc=\"center left\", borderaxespad=0)\n",
    "plt.xlabel('Time of Day')\n",
    "plt.ylabel('Taxi_out Time (minutes)')\n",
    "plt.title('Taxi_out Time vs Time of Day')\n",
    "plt.grid()\n",
    "plt.show()"
   ]
  },
  {
   "cell_type": "markdown",
   "id": "66ad678c-562b-43dc-a3f7-ac6fa8e5c30c",
   "metadata": {
    "tags": []
   },
   "source": [
    "Above visualisation shows significantly lower taxi_out times earlier on in the day, implies addition of taxi_out times as a feature could improve model accuracy. Addition of taxi_out times could also be included but see task 5 logic: airlines are able to compensate by lowering delays during flight."
   ]
  }
 ],
 "metadata": {
  "kernelspec": {
   "display_name": "Python 3 (ipykernel)",
   "language": "python",
   "name": "python3"
  },
  "language_info": {
   "codemirror_mode": {
    "name": "ipython",
    "version": 3
   },
   "file_extension": ".py",
   "mimetype": "text/x-python",
   "name": "python",
   "nbconvert_exporter": "python",
   "pygments_lexer": "ipython3",
   "version": "3.9.7"
  }
 },
 "nbformat": 4,
 "nbformat_minor": 5
}
