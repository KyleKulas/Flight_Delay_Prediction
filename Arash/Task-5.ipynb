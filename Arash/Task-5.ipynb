{
 "cells": [
  {
   "cell_type": "markdown",
   "id": "db59813a-effb-463c-bfa7-2381224027ca",
   "metadata": {},
   "source": [
    "### **Task 5**: What is the average percentage of delays that is already created before departure? (aka are arrival delays caused by departure delays?) Are airlines able to lower the delay during the flights?"
   ]
  },
  {
   "cell_type": "code",
   "execution_count": null,
   "id": "7c20ac5b-c019-4568-8783-84663102ec4a",
   "metadata": {},
   "outputs": [],
   "source": [
    "# Getting the Arrival and Departur delays\n",
    "total_arr = data[data['arr_delay'] > 0]\n",
    "arr_dep = total_arr[total_arr['dep_delay'] > 0]\n",
    "\n",
    "late_arr_dep = arr_dep['dep_delay'].count()\n",
    "arr_count = total_arr['arr_delay'].count()\n",
    "percent_late_arr  = arr_dep['dep_delay'].count() / total_arr['arr_delay'].count()\n",
    "percent_early_arr = 1 - late_arr_dep / arr_count\n",
    "\n",
    "print('Total late arrivals: ',arr_count)\n",
    "print('Late arrivals that departed late: ', late_arr_dep )\n",
    "print('Percentage of late arrivals that departed late: ', percent_late_arr*100,'%')\n",
    "print('Percentage of late arrivals that on time or early: ', percent_early_arr*100,'%')"
   ]
  },
  {
   "cell_type": "markdown",
   "id": "0b8f0d0d-ae29-4f58-a30b-72dc51297a53",
   "metadata": {},
   "source": [
    "Total late arrivals:  68433\\\n",
    "Late arrivals that departed late:  48541\\\n",
    "Percentage of late arrivals that departed late:  70.93 %\\\n",
    "Percentage of late arrivals that on time or early:  29.06 %"
   ]
  },
  {
   "cell_type": "code",
   "execution_count": null,
   "id": "ad676b58-1424-4d07-a6c8-67c4eb037ad9",
   "metadata": {},
   "outputs": [],
   "source": [
    "# Visualization by Arrival and Departur delays by Airlines\n",
    "\n",
    "mpl.rcParams.update(mpl.rcParamsDefault)\n",
    "mpl.rcParams['hatch.linewidth'] = 2.0  \n",
    "\n",
    "fig = plt.figure(1, figsize=(14,8))\n",
    "ax = sns.barplot(x=\"dep_delay\", y=\"mkt_carrier_name\", label= 'dep_delay', data=data, color=\"lightblue\", ci=None)\n",
    "ax = sns.barplot(x=\"arr_delay\", y=\"mkt_carrier_name\", label= 'arr_delay', data=data, color=\"black\", hatch = ')))',\n",
    "                 alpha = 0.0, ci=None)\n",
    "ax.yaxis.label.set_visible(False)\n",
    "plt.title('Arrival vs Departure Delay')\n",
    "plt.xlabel('Mean delay minutes', fontsize=14, labelpad=10);\n",
    "ax.legend(loc='upper right')\n",
    "plt.show()"
   ]
  }
 ],
 "metadata": {
  "kernelspec": {
   "display_name": "Python 3 (ipykernel)",
   "language": "python",
   "name": "python3"
  },
  "language_info": {
   "codemirror_mode": {
    "name": "ipython",
    "version": 3
   },
   "file_extension": ".py",
   "mimetype": "text/x-python",
   "name": "python",
   "nbconvert_exporter": "python",
   "pygments_lexer": "ipython3",
   "version": "3.9.7"
  }
 },
 "nbformat": 4,
 "nbformat_minor": 5
}
