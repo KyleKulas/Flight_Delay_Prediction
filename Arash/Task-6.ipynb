{
 "cells": [
  {
   "cell_type": "markdown",
   "id": "9bfc218e-218f-4c3a-8e2c-097ebe9457d7",
   "metadata": {},
   "source": [
    "#### **Task 6**: How many states cover 50% of US air traffic? "
   ]
  },
  {
   "cell_type": "code",
   "execution_count": null,
   "id": "0d1ce40f-38ad-4d58-b5ba-c1f869bd4922",
   "metadata": {},
   "outputs": [],
   "source": [
    "# The necessary columns\n",
    "des_origin = data.filter(['origin_city_name', 'dest_city_name', 'fl_date'])\n",
    "des_origin.head() "
   ]
  },
  {
   "cell_type": "code",
   "execution_count": null,
   "id": "ca6275aa-ede2-4993-b42e-93cc4edb1b1a",
   "metadata": {},
   "outputs": [],
   "source": [
    "# Visualization of Traffic By State\n",
    "\n",
    "#Getting the states\n",
    "des_origin['origin_state'] = des_origin['origin_city_name'].apply(lambda x: x.split(', ')[1])\n",
    "des_origin['dest_state'] = des_origin['dest_city_name'].apply(lambda x: x.split(', ')[1])\n",
    "\n",
    "# Caounting the data by state for Origin \n",
    "origin = des_origin.groupby('origin_state')['fl_date'].count().sort_values(ascending=False)\n",
    "\n",
    "# Barplot fr origin\n",
    "plt.barh(origin.index,origin.values,  color='blue')\n",
    "plt.xlabel(\"States\")\n",
    "plt.ylabel(\"Number of Flights\")\n",
    "plt.title(\"Origin Flights by State\")\n",
    "fig = plt.gcf()\n",
    "fig.set_size_inches(10, 15)\n",
    "\n",
    "# Caounting the data by state for Destination \n",
    "destination = des_origin.groupby('dest_state')['fl_date'].count().sort_values(ascending=False)\n",
    "\n",
    "# Barplot for Destination\n",
    "plt.barh(destination.index,destination.values,  color='red')\n",
    "plt.xlabel(\"States\")\n",
    "plt.ylabel(\"Number of Flights\")\n",
    "plt.title(\"Destination Flights by State\")\n",
    "fig = plt.gcf()\n",
    "fig.set_size_inches(10, 15)\n",
    "\n",
    "plt.show()"
   ]
  }
 ],
 "metadata": {
  "kernelspec": {
   "display_name": "Python 3 (ipykernel)",
   "language": "python",
   "name": "python3"
  },
  "language_info": {
   "codemirror_mode": {
    "name": "ipython",
    "version": 3
   },
   "file_extension": ".py",
   "mimetype": "text/x-python",
   "name": "python",
   "nbconvert_exporter": "python",
   "pygments_lexer": "ipython3",
   "version": "3.9.7"
  }
 },
 "nbformat": 4,
 "nbformat_minor": 5
}
