{
 "cells": [
  {
   "cell_type": "markdown",
   "id": "e5f60b51-362c-47f6-8186-189462d4d22b",
   "metadata": {},
   "source": [
    "#### **Task 7**: Test the hypothesis whether planes fly faster when there is the departure delay? "
   ]
  },
  {
   "cell_type": "code",
   "execution_count": null,
   "id": "f1553841-6f9a-4be4-99e5-05f73ffb430b",
   "metadata": {},
   "outputs": [],
   "source": [
    "# Necessary columns\n",
    "flightspeed_data = data.filter(['dep_delay', 'distance', 'air_time'])"
   ]
  },
  {
   "cell_type": "code",
   "execution_count": null,
   "id": "b81a1e9b-5e63-477f-b9d7-baf7e44f8971",
   "metadata": {},
   "outputs": [],
   "source": [
    "flightspeed_data['speed'] = flightspeed_data['distance']/(flightspeed_data['air_time']/60)\n",
    "delayed = flightspeed_data[flightspeed_data['dep_delay'] > 0]\n",
    "none_delayed = flightspeed_data[flightspeed_data['dep_delay'] <= 0]\n",
    "\n",
    "average_delay = delayed['speed'].median()\n",
    "average_nondelay = none_delayed['speed'].median()\n",
    "\n",
    "print(f'Average Speed of Delayed Flights : {average_delay}')\n",
    "print(f'Average Speed of Non-Delayed Flights : {average_nondelay}')"
   ]
  },
  {
   "cell_type": "code",
   "execution_count": null,
   "id": "9d4e14e4-b5b6-46fb-9498-e910d75154d9",
   "metadata": {},
   "outputs": [],
   "source": [
    "# Visualiztion\n",
    "fig = plt.figure(figsize=(10,8))\n",
    "plt.bar(['No Delay', 'Delay'],[avg_nondelay,avg_delay])\n",
    "plt.title('Avg Speed: Non-Delay vs Delayed')\n",
    "plt.xlabel('Departure Delay')\n",
    "plt.ylabel('Average Speed')\n"
   ]
  }
 ],
 "metadata": {
  "kernelspec": {
   "display_name": "Python 3 (ipykernel)",
   "language": "python",
   "name": "python3"
  },
  "language_info": {
   "codemirror_mode": {
    "name": "ipython",
    "version": 3
   },
   "file_extension": ".py",
   "mimetype": "text/x-python",
   "name": "python",
   "nbconvert_exporter": "python",
   "pygments_lexer": "ipython3",
   "version": "3.9.7"
  }
 },
 "nbformat": 4,
 "nbformat_minor": 5
}
