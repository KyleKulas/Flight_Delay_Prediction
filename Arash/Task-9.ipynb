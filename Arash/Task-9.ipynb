{
 "cells": [
  {
   "cell_type": "markdown",
   "id": "5c7b2e3b-166f-4cfa-9a3a-635725d12ba7",
   "metadata": {},
   "source": [
    "#### **Task 9**: Find the top 10 the bussiest airports. Does the biggest number of flights mean that the biggest number of passengers went through the particular airport? How much traffic do these 10 airports cover?"
   ]
  },
  {
   "cell_type": "code",
   "execution_count": null,
   "id": "7a70c908-843f-4045-9f0c-d19c907b2ba2",
   "metadata": {},
   "outputs": [],
   "source": [
    "flights = pd.read_csv(\"data/flights.csv\")\n",
    "passengers = pd.read_csv(\"data/passengers.csv\")"
   ]
  },
  {
   "cell_type": "code",
   "execution_count": null,
   "id": "7a1eee9f-f1c4-4208-a962-b4b44634e306",
   "metadata": {},
   "outputs": [],
   "source": [
    "origin = flights.filter(['origin', 'fl_date'])\n",
    "airline_name = flights[(flights['origin'] == 'ATL') | (flights['origin'] == 'LAX')| (flights['origin'] == 'ORD')| (flights['origin'] == 'DFW')| (flights['origin'] == 'DEN')| (flights['origin'] == 'JFK')| (flights['origin'] == 'SFO')| (flights['origin'] == 'LAS')| (flights['origin'] == 'SEA')| (flights['origin'] == 'MCO')].groupby('origin')['fl_date'].count().sort_values(ascending=False).head(10)\n",
    "airline_name"
   ]
  },
  {
   "cell_type": "code",
   "execution_count": null,
   "id": "f2cd857c-8089-49df-aa9e-cc53e2e591c5",
   "metadata": {},
   "outputs": [],
   "source": [
    "passengers.groupby('origin')['passengers'].sum().sort_values(ascending=False)\n"
   ]
  },
  {
   "cell_type": "code",
   "execution_count": null,
   "id": "a1d9552a-4399-4ad1-bb73-8cb26d8b078f",
   "metadata": {},
   "outputs": [],
   "source": [
    "origin_passengers_flights = pd.DataFrame(passengers.groupby('origin')['passengers'].sum().reset_index()).rename({'passengers': 'total_passengers'}, axis=1).sort_values(by='total_passengers', ascending=False).head(10)"
   ]
  },
  {
   "cell_type": "code",
   "execution_count": null,
   "id": "cf2fe9d4-9bbd-40a3-afe8-87c6c5a2eab8",
   "metadata": {},
   "outputs": [],
   "source": [
    "import seaborn as sns\n",
    "\n",
    "f, axes = plt.subplots(1, 2, figsize=(15,6))\n",
    "ax1 = sns.barplot(x='origin', y='total_passengers', data=origin_passengers_flights, ax=axes[0], palette=\"tab10\")\n",
    "ax1.tick_params(axis='x', rotation=45)\n",
    "plt.subplots_adjust(hspace=0.4, wspace=0.4)\n",
    "ax2 = sns.barplot(flights_name.index, flights_name.values,ax=axes[1])\n",
    "plt.xticks(rotation=45)\n",
    "ax1.set(title='Origin vs Passengers', xlabel='Origin', ylabel='Number of Passengers')\n",
    "ax2.set(title='Flights Number by Origin', xlabel='Origin', ylabel='Flights');"
   ]
  }
 ],
 "metadata": {
  "kernelspec": {
   "display_name": "Python 3 (ipykernel)",
   "language": "python",
   "name": "python3"
  },
  "language_info": {
   "codemirror_mode": {
    "name": "ipython",
    "version": 3
   },
   "file_extension": ".py",
   "mimetype": "text/x-python",
   "name": "python",
   "nbconvert_exporter": "python",
   "pygments_lexer": "ipython3",
   "version": "3.9.7"
  }
 },
 "nbformat": 4,
 "nbformat_minor": 5
}
