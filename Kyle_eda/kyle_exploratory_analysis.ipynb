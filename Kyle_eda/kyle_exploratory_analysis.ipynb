{
 "cells": [
  {
   "cell_type": "markdown",
   "metadata": {
    "tags": []
   },
   "source": [
    "## Exploratory Data Analysis\n",
    "\n",
    "Use this notebook to get familiar with the datasets we have. There is 10 questions we need to answer during the EDA.\n",
    "\n",
    "\n",
    "We shouldn't limit our EDA to these 10 questions. Let's be creative :)."
   ]
  },
  {
   "cell_type": "markdown",
   "metadata": {},
   "source": [
    "#### Connect to Database"
   ]
  },
  {
   "cell_type": "code",
   "execution_count": 40,
   "metadata": {},
   "outputs": [],
   "source": [
    "import psycopg2\n",
    "import pandas as pd\n",
    "import numpy as np\n",
    "import config as cfg\n",
    "from scipy import stats\n",
    "import requests\n",
    "from IPython.display import JSON\n",
    "import json\n",
    "import os\n",
    "from calendar import monthrange\n",
    "import seaborn as sn\n",
    "import matplotlib.pyplot as plt\n",
    "import matplotlib.dates as mdates\n",
    "\n",
    "pd.set_option(\"display.max_columns\", None)"
   ]
  },
  {
   "cell_type": "code",
   "execution_count": null,
   "metadata": {},
   "outputs": [],
   "source": [
    "# Create a connection to the midterm database \n",
    "con = psycopg2.connect(database=cfg.DATABASE, \n",
    "                       user=cfg.USER, \n",
    "                       password=cfg.PASSWORD,\n",
    "                       host=cfg.HOST, \n",
    "                       port=cfg.PORT)\n",
    "cur = con.cursor()"
   ]
  },
  {
   "cell_type": "code",
   "execution_count": null,
   "metadata": {
    "tags": []
   },
   "outputs": [],
   "source": [
    "# get flights data by month from 2018,2019 and save to csv\n",
    "years = ['2018', '2019']\n",
    "months = [f'{i:02}'for i in range(1,13)]\n",
    "for year in years:\n",
    "    for month in months:\n",
    "        query = f\"SELECT * FROM flights WHERE fl_date LIKE '{year}-{month}%'\"\n",
    "\n",
    "        pandas_response = pd.read_sql_query(query, con)\n",
    "\n",
    "        pandas_response.to_csv(f'data/{month}_{year}_flights.csv')\n",
    "        print(f'{month}_{year} complete')\n",
    "        "
   ]
  },
  {
   "cell_type": "code",
   "execution_count": null,
   "metadata": {},
   "outputs": [],
   "source": [
    "# get test data and save to file\n",
    "query = f\"SELECT * FROM flights_test\"\n",
    "pandas_response = pd.read_sql_query(query, con)\n",
    "pandas_response.to_csv(f\"data/{'01'}_{'2020'}_flights.csv\")"
   ]
  },
  {
   "cell_type": "markdown",
   "metadata": {},
   "source": [
    "#### **Task 1**: \n",
    "Test the hypothesis that the delay is from Normal distribution. and that **mean** of the delay is 0. Be careful about the outliers."
   ]
  },
  {
   "cell_type": "code",
   "execution_count": 2,
   "metadata": {},
   "outputs": [],
   "source": [
    "jan = pd.read_csv('data/01_2019_flights.csv', index_col=0)\n",
    "\n",
    "# Convert flight date to column to datetime\n",
    "jan['fl_date'] =  pd.to_datetime(jan['fl_date'], format='%Y/%m/%d')\n",
    "\n",
    "# Create new column for day of the week ie. 0 = monday\n",
    "jan['day_of_week'] = jan['fl_date'].dt.dayofweek"
   ]
  },
  {
   "cell_type": "code",
   "execution_count": 3,
   "metadata": {},
   "outputs": [
    {
     "data": {
      "text/plain": [
       "fl_date                datetime64[ns]\n",
       "mkt_unique_carrier             object\n",
       "branded_code_share             object\n",
       "mkt_carrier                    object\n",
       "mkt_carrier_fl_num              int64\n",
       "op_unique_carrier              object\n",
       "tail_num                       object\n",
       "op_carrier_fl_num               int64\n",
       "origin_airport_id               int64\n",
       "origin                         object\n",
       "origin_city_name               object\n",
       "dest_airport_id                 int64\n",
       "dest                           object\n",
       "dest_city_name                 object\n",
       "crs_dep_time                    int64\n",
       "dep_time                      float64\n",
       "dep_delay                     float64\n",
       "taxi_out                      float64\n",
       "wheels_off                    float64\n",
       "wheels_on                     float64\n",
       "taxi_in                       float64\n",
       "crs_arr_time                    int64\n",
       "arr_time                      float64\n",
       "arr_delay                     float64\n",
       "cancelled                     float64\n",
       "cancellation_code              object\n",
       "diverted                      float64\n",
       "dup                            object\n",
       "crs_elapsed_time              float64\n",
       "actual_elapsed_time           float64\n",
       "air_time                      float64\n",
       "flights                       float64\n",
       "distance                      float64\n",
       "carrier_delay                 float64\n",
       "weather_delay                 float64\n",
       "nas_delay                     float64\n",
       "security_delay                float64\n",
       "late_aircraft_delay           float64\n",
       "first_dep_time                float64\n",
       "total_add_gtime               float64\n",
       "longest_add_gtime             float64\n",
       "no_name                       float64\n",
       "day_of_week                     int64\n",
       "dtype: object"
      ]
     },
     "execution_count": 3,
     "metadata": {},
     "output_type": "execute_result"
    }
   ],
   "source": [
    "jan.dtypes"
   ]
  },
  {
   "cell_type": "code",
   "execution_count": 4,
   "metadata": {},
   "outputs": [
    {
     "data": {
      "text/plain": [
       "(638649, 43)"
      ]
     },
     "execution_count": 4,
     "metadata": {},
     "output_type": "execute_result"
    }
   ],
   "source": [
    "jan.shape"
   ]
  },
  {
   "cell_type": "code",
   "execution_count": 12,
   "metadata": {},
   "outputs": [
    {
     "data": {
      "text/plain": [
       "False    617649\n",
       "True      21000\n",
       "Name: arr_delay, dtype: int64"
      ]
     },
     "execution_count": 12,
     "metadata": {},
     "output_type": "execute_result"
    }
   ],
   "source": [
    "x = jan['arr_delay'].isnull()\n",
    "x.value_counts()"
   ]
  },
  {
   "cell_type": "code",
   "execution_count": 13,
   "metadata": {},
   "outputs": [],
   "source": [
    "jan.dropna(inplace=True,subset=['arr_delay'])"
   ]
  },
  {
   "cell_type": "code",
   "execution_count": 14,
   "metadata": {},
   "outputs": [
    {
     "data": {
      "text/html": [
       "<div>\n",
       "<style scoped>\n",
       "    .dataframe tbody tr th:only-of-type {\n",
       "        vertical-align: middle;\n",
       "    }\n",
       "\n",
       "    .dataframe tbody tr th {\n",
       "        vertical-align: top;\n",
       "    }\n",
       "\n",
       "    .dataframe thead th {\n",
       "        text-align: right;\n",
       "    }\n",
       "</style>\n",
       "<table border=\"1\" class=\"dataframe\">\n",
       "  <thead>\n",
       "    <tr style=\"text-align: right;\">\n",
       "      <th></th>\n",
       "      <th>fl_date</th>\n",
       "      <th>mkt_unique_carrier</th>\n",
       "      <th>branded_code_share</th>\n",
       "      <th>mkt_carrier</th>\n",
       "      <th>mkt_carrier_fl_num</th>\n",
       "      <th>op_unique_carrier</th>\n",
       "      <th>tail_num</th>\n",
       "      <th>op_carrier_fl_num</th>\n",
       "      <th>origin_airport_id</th>\n",
       "      <th>origin</th>\n",
       "      <th>origin_city_name</th>\n",
       "      <th>dest_airport_id</th>\n",
       "      <th>dest</th>\n",
       "      <th>dest_city_name</th>\n",
       "      <th>crs_dep_time</th>\n",
       "      <th>dep_time</th>\n",
       "      <th>dep_delay</th>\n",
       "      <th>taxi_out</th>\n",
       "      <th>wheels_off</th>\n",
       "      <th>wheels_on</th>\n",
       "      <th>taxi_in</th>\n",
       "      <th>crs_arr_time</th>\n",
       "      <th>arr_time</th>\n",
       "      <th>arr_delay</th>\n",
       "      <th>cancelled</th>\n",
       "      <th>cancellation_code</th>\n",
       "      <th>diverted</th>\n",
       "      <th>dup</th>\n",
       "      <th>crs_elapsed_time</th>\n",
       "      <th>actual_elapsed_time</th>\n",
       "      <th>air_time</th>\n",
       "      <th>flights</th>\n",
       "      <th>distance</th>\n",
       "      <th>carrier_delay</th>\n",
       "      <th>weather_delay</th>\n",
       "      <th>nas_delay</th>\n",
       "      <th>security_delay</th>\n",
       "      <th>late_aircraft_delay</th>\n",
       "      <th>first_dep_time</th>\n",
       "      <th>total_add_gtime</th>\n",
       "      <th>longest_add_gtime</th>\n",
       "      <th>no_name</th>\n",
       "      <th>day_of_week</th>\n",
       "    </tr>\n",
       "  </thead>\n",
       "  <tbody>\n",
       "  </tbody>\n",
       "</table>\n",
       "</div>"
      ],
      "text/plain": [
       "Empty DataFrame\n",
       "Columns: [fl_date, mkt_unique_carrier, branded_code_share, mkt_carrier, mkt_carrier_fl_num, op_unique_carrier, tail_num, op_carrier_fl_num, origin_airport_id, origin, origin_city_name, dest_airport_id, dest, dest_city_name, crs_dep_time, dep_time, dep_delay, taxi_out, wheels_off, wheels_on, taxi_in, crs_arr_time, arr_time, arr_delay, cancelled, cancellation_code, diverted, dup, crs_elapsed_time, actual_elapsed_time, air_time, flights, distance, carrier_delay, weather_delay, nas_delay, security_delay, late_aircraft_delay, first_dep_time, total_add_gtime, longest_add_gtime, no_name, day_of_week]\n",
       "Index: []"
      ]
     },
     "execution_count": 14,
     "metadata": {},
     "output_type": "execute_result"
    }
   ],
   "source": [
    "jan[jan['arr_delay'].isnull()]\n"
   ]
  },
  {
   "cell_type": "code",
   "execution_count": 29,
   "metadata": {},
   "outputs": [
    {
     "data": {
      "image/png": "[encoded data removed]",
      "text/plain": [
       "<Figure size 720x720 with 1 Axes>"
      ]
     },
     "metadata": {
      "needs_background": "light"
     },
     "output_type": "display_data"
    }
   ],
   "source": [
    "fig, ax = plt.subplots(figsize=(10,10)) \n",
    "jan['arr_delay'].hist(bins=20, log=True)\n",
    "plt.ylabel('occurances')\n",
    "plt.xlabel('delay in minutes')\n",
    "plt.title('January 2019')\n",
    "plt.savefig('hist_2019_01')\n",
    "plt.show()"
   ]
  },
  {
   "cell_type": "code",
   "execution_count": 18,
   "metadata": {},
   "outputs": [
    {
     "data": {
      "text/plain": [
       "-9.0     17109\n",
       "-12.0    17044\n",
       "-11.0    17015\n",
       "-10.0    16883\n",
       "-13.0    16665\n",
       "-14.0    16493\n",
       "-8.0     16454\n",
       "-15.0    16139\n",
       "-7.0     15920\n",
       "-16.0    15437\n",
       "-6.0     15294\n",
       "-5.0     14853\n",
       "-17.0    14467\n",
       "-4.0     13697\n",
       "-18.0    13617\n",
       "-3.0     13263\n",
       "-19.0    12659\n",
       "-2.0     12363\n",
       "-1.0     11779\n",
       "-20.0    11741\n",
       " 0.0     11323\n",
       "-21.0    10627\n",
       " 1.0     10358\n",
       "-22.0     9851\n",
       " 2.0      9479\n",
       " 3.0      9004\n",
       "-23.0     8928\n",
       " 4.0      8319\n",
       "-24.0     7993\n",
       " 5.0      7839\n",
       "-25.0     7188\n",
       " 6.0      7109\n",
       " 7.0      6897\n",
       "-26.0     6447\n",
       " 8.0      6446\n",
       " 9.0      5960\n",
       "-27.0     5752\n",
       " 10.0     5572\n",
       " 11.0     5396\n",
       "-28.0     4991\n",
       " 12.0     4855\n",
       " 13.0     4510\n",
       "-29.0     4405\n",
       " 14.0     4340\n",
       " 15.0     4010\n",
       "-30.0     3880\n",
       " 16.0     3844\n",
       " 17.0     3602\n",
       "-31.0     3410\n",
       " 18.0     3366\n",
       "Name: arr_delay, dtype: int64"
      ]
     },
     "execution_count": 18,
     "metadata": {},
     "output_type": "execute_result"
    }
   ],
   "source": [
    "value_counts = jan['arr_delay'].value_counts()\n",
    "value_counts.head(50)"
   ]
  },
  {
   "cell_type": "code",
   "execution_count": 19,
   "metadata": {},
   "outputs": [
    {
     "data": {
      "text/plain": [
       "-85.0"
      ]
     },
     "execution_count": 19,
     "metadata": {},
     "output_type": "execute_result"
    }
   ],
   "source": [
    "jan['arr_delay'].min()"
   ]
  },
  {
   "cell_type": "code",
   "execution_count": 20,
   "metadata": {},
   "outputs": [
    {
     "data": {
      "text/plain": [
       "NormaltestResult(statistic=68.52420515273974, pvalue=1.31873615359144e-15)"
      ]
     },
     "execution_count": 20,
     "metadata": {},
     "output_type": "execute_result"
    }
   ],
   "source": [
    "normal_test = stats.normaltest(jan['arr_delay'].sample(100), nan_policy='omit')\n",
    "normal_test"
   ]
  },
  {
   "cell_type": "code",
   "execution_count": 21,
   "metadata": {},
   "outputs": [
    {
     "data": {
      "text/plain": [
       "NormaltestResult(statistic=229624.47239632078, pvalue=0.0)"
      ]
     },
     "execution_count": 21,
     "metadata": {},
     "output_type": "execute_result"
    }
   ],
   "source": [
    "normal_test = stats.normaltest(jan['arr_delay'], nan_policy='omit')\n",
    "normal_test"
   ]
  },
  {
   "cell_type": "code",
   "execution_count": 22,
   "metadata": {},
   "outputs": [
    {
     "name": "stdout",
     "output_type": "stream",
     "text": [
      "Arrival delay Mean: 4.714467278340935\n",
      "Arrival delay Median: -7.0\n",
      "Arrival delay Standard Deviation: 52.089993263135916\n"
     ]
    }
   ],
   "source": [
    "print(f\"Arrival delay Mean: {jan['arr_delay'].mean()}\")\n",
    "print(f\"Arrival delay Median: {jan['arr_delay'].median()}\")\n",
    "print(f\"Arrival delay Standard Deviation: {jan['arr_delay'].std()}\")"
   ]
  },
  {
   "cell_type": "code",
   "execution_count": 26,
   "metadata": {},
   "outputs": [
    {
     "data": {
      "text/plain": [
       "AndersonResult(statistic=inf, critical_values=array([0.921, 1.077, 1.34 , 1.605, 1.956]), significance_level=array([15. , 10. ,  5. ,  2.5,  1. ]))"
      ]
     },
     "execution_count": 26,
     "metadata": {},
     "output_type": "execute_result"
    }
   ],
   "source": [
    "anderson_test = stats.anderson(jan['arr_delay'].sample(1000), dist='expon')\n",
    "anderson_test"
   ]
  },
  {
   "cell_type": "markdown",
   "metadata": {},
   "source": [
    "#### **Task 2**: \n",
    "Is average/median monthly delay different during the year? If yes, which are months with the biggest delays and what could be the reason?"
   ]
  },
  {
   "cell_type": "code",
   "execution_count": 117,
   "metadata": {},
   "outputs": [],
   "source": [
    "# loop through each month. Calculate mean and median of arr_delay. build dataframe with monthstats\n",
    "years = ['2018', '2019']\n",
    "months = [f'{i:02}'for i in range(1,13)]\n",
    "monthly_stats = []\n",
    "for year in years:\n",
    "    for month in months:\n",
    "        month_df = pd.read_csv(f'data/{month}_{year}_flights.csv', index_col=0, low_memory=False)\n",
    "        month_df.dropna(inplace=True,subset=['arr_delay'])\n",
    "        monthly_stats.append({'year': year,'month':month, 'mean': month_df['arr_delay'].mean(),'median': month_df['arr_delay'].median(), 'total_flights': month_df['mkt_unique_carrier'].count()})\n",
    "\n",
    "monthly_stat_df = pd.DataFrame(monthly_stats)"
   ]
  },
  {
   "cell_type": "code",
   "execution_count": 118,
   "metadata": {},
   "outputs": [
    {
     "data": {
      "text/html": [
       "<div>\n",
       "<style scoped>\n",
       "    .dataframe tbody tr th:only-of-type {\n",
       "        vertical-align: middle;\n",
       "    }\n",
       "\n",
       "    .dataframe tbody tr th {\n",
       "        vertical-align: top;\n",
       "    }\n",
       "\n",
       "    .dataframe thead th {\n",
       "        text-align: right;\n",
       "    }\n",
       "</style>\n",
       "<table border=\"1\" class=\"dataframe\">\n",
       "  <thead>\n",
       "    <tr style=\"text-align: right;\">\n",
       "      <th></th>\n",
       "      <th>year</th>\n",
       "      <th>month</th>\n",
       "      <th>mean</th>\n",
       "      <th>median</th>\n",
       "      <th>total_flights</th>\n",
       "    </tr>\n",
       "  </thead>\n",
       "  <tbody>\n",
       "    <tr>\n",
       "      <th>17</th>\n",
       "      <td>2019</td>\n",
       "      <td>06</td>\n",
       "      <td>11.993984</td>\n",
       "      <td>-4.0</td>\n",
       "      <td>677024</td>\n",
       "    </tr>\n",
       "    <tr>\n",
       "      <th>7</th>\n",
       "      <td>2018</td>\n",
       "      <td>08</td>\n",
       "      <td>10.082958</td>\n",
       "      <td>-4.0</td>\n",
       "      <td>684505</td>\n",
       "    </tr>\n",
       "    <tr>\n",
       "      <th>13</th>\n",
       "      <td>2019</td>\n",
       "      <td>02</td>\n",
       "      <td>9.306549</td>\n",
       "      <td>-4.0</td>\n",
       "      <td>562827</td>\n",
       "    </tr>\n",
       "    <tr>\n",
       "      <th>6</th>\n",
       "      <td>2018</td>\n",
       "      <td>07</td>\n",
       "      <td>8.983223</td>\n",
       "      <td>-4.0</td>\n",
       "      <td>686530</td>\n",
       "    </tr>\n",
       "    <tr>\n",
       "      <th>18</th>\n",
       "      <td>2019</td>\n",
       "      <td>07</td>\n",
       "      <td>8.971920</td>\n",
       "      <td>-6.0</td>\n",
       "      <td>700359</td>\n",
       "    </tr>\n",
       "  </tbody>\n",
       "</table>\n",
       "</div>"
      ],
      "text/plain": [
       "    year month       mean  median  total_flights\n",
       "17  2019    06  11.993984    -4.0         677024\n",
       "7   2018    08  10.082958    -4.0         684505\n",
       "13  2019    02   9.306549    -4.0         562827\n",
       "6   2018    07   8.983223    -4.0         686530\n",
       "18  2019    07   8.971920    -6.0         700359"
      ]
     },
     "execution_count": 118,
     "metadata": {},
     "output_type": "execute_result"
    }
   ],
   "source": [
    "monthly_stat_df.sort_values(['mean'], ascending=False).head(5)"
   ]
  },
  {
   "cell_type": "code",
   "execution_count": 170,
   "metadata": {},
   "outputs": [
    {
     "data": {
      "image/png": "[encoded data removed]",
      "text/plain": [
       "<Figure size 1080x504 with 1 Axes>"
      ]
     },
     "metadata": {
      "needs_background": "light"
     },
     "output_type": "display_data"
    }
   ],
   "source": [
    "fig, ax = plt.subplots(figsize=(15,7)) \n",
    "\n",
    "monthly_stat_df['datetime'] = pd.to_datetime(monthly_stat_df['year']+ ' ' + monthly_stat_df['month'],format='%Y %m')\n",
    "plt.plot(monthly_stat_df['datetime'],monthly_stat_df['mean'], label='Mean Delay')\n",
    "plt.plot(monthly_stat_df['datetime'],monthly_stat_df['total_flights']/100000, label='Total Flights x100k')\n",
    "ax.xaxis.set_major_locator(mdates.MonthLocator())\n",
    "#ax.xaxis.set_minor_locator(mdates.MonthLocator())\n",
    "ax.xaxis.set_major_formatter(mdates.DateFormatter('%Y-%b'))\n",
    "plt.xticks(rotation=90)\n",
    "plt.ylabel('Mean Monthly Delay')\n",
    "plt.xlabel('Date')\n",
    "plt.title('2018/2019 Month Mean Delay')\n",
    "plt.legend()\n",
    "#plt.savefig('monthly_mean_delay.png')\n",
    "plt.show()"
   ]
  },
  {
   "cell_type": "code",
   "execution_count": null,
   "metadata": {},
   "outputs": [],
   "source": []
  },
  {
   "cell_type": "code",
   "execution_count": 158,
   "metadata": {
    "tags": []
   },
   "outputs": [],
   "source": [
    "# compare mean monthly delay to total precip from destination and origin\n",
    "years = ['2019']\n",
    "months = ['01']\n",
    "daily_stats_df = pd.DataFrame()\n",
    "for year in years:\n",
    "    for month in months:\n",
    "        month_df = pd.read_csv(f'data/{month}_{year}_flights_weather.csv', low_memory=False)\n",
    "        month_df.dropna(inplace=True,subset=['arr_delay'])\n",
    "        grouped_df = month_df.groupby(['date']).agg({'arr_delay': 'mean', \n",
    "                                                     'mkt_unique_carrier': 'count', \n",
    "                                                     'precip_origin': 'sum', \n",
    "                                                     'precip_dest': 'sum', \n",
    "                                                     'visibility_origin': 'mean', \n",
    "                                                     'visibility_dest': 'mean' }).reset_index()\n",
    "        daily_stats_df= pd.concat([daily_stats_df,grouped_df], ignore_index=True)\n"
   ]
  },
  {
   "cell_type": "code",
   "execution_count": 159,
   "metadata": {},
   "outputs": [
    {
     "data": {
      "text/html": [
       "<div>\n",
       "<style scoped>\n",
       "    .dataframe tbody tr th:only-of-type {\n",
       "        vertical-align: middle;\n",
       "    }\n",
       "\n",
       "    .dataframe tbody tr th {\n",
       "        vertical-align: top;\n",
       "    }\n",
       "\n",
       "    .dataframe thead th {\n",
       "        text-align: right;\n",
       "    }\n",
       "</style>\n",
       "<table border=\"1\" class=\"dataframe\">\n",
       "  <thead>\n",
       "    <tr style=\"text-align: right;\">\n",
       "      <th></th>\n",
       "      <th>date</th>\n",
       "      <th>arr_delay</th>\n",
       "      <th>mkt_unique_carrier</th>\n",
       "      <th>precip_origin</th>\n",
       "      <th>precip_dest</th>\n",
       "      <th>visibility_origin</th>\n",
       "      <th>visibility_dest</th>\n",
       "    </tr>\n",
       "  </thead>\n",
       "  <tbody>\n",
       "    <tr>\n",
       "      <th>0</th>\n",
       "      <td>2019-01-01</td>\n",
       "      <td>6.577255</td>\n",
       "      <td>19494</td>\n",
       "      <td>592.0</td>\n",
       "      <td>1400.2</td>\n",
       "      <td>9.435365</td>\n",
       "      <td>9.405509</td>\n",
       "    </tr>\n",
       "    <tr>\n",
       "      <th>1</th>\n",
       "      <td>2019-01-02</td>\n",
       "      <td>8.737574</td>\n",
       "      <td>22090</td>\n",
       "      <td>4059.5</td>\n",
       "      <td>4233.6</td>\n",
       "      <td>9.103984</td>\n",
       "      <td>9.075283</td>\n",
       "    </tr>\n",
       "    <tr>\n",
       "      <th>2</th>\n",
       "      <td>2019-01-03</td>\n",
       "      <td>2.651218</td>\n",
       "      <td>21188</td>\n",
       "      <td>3554.4</td>\n",
       "      <td>3364.3</td>\n",
       "      <td>8.994950</td>\n",
       "      <td>9.078016</td>\n",
       "    </tr>\n",
       "    <tr>\n",
       "      <th>3</th>\n",
       "      <td>2019-01-04</td>\n",
       "      <td>-2.449679</td>\n",
       "      <td>21333</td>\n",
       "      <td>3259.0</td>\n",
       "      <td>3264.3</td>\n",
       "      <td>9.456663</td>\n",
       "      <td>9.447476</td>\n",
       "    </tr>\n",
       "    <tr>\n",
       "      <th>4</th>\n",
       "      <td>2019-01-05</td>\n",
       "      <td>1.653936</td>\n",
       "      <td>18355</td>\n",
       "      <td>2574.2</td>\n",
       "      <td>2635.2</td>\n",
       "      <td>9.394443</td>\n",
       "      <td>9.412803</td>\n",
       "    </tr>\n",
       "  </tbody>\n",
       "</table>\n",
       "</div>"
      ],
      "text/plain": [
       "         date  arr_delay  mkt_unique_carrier  precip_origin  precip_dest  \\\n",
       "0  2019-01-01   6.577255               19494          592.0       1400.2   \n",
       "1  2019-01-02   8.737574               22090         4059.5       4233.6   \n",
       "2  2019-01-03   2.651218               21188         3554.4       3364.3   \n",
       "3  2019-01-04  -2.449679               21333         3259.0       3264.3   \n",
       "4  2019-01-05   1.653936               18355         2574.2       2635.2   \n",
       "\n",
       "   visibility_origin  visibility_dest  \n",
       "0           9.435365         9.405509  \n",
       "1           9.103984         9.075283  \n",
       "2           8.994950         9.078016  \n",
       "3           9.456663         9.447476  \n",
       "4           9.394443         9.412803  "
      ]
     },
     "execution_count": 159,
     "metadata": {},
     "output_type": "execute_result"
    }
   ],
   "source": [
    "daily_stats_df.head()"
   ]
  },
  {
   "cell_type": "code",
   "execution_count": 167,
   "metadata": {},
   "outputs": [
    {
     "data": {
      "image/png": "[encoded data removed]",
      "text/plain": [
       "<Figure size 1224x504 with 1 Axes>"
      ]
     },
     "metadata": {
      "needs_background": "light"
     },
     "output_type": "display_data"
    }
   ],
   "source": [
    "fig, ax = plt.subplots(figsize=(17,7)) \n",
    "ax.xaxis.set_major_formatter(mdates.DateFormatter('%b-%d'))\n",
    "\n",
    "plt.plot(daily_stats_df['date'],daily_stats_df['arr_delay'], label='Mean Daily Delay')\n",
    "plt.plot(daily_stats_df['date'], (daily_stats_df['precip_origin'] + daily_stats_df['precip_dest'])/ 1000 ,label='Total Precip MM x1k')\n",
    "plt.plot(daily_stats_df['date'], (daily_stats_df['visibility_origin'] + daily_stats_df['visibility_dest']),label='Mean Visibility')\n",
    "plt.ylabel('Mean Daily Delay')\n",
    "plt.xlabel('Date')\n",
    "plt.xticks(rotation=45)\n",
    "plt.title('Jan 2019')\n",
    "plt.legend()\n",
    "#plt.savefig('daily_delay_mean_vs_precip_vs_visibility_jan_2019')\n",
    "plt.show()"
   ]
  },
  {
   "cell_type": "code",
   "execution_count": null,
   "metadata": {},
   "outputs": [],
   "source": []
  },
  {
   "cell_type": "code",
   "execution_count": 127,
   "metadata": {
    "tags": []
   },
   "outputs": [],
   "source": [
    "# loop through each month. Calculate mean and median of arr_delay per day. build dataframe with monthstats\n",
    "years = ['2018', '2019']\n",
    "months = [f'{i:02}'for i in range(1,13)]\n",
    "\n",
    "monthly_stats_df = pd.DataFrame()\n",
    "\n",
    "for year in years:\n",
    "    for month in months:\n",
    "        month_df = pd.read_csv(f'data/{month}_{year}_flights.csv', index_col=0, low_memory=False)\n",
    "        month_df.dropna(inplace=True,subset=['arr_delay'])\n",
    "        daily_means = month_df.groupby(['fl_date']).agg({'arr_delay': 'mean', 'mkt_unique_carrier': 'count'}).reset_index()\n",
    "        monthly_stats_df= pd.concat([monthly_stats_df,daily_means], ignore_index=True)\n",
    "    \n"
   ]
  },
  {
   "cell_type": "code",
   "execution_count": 83,
   "metadata": {},
   "outputs": [],
   "source": [
    "monthly_stats_df.to_csv('data/daily_delay_mean.csv')"
   ]
  },
  {
   "cell_type": "code",
   "execution_count": 84,
   "metadata": {},
   "outputs": [
    {
     "data": {
      "text/html": [
       "<div>\n",
       "<style scoped>\n",
       "    .dataframe tbody tr th:only-of-type {\n",
       "        vertical-align: middle;\n",
       "    }\n",
       "\n",
       "    .dataframe tbody tr th {\n",
       "        vertical-align: top;\n",
       "    }\n",
       "\n",
       "    .dataframe thead th {\n",
       "        text-align: right;\n",
       "    }\n",
       "</style>\n",
       "<table border=\"1\" class=\"dataframe\">\n",
       "  <thead>\n",
       "    <tr style=\"text-align: right;\">\n",
       "      <th></th>\n",
       "      <th>fl_date</th>\n",
       "      <th>arr_delay</th>\n",
       "      <th>mkt_unique_carrier</th>\n",
       "    </tr>\n",
       "  </thead>\n",
       "  <tbody>\n",
       "    <tr>\n",
       "      <th>0</th>\n",
       "      <td>2018-01-01</td>\n",
       "      <td>14.482766</td>\n",
       "      <td>19090</td>\n",
       "    </tr>\n",
       "    <tr>\n",
       "      <th>1</th>\n",
       "      <td>2018-01-02</td>\n",
       "      <td>11.243284</td>\n",
       "      <td>21329</td>\n",
       "    </tr>\n",
       "    <tr>\n",
       "      <th>2</th>\n",
       "      <td>2018-01-03</td>\n",
       "      <td>7.190095</td>\n",
       "      <td>20111</td>\n",
       "    </tr>\n",
       "    <tr>\n",
       "      <th>3</th>\n",
       "      <td>2018-01-04</td>\n",
       "      <td>2.634698</td>\n",
       "      <td>16589</td>\n",
       "    </tr>\n",
       "    <tr>\n",
       "      <th>4</th>\n",
       "      <td>2018-01-05</td>\n",
       "      <td>12.686591</td>\n",
       "      <td>19457</td>\n",
       "    </tr>\n",
       "  </tbody>\n",
       "</table>\n",
       "</div>"
      ],
      "text/plain": [
       "      fl_date  arr_delay  mkt_unique_carrier\n",
       "0  2018-01-01  14.482766               19090\n",
       "1  2018-01-02  11.243284               21329\n",
       "2  2018-01-03   7.190095               20111\n",
       "3  2018-01-04   2.634698               16589\n",
       "4  2018-01-05  12.686591               19457"
      ]
     },
     "execution_count": 84,
     "metadata": {},
     "output_type": "execute_result"
    }
   ],
   "source": [
    "monthly_stats_df.head()"
   ]
  },
  {
   "cell_type": "code",
   "execution_count": 105,
   "metadata": {},
   "outputs": [
    {
     "data": {
      "image/png": "[encoded data removed]",
      "text/plain": [
       "<Figure size 1224x504 with 1 Axes>"
      ]
     },
     "metadata": {
      "needs_background": "light"
     },
     "output_type": "display_data"
    }
   ],
   "source": [
    "fig, ax = plt.subplots(figsize=(17,7)) \n",
    "ax.xaxis.set_major_formatter(mdates.DateFormatter('%b-%d'))\n",
    "jan_mean_daily_delay = monthly_stats_df[monthly_stats_df['fl_date'].str.contains('2019-01')]\n",
    "plt.plot(jan_mean_daily_delay['fl_date'],jan_mean_daily_delay['arr_delay'], label='Mean Daily Delay')\n",
    "plt.plot(jan_mean_daily_delay['fl_date'], jan_mean_daily_delay['mkt_unique_carrier']/1000,label='Total Flights x 1k')\n",
    "plt.ylabel('Mean Daily Delay')\n",
    "plt.xlabel('Date')\n",
    "plt.xticks(rotation=45)\n",
    "plt.title('Jan 2019')\n",
    "plt.legend()\n",
    "plt.savefig('daily_delay_mean_vs_flights_jan_2019')\n",
    "plt.show()"
   ]
  },
  {
   "cell_type": "markdown",
   "metadata": {},
   "source": [
    "#### **Task 3**: \n",
    "Does the weather affect the delay? \n",
    "Use the API to pull the weather information for flights. There is no need to get weather for ALL flights. We can choose the right representative sample. Let's focus on four weather types:\n",
    "- sunny\n",
    "- cloudy\n",
    "- rainy\n",
    "- snow.\n",
    "Test the hypothesis that these 4 delays are from the same distribution. If they are not, which ones are significantly different?"
   ]
  },
  {
   "cell_type": "code",
   "execution_count": 172,
   "metadata": {},
   "outputs": [],
   "source": [
    "# get weather data for a particular city from startdate to enddate\n",
    "def get_wwo_weather(city, startdate, enddate):\n",
    "    params = {'q':city,\n",
    "              'date': startdate,\n",
    "              'enddate': enddate, \n",
    "              'tp':1, \n",
    "              'format': 'json',\n",
    "              'key': cfg.WEATHER_KEY\n",
    "             }\n",
    "    url = \"https://api.worldweatheronline.com/premium/v1/past-weather.ashx\"\n",
    "\n",
    "    response = requests.get(url=url, params=params)\n",
    "    if response.status_code == 200:\n",
    "        return response.json()\n",
    "    else:\n",
    "        raise"
   ]
  },
  {
   "cell_type": "code",
   "execution_count": null,
   "metadata": {
    "tags": []
   },
   "outputs": [],
   "source": [
    "response = get_wwo_weather('CDC', '2018-01-01', '2018-01-31')"
   ]
  },
  {
   "cell_type": "markdown",
   "metadata": {},
   "source": [
    "Get weather data for all orgin and destination cities on a particular day"
   ]
  },
  {
   "cell_type": "code",
   "execution_count": 173,
   "metadata": {},
   "outputs": [],
   "source": [
    "def parse_json_weather(response):\n",
    "    \"\"\" Parses response from wwo_get_weather(). \n",
    "        Returns df with hourly weather from all dates in the the response \"\"\"\n",
    "    \n",
    "    # result = response.json()\n",
    "    result = response\n",
    "    dates = range(len(result['data']['weather']))\n",
    "    parsed_weather_df = pd.DataFrame()\n",
    "    \n",
    "    for index in dates:\n",
    "        date = result['data']['weather'][index]['date']\n",
    "        \n",
    "        time = [x['time'] for x in result['data']['weather'][index]['hourly']]\n",
    "        description = [x['weatherDesc'][0]['value'] for x in result['data']['weather'][index]['hourly']]\n",
    "        precip = [x['precipMM'] for x in result['data']['weather'][index]['hourly']]\n",
    "        windspeedKmph = [x['windspeedKmph'] for x in result['data']['weather'][index]['hourly']]\n",
    "        winddirDegree = [x['winddirDegree'] for x in result['data']['weather'][index]['hourly']]\n",
    "        visibility = [x['visibility'] for x in result['data']['weather'][index]['hourly']]\n",
    "        DewPointC = [x['DewPointC'] for x in result['data']['weather'][index]['hourly']]\n",
    "        pressure = [x['pressure'] for x in result['data']['weather'][index]['hourly']]\n",
    "        cloudcover = [x['cloudcover'] for x in result['data']['weather'][index]['hourly']]\n",
    "        WindGustKmph = [x['WindGustKmph'] for x in result['data']['weather'][index]['hourly']]\n",
    "        humidity = [x['humidity'] for x in result['data']['weather'][index]['hourly']]\n",
    "        tempC = [x['tempC'] for x in result['data']['weather'][index]['hourly']]\n",
    "        \n",
    "        df_temp = pd.DataFrame({'date': date, \n",
    "                                'time': time, \n",
    "                                'description': description, \n",
    "                                'precip': precip, \n",
    "                                'windspeedKmph': windspeedKmph, \n",
    "                                'winddirDegree': winddirDegree,\n",
    "                                'visibility': visibility,\n",
    "                                'DewPointC': DewPointC,\n",
    "                                'pressure': pressure,\n",
    "                                'cloudcover': cloudcover,\n",
    "                                'WindGustKmph': WindGustKmph,\n",
    "                                'humidity': humidity,\n",
    "                                'tempC': tempC\n",
    "                               })                                \n",
    "        \n",
    "        parsed_weather_df = pd.concat([parsed_weather_df, df_temp])\n",
    "    return parsed_weather_df"
   ]
  },
  {
   "cell_type": "code",
   "execution_count": null,
   "metadata": {
    "tags": []
   },
   "outputs": [],
   "source": [
    "parse_json_weather(response)"
   ]
  },
  {
   "cell_type": "code",
   "execution_count": 174,
   "metadata": {
    "tags": []
   },
   "outputs": [],
   "source": [
    "def get_cities_weather(year, month):\n",
    "    \"\"\"loop through all departure and arrival cities during month/year and send request for weather for each city. \n",
    "    Finally, append weather information to cities_weather[start_date]-[end_date].csv\"\"\"\n",
    "    \n",
    "    start_date = [f'{year}-{month}-01']\n",
    "    end_date = [f'{year}-{month}-{monthrange(int(year), int(month))[1]}'] \n",
    "\n",
    "    #list of unique cities to iterate through and get weather data\n",
    "    month_df = pd.read_csv(f'data/{month}_{year}_flights.csv', index_col=0)\n",
    "    cities = list(set(month_df['origin'].append(month_df['dest'])))\n",
    "\n",
    "    cities_df = pd.DataFrame()\n",
    "    result_df = pd.DataFrame()\n",
    "    index = -1\n",
    "    errors = []   # track which cities had errors getting weather\n",
    "    from_file = 0    # number of cities loaded from file\n",
    "    from_wwo = 0    # number of cities loaded from world weather online\n",
    "\n",
    "    while index < len(cities) - 1:\n",
    "        index += 1\n",
    "        try:\n",
    "            #open response from file\n",
    "            with open(f'data/weather_resp/{cities[index]}_{start_date}-{end_date}_weather.json') as f:\n",
    "                response = json.load(f)\n",
    "            result_df = parse_json_weather(response)\n",
    "            from_file += 1\n",
    "               \n",
    "        except:\n",
    "            # get weather from world weather online api if not in file\n",
    "            try:\n",
    "                response = get_wwo_weather(cities[index], start_date, end_date)\n",
    "                #save result to file\n",
    "                with open(f'data/weather_resp/{cities[index]}_{start_date}-{end_date}_weather.json', 'w') as outfile:\n",
    "                    json.dump(response, outfile)   \n",
    "                \n",
    "                result_df = parse_json_weather(response)\n",
    "                from_wwo += 1\n",
    "            except:\n",
    "                \n",
    "                errors.append(f\"{cities[index]}\")\n",
    "                continue\n",
    "\n",
    "        \n",
    "\n",
    "        # add column with the city code    \n",
    "        result_df['city'] = cities[index]\n",
    "        cities_df = pd.concat([cities_df, result_df], ignore_index=True)\n",
    "        print(f\"Complete. Errors: {errors} . Opened {from_file} from file, {from_wwo} from wwo.\")\n",
    "\n",
    "\n",
    "    cities_df.to_csv(f'data/{month}_{year}_weather.csv', index=False)"
   ]
  },
  {
   "cell_type": "code",
   "execution_count": null,
   "metadata": {
    "tags": []
   },
   "outputs": [],
   "source": [
    "get_cities_weather('2018', '01')"
   ]
  },
  {
   "cell_type": "code",
   "execution_count": 175,
   "metadata": {},
   "outputs": [],
   "source": [
    "#convert column in df to datetime\n",
    "def convert_to_datetime(df, column):\n",
    "    df.loc[:,column] = [f'{x:04}' for x in df[column]]\n",
    "    df.loc[:,column].replace(to_replace='2400', value='0000', inplace=True) #replace 2400hr with 0000hr to avoid to_datetime error\n",
    "    df.loc[:,column] = pd.to_datetime(df['date']+ ' ' + df[column],format='%Y-%m-%d %H%M')\n",
    "    return df[column]"
   ]
  },
  {
   "cell_type": "markdown",
   "metadata": {},
   "source": [
    "Testing merging dataframe on departure city"
   ]
  },
  {
   "cell_type": "code",
   "execution_count": 177,
   "metadata": {},
   "outputs": [],
   "source": [
    "def merge_flights_weather(year, month):\n",
    "    try:\n",
    "        joined_df = pd.read_csv(f'data/{month}_{year}_flights_weather.csv')\n",
    "    except:    \n",
    "        #load flights\n",
    "        flights_df = pd.read_csv(f\"data/{month}_{year}_flights.csv\", index_col=0)\n",
    "        \n",
    "        #load weather\n",
    "        weather_df = pd.read_csv(f\"data/{month}_{year}_weather.csv\")\n",
    "\n",
    "        #drop na dep and arr times\n",
    "        #flights_df.dropna(axis=0, subset=['dep_time', 'arr_time'], inplace=True)\n",
    "        \n",
    "        #change 'fl_date' column to 'date' for convert to datetime function next step\n",
    "        flights_df = flights_df.rename({'fl_date': 'date'}, axis=1)\n",
    "        \n",
    "        # convert planned depture time and planned arrival time to datetime\n",
    "        flights_df['crs_dep_time'] = convert_to_datetime(flights_df, 'crs_dep_time')\n",
    "        flights_df['crs_arr_time'] = convert_to_datetime(flights_df, 'crs_arr_time')\n",
    "        weather_df['time'] = convert_to_datetime(weather_df, 'time')\n",
    "\n",
    "        # create column for dep hr and arr hour to use for merging on\n",
    "        flights_df['crs_dep_time_hr'] = flights_df['crs_dep_time'].dt.round('H').dt.hour\n",
    "        flights_df['crs_arr_time_hr'] = flights_df['crs_arr_time'].dt.round('H').dt.hour\n",
    "        weather_df['time_hr'] = weather_df['time'].dt.round('H').dt.hour\n",
    "\n",
    "        # merge flights and origin city weather\n",
    "        dep_joined = pd.merge(flights_df, weather_df, left_on=['date','origin','crs_dep_time_hr'], right_on=['date', 'city', 'time_hr'])\n",
    "        # merge result with destination city weather\n",
    "        joined_df = pd.merge(dep_joined, weather_df, left_on=['date','dest','crs_arr_time_hr'], right_on=['date', 'city', 'time_hr'], suffixes=('_origin', '_dest'))\n",
    "\n",
    "        joined_df.to_csv(f'data/{month}_{year}_flights_weather.csv', index=False)\n",
    "    return joined_df"
   ]
  },
  {
   "cell_type": "code",
   "execution_count": 178,
   "metadata": {
    "tags": []
   },
   "outputs": [],
   "source": [
    "merged_df = merge_flights_weather('2019','01')"
   ]
  },
  {
   "cell_type": "code",
   "execution_count": null,
   "metadata": {
    "tags": []
   },
   "outputs": [],
   "source": [
    "\n",
    "corrMatrix = merged_df[cols_to_keep].corr()\n",
    "fig, ax = plt.subplots(figsize=(18,18)) \n",
    "sn.heatmap(corrMatrix, annot=True)\n",
    "plt.savefig('weather_corr_matrix')\n",
    "plt.show()\n"
   ]
  },
  {
   "cell_type": "code",
   "execution_count": null,
   "metadata": {
    "jupyter": {
     "source_hidden": true
    },
    "tags": []
   },
   "outputs": [],
   "source": [
    "all_cols = ['date',\n",
    "            'mkt_unique_carrier',\n",
    "            'branded_code_share',\n",
    "            'mkt_carrier',\n",
    "            'mkt_carrier_fl_num',\n",
    "            'op_unique_carrier',\n",
    "            'tail_num',\n",
    "            'op_carrier_fl_num',\n",
    "            'origin_airport_id',\n",
    "            'origin',\n",
    "            'origin_city_name',\n",
    "            'dest_airport_id',\n",
    "            'dest',\n",
    "            'dest_city_name',\n",
    "            'crs_dep_time',\n",
    "            'dep_time',\n",
    "            'dep_delay',\n",
    "            'taxi_out',\n",
    "            'wheels_off',\n",
    "            'wheels_on',\n",
    "            'taxi_in',\n",
    "            'crs_arr_time',\n",
    "            'arr_time',\n",
    "            'arr_delay',\n",
    "            'cancelled',\n",
    "            'cancellation_code',\n",
    "            'diverted',\n",
    "            'dup',\n",
    "            'crs_elapsed_time',\n",
    "            'actual_elapsed_time',\n",
    "            'air_time',\n",
    "            'flights',\n",
    "            'distance',\n",
    "            'carrier_delay',\n",
    "            'weather_delay',\n",
    "            'nas_delay',\n",
    "            'security_delay',\n",
    "            'late_aircraft_delay',\n",
    "            'first_dep_time',\n",
    "            'total_add_gtime',\n",
    "            'longest_add_gtime',\n",
    "            'no_name',\n",
    "            'crs_dep_time_hr',\n",
    "            'crs_arr_time_hr',\n",
    "            'time_origin',\n",
    "            'description_origin',\n",
    "            'precip_origin',\n",
    "            'windspeedKmph_origin',\n",
    "            'winddirDegree_origin',\n",
    "            'visibility_origin',\n",
    "            'DewPointC_origin',\n",
    "            'pressure_origin',\n",
    "            'cloudcover_origin',\n",
    "            'WindGustKmph_origin',\n",
    "            'humidity_origin',\n",
    "            'tempC_origin',\n",
    "            'city_origin',\n",
    "            'time_hr_origin',\n",
    "            'time_dest',\n",
    "            'description_dest',\n",
    "            'precip_dest',\n",
    "            'windspeedKmph_dest',\n",
    "            'winddirDegree_dest',\n",
    "            'visibility_dest',\n",
    "            'DewPointC_dest',\n",
    "            'pressure_dest',\n",
    "            'cloudcover_dest',\n",
    "            'WindGustKmph_dest',\n",
    "            'humidity_dest',\n",
    "            'tempC_dest',\n",
    "            'city_dest',\n",
    "            'time_hr_dest']"
   ]
  },
  {
   "cell_type": "code",
   "execution_count": null,
   "metadata": {},
   "outputs": [],
   "source": [
    "merged_df.head()"
   ]
  },
  {
   "cell_type": "code",
   "execution_count": null,
   "metadata": {},
   "outputs": [],
   "source": [
    "cols_to_keep = ['date',\n",
    "                'crs_elapsed_time',\n",
    "                'distance',\n",
    "                'crs_dep_time_hr',\n",
    "                'crs_arr_time_hr',\n",
    "                'description_origin',\n",
    "                'precip_origin',\n",
    "                'windspeedKmph_origin',\n",
    "                'winddirDegree_origin',\n",
    "                'visibility_origin',\n",
    "                'DewPointC_origin',\n",
    "                'pressure_origin',\n",
    "                'cloudcover_origin',\n",
    "                'WindGustKmph_origin',\n",
    "                'humidity_origin',\n",
    "                'tempC_origin',\n",
    "                'city_origin',\n",
    "                'time_hr_origin',\n",
    "                'time_dest',\n",
    "                'description_dest',\n",
    "                'precip_dest',\n",
    "                'windspeedKmph_dest',\n",
    "                'winddirDegree_dest',\n",
    "                'visibility_dest',\n",
    "                'DewPointC_dest',\n",
    "                'pressure_dest',\n",
    "                'cloudcover_dest',\n",
    "                'WindGustKmph_dest',\n",
    "                'humidity_dest',\n",
    "                'tempC_dest',\n",
    "                'city_dest',\n",
    "                'time_hr_dest',\n",
    "                'arr_delay',]\n",
    "\n",
    "merged_df[cols_to_keep].corr()['arr_delay']"
   ]
  },
  {
   "cell_type": "markdown",
   "metadata": {},
   "source": [
    "#### **Task 4**: \n",
    "How taxi times changing during the day? Does higher traffic lead to bigger taxi times?"
   ]
  },
  {
   "cell_type": "code",
   "execution_count": null,
   "metadata": {},
   "outputs": [],
   "source": []
  },
  {
   "cell_type": "code",
   "execution_count": null,
   "metadata": {},
   "outputs": [],
   "source": []
  },
  {
   "cell_type": "markdown",
   "metadata": {},
   "source": [
    "#### **Task 5**:\n",
    "What is the average percentage of delays that is already created before departure? (aka are arrival delays caused by departure delays?) Are airlines able to lower the delay during the flights?"
   ]
  },
  {
   "cell_type": "code",
   "execution_count": null,
   "metadata": {},
   "outputs": [],
   "source": []
  },
  {
   "cell_type": "code",
   "execution_count": null,
   "metadata": {},
   "outputs": [],
   "source": []
  },
  {
   "cell_type": "markdown",
   "metadata": {},
   "source": [
    "#### **Task 6**: \n",
    "How many states cover 50% of US air traffic? "
   ]
  },
  {
   "cell_type": "code",
   "execution_count": null,
   "metadata": {},
   "outputs": [],
   "source": []
  },
  {
   "cell_type": "code",
   "execution_count": null,
   "metadata": {},
   "outputs": [],
   "source": []
  },
  {
   "cell_type": "markdown",
   "metadata": {},
   "source": [
    "#### **Task 7**: \n",
    "Test the hypothesis whether planes fly faster when there is the departure delay? "
   ]
  },
  {
   "cell_type": "code",
   "execution_count": null,
   "metadata": {},
   "outputs": [],
   "source": []
  },
  {
   "cell_type": "code",
   "execution_count": null,
   "metadata": {},
   "outputs": [],
   "source": []
  },
  {
   "cell_type": "markdown",
   "metadata": {},
   "source": [
    "#### **Task 8**: \n",
    "When (which hour) do most 'LONG', 'SHORT', 'MEDIUM' haul flights take off?"
   ]
  },
  {
   "cell_type": "code",
   "execution_count": null,
   "metadata": {},
   "outputs": [],
   "source": []
  },
  {
   "cell_type": "code",
   "execution_count": null,
   "metadata": {},
   "outputs": [],
   "source": []
  },
  {
   "cell_type": "markdown",
   "metadata": {},
   "source": [
    "#### **Task 9**: \n",
    "Find the top 10 the bussiest airports. Does the biggest number of flights mean that the biggest number of passengers went through the particular airport? How much traffic do these 10 airports cover?"
   ]
  },
  {
   "cell_type": "code",
   "execution_count": null,
   "metadata": {},
   "outputs": [],
   "source": []
  },
  {
   "cell_type": "code",
   "execution_count": null,
   "metadata": {},
   "outputs": [],
   "source": []
  },
  {
   "cell_type": "markdown",
   "metadata": {},
   "source": [
    "#### **Task 10**: \n",
    "Do bigger delays lead to bigger fuel comsumption per passenger? \n",
    "We need to do four things to answer this as accurate as possible:\n",
    "- Find out average monthly delay per air carrier (monthly delay is sum of all delays in 1 month)\n",
    "- Find out distance covered monthly by different air carriers\n",
    "- Find out number of passengers that were carried by different air carriers\n",
    "- Find out total fuel comsumption per air carrier.\n",
    "\n",
    "Use this information to get the average fuel comsumption per passenger per km. Is this higher for the airlines with bigger average delays?"
   ]
  },
  {
   "cell_type": "code",
   "execution_count": null,
   "metadata": {},
   "outputs": [],
   "source": []
  },
  {
   "cell_type": "code",
   "execution_count": null,
   "metadata": {},
   "outputs": [],
   "source": []
  }
 ],
 "metadata": {
  "kernelspec": {
   "display_name": "py3.6",
   "language": "python",
   "name": "py3.6"
  },
  "language_info": {
   "codemirror_mode": {
    "name": "ipython",
    "version": 3
   },
   "file_extension": ".py",
   "mimetype": "text/x-python",
   "name": "python",
   "nbconvert_exporter": "python",
   "pygments_lexer": "ipython3",
   "version": "3.6.13"
  },
  "toc": {
   "base_numbering": 1,
   "nav_menu": {},
   "number_sections": true,
   "sideBar": true,
   "skip_h1_title": false,
   "title_cell": "Table of Contents",
   "title_sidebar": "Contents",
   "toc_cell": false,
   "toc_position": {},
   "toc_section_display": true,
   "toc_window_display": false
  },
  "varInspector": {
   "cols": {
    "lenName": 16,
    "lenType": 16,
    "lenVar": 40
   },
   "kernels_config": {
    "python": {
     "delete_cmd_postfix": "",
     "delete_cmd_prefix": "del ",
     "library": "var_list.py",
     "varRefreshCmd": "print(var_dic_list())"
    },
    "r": {
     "delete_cmd_postfix": ") ",
     "delete_cmd_prefix": "rm(",
     "library": "var_list.r",
     "varRefreshCmd": "cat(var_dic_list()) "
    }
   },
   "types_to_exclude": [
    "module",
    "function",
    "builtin_function_or_method",
    "instance",
    "_Feature"
   ],
   "window_display": false
  }
 },
 "nbformat": 4,
 "nbformat_minor": 4
}
