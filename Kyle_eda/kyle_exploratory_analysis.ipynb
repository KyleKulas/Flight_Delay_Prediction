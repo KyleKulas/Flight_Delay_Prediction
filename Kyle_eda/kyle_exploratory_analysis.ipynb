{
 "cells": [
  {
   "cell_type": "markdown",
   "metadata": {
    "tags": []
   },
   "source": [
    "## Exploratory Data Analysis\n",
    "\n",
    "Use this notebook to get familiar with the datasets we have. There is 10 questions we need to answer during the EDA.\n",
    "\n",
    "\n",
    "We shouldn't limit our EDA to these 10 questions. Let's be creative :)."
   ]
  },
  {
   "cell_type": "markdown",
   "metadata": {},
   "source": [
    "#### Connect to Database"
   ]
  },
  {
   "cell_type": "code",
   "execution_count": 8,
   "metadata": {},
   "outputs": [],
   "source": [
    "import psycopg2\n",
    "import pandas as pd\n",
    "import config as cfg\n",
    "from scipy import stats"
   ]
  },
  {
   "cell_type": "code",
   "execution_count": 3,
   "metadata": {},
   "outputs": [],
   "source": [
    "# Create a connection to the midterm database \n",
    "con = psycopg2.connect(database=cfg.DATABASE, \n",
    "                       user=cfg.USER, \n",
    "                       password=cfg.PASSWORD,\n",
    "                       host=cfg.HOST, \n",
    "                       port=cfg.PORT)\n",
    "cur = con.cursor()"
   ]
  },
  {
   "cell_type": "code",
   "execution_count": 7,
   "metadata": {},
   "outputs": [
    {
     "name": "stdout",
     "output_type": "stream",
     "text": [
      "01_2018 complete\n",
      "02_2018 complete\n",
      "03_2018 complete\n",
      "04_2018 complete\n",
      "05_2018 complete\n",
      "06_2018 complete\n",
      "07_2018 complete\n",
      "08_2018 complete\n",
      "09_2018 complete\n",
      "10_2018 complete\n",
      "11_2018 complete\n",
      "12_2018 complete\n",
      "01_2019 complete\n",
      "02_2019 complete\n",
      "03_2019 complete\n",
      "04_2019 complete\n",
      "05_2019 complete\n",
      "06_2019 complete\n",
      "07_2019 complete\n",
      "08_2019 complete\n",
      "09_2019 complete\n",
      "10_2019 complete\n",
      "11_2019 complete\n",
      "12_2019 complete\n"
     ]
    }
   ],
   "source": [
    "# get flights data by month from 2018,2019 and save to csv\n",
    "\n",
    "years = ['2018', '2019']\n",
    "months = [f'{i:02}'for i in range(1,13)]\n",
    "for year in years:\n",
    "    for month in months:\n",
    "        query = f\"SELECT * FROM flights WHERE fl_date LIKE '{year}-{month}%'\"\n",
    "\n",
    "        pandas_response = pd.read_sql_query(query, con)\n",
    "\n",
    "        pandas_response.to_csv(f'data/{month}_{year}_flights.csv')\n",
    "        print(f'{month}_{year} complete')\n",
    "        "
   ]
  },
  {
   "cell_type": "code",
   "execution_count": 6,
   "metadata": {},
   "outputs": [
    {
     "data": {
      "text/html": [
       "<div>\n",
       "<style scoped>\n",
       "    .dataframe tbody tr th:only-of-type {\n",
       "        vertical-align: middle;\n",
       "    }\n",
       "\n",
       "    .dataframe tbody tr th {\n",
       "        vertical-align: top;\n",
       "    }\n",
       "\n",
       "    .dataframe thead th {\n",
       "        text-align: right;\n",
       "    }\n",
       "</style>\n",
       "<table border=\"1\" class=\"dataframe\">\n",
       "  <thead>\n",
       "    <tr style=\"text-align: right;\">\n",
       "      <th></th>\n",
       "      <th>fl_date</th>\n",
       "      <th>mkt_unique_carrier</th>\n",
       "      <th>mkt_carrier_fl_num</th>\n",
       "      <th>tail_num</th>\n",
       "      <th>origin_airport_id</th>\n",
       "      <th>origin</th>\n",
       "      <th>origin_city_name</th>\n",
       "      <th>dest_airport_id</th>\n",
       "      <th>dest</th>\n",
       "      <th>dest_city_name</th>\n",
       "      <th>...</th>\n",
       "      <th>actual_elapsed_time</th>\n",
       "      <th>air_time</th>\n",
       "      <th>distance</th>\n",
       "      <th>carrier_delay</th>\n",
       "      <th>weather_delay</th>\n",
       "      <th>nas_delay</th>\n",
       "      <th>security_delay</th>\n",
       "      <th>late_aircraft_delay</th>\n",
       "      <th>dup</th>\n",
       "      <th>flights</th>\n",
       "    </tr>\n",
       "  </thead>\n",
       "  <tbody>\n",
       "    <tr>\n",
       "      <th>0</th>\n",
       "      <td>2018-01-01</td>\n",
       "      <td>B6</td>\n",
       "      <td>624</td>\n",
       "      <td>N978JB</td>\n",
       "      <td>12892</td>\n",
       "      <td>LAX</td>\n",
       "      <td>Los Angeles, CA</td>\n",
       "      <td>12478</td>\n",
       "      <td>JFK</td>\n",
       "      <td>New York, NY</td>\n",
       "      <td>...</td>\n",
       "      <td>323.0</td>\n",
       "      <td>295.0</td>\n",
       "      <td>2475.0</td>\n",
       "      <td>5.0</td>\n",
       "      <td>0.0</td>\n",
       "      <td>9.0</td>\n",
       "      <td>0.0</td>\n",
       "      <td>15.0</td>\n",
       "      <td>N</td>\n",
       "      <td>1.0</td>\n",
       "    </tr>\n",
       "    <tr>\n",
       "      <th>1</th>\n",
       "      <td>2018-01-01</td>\n",
       "      <td>B6</td>\n",
       "      <td>508</td>\n",
       "      <td>N353JB</td>\n",
       "      <td>12478</td>\n",
       "      <td>JFK</td>\n",
       "      <td>New York, NY</td>\n",
       "      <td>14321</td>\n",
       "      <td>PWM</td>\n",
       "      <td>Portland, ME</td>\n",
       "      <td>...</td>\n",
       "      <td>86.0</td>\n",
       "      <td>51.0</td>\n",
       "      <td>273.0</td>\n",
       "      <td>NaN</td>\n",
       "      <td>NaN</td>\n",
       "      <td>NaN</td>\n",
       "      <td>NaN</td>\n",
       "      <td>NaN</td>\n",
       "      <td>N</td>\n",
       "      <td>1.0</td>\n",
       "    </tr>\n",
       "    <tr>\n",
       "      <th>2</th>\n",
       "      <td>2018-01-01</td>\n",
       "      <td>B6</td>\n",
       "      <td>511</td>\n",
       "      <td>N579JB</td>\n",
       "      <td>11697</td>\n",
       "      <td>FLL</td>\n",
       "      <td>Fort Lauderdale, FL</td>\n",
       "      <td>10423</td>\n",
       "      <td>AUS</td>\n",
       "      <td>Austin, TX</td>\n",
       "      <td>...</td>\n",
       "      <td>189.0</td>\n",
       "      <td>161.0</td>\n",
       "      <td>1105.0</td>\n",
       "      <td>8.0</td>\n",
       "      <td>0.0</td>\n",
       "      <td>0.0</td>\n",
       "      <td>0.0</td>\n",
       "      <td>237.0</td>\n",
       "      <td>N</td>\n",
       "      <td>1.0</td>\n",
       "    </tr>\n",
       "    <tr>\n",
       "      <th>3</th>\n",
       "      <td>2018-01-01</td>\n",
       "      <td>B6</td>\n",
       "      <td>512</td>\n",
       "      <td>N579JB</td>\n",
       "      <td>10423</td>\n",
       "      <td>AUS</td>\n",
       "      <td>Austin, TX</td>\n",
       "      <td>11697</td>\n",
       "      <td>FLL</td>\n",
       "      <td>Fort Lauderdale, FL</td>\n",
       "      <td>...</td>\n",
       "      <td>156.0</td>\n",
       "      <td>136.0</td>\n",
       "      <td>1105.0</td>\n",
       "      <td>205.0</td>\n",
       "      <td>0.0</td>\n",
       "      <td>4.0</td>\n",
       "      <td>0.0</td>\n",
       "      <td>39.0</td>\n",
       "      <td>N</td>\n",
       "      <td>1.0</td>\n",
       "    </tr>\n",
       "    <tr>\n",
       "      <th>4</th>\n",
       "      <td>2018-01-01</td>\n",
       "      <td>B6</td>\n",
       "      <td>514</td>\n",
       "      <td>N559JB</td>\n",
       "      <td>12954</td>\n",
       "      <td>LGB</td>\n",
       "      <td>Long Beach, CA</td>\n",
       "      <td>12478</td>\n",
       "      <td>JFK</td>\n",
       "      <td>New York, NY</td>\n",
       "      <td>...</td>\n",
       "      <td>301.0</td>\n",
       "      <td>279.0</td>\n",
       "      <td>2465.0</td>\n",
       "      <td>NaN</td>\n",
       "      <td>NaN</td>\n",
       "      <td>NaN</td>\n",
       "      <td>NaN</td>\n",
       "      <td>NaN</td>\n",
       "      <td>N</td>\n",
       "      <td>1.0</td>\n",
       "    </tr>\n",
       "    <tr>\n",
       "      <th>...</th>\n",
       "      <td>...</td>\n",
       "      <td>...</td>\n",
       "      <td>...</td>\n",
       "      <td>...</td>\n",
       "      <td>...</td>\n",
       "      <td>...</td>\n",
       "      <td>...</td>\n",
       "      <td>...</td>\n",
       "      <td>...</td>\n",
       "      <td>...</td>\n",
       "      <td>...</td>\n",
       "      <td>...</td>\n",
       "      <td>...</td>\n",
       "      <td>...</td>\n",
       "      <td>...</td>\n",
       "      <td>...</td>\n",
       "      <td>...</td>\n",
       "      <td>...</td>\n",
       "      <td>...</td>\n",
       "      <td>...</td>\n",
       "      <td>...</td>\n",
       "    </tr>\n",
       "    <tr>\n",
       "      <th>601214</th>\n",
       "      <td>2018-01-31</td>\n",
       "      <td>AA</td>\n",
       "      <td>2053</td>\n",
       "      <td>N545UW</td>\n",
       "      <td>11057</td>\n",
       "      <td>CLT</td>\n",
       "      <td>Charlotte, NC</td>\n",
       "      <td>15304</td>\n",
       "      <td>TPA</td>\n",
       "      <td>Tampa, FL</td>\n",
       "      <td>...</td>\n",
       "      <td>91.0</td>\n",
       "      <td>74.0</td>\n",
       "      <td>507.0</td>\n",
       "      <td>NaN</td>\n",
       "      <td>NaN</td>\n",
       "      <td>NaN</td>\n",
       "      <td>NaN</td>\n",
       "      <td>NaN</td>\n",
       "      <td>N</td>\n",
       "      <td>1.0</td>\n",
       "    </tr>\n",
       "    <tr>\n",
       "      <th>601215</th>\n",
       "      <td>2018-01-31</td>\n",
       "      <td>AA</td>\n",
       "      <td>2053</td>\n",
       "      <td>N545UW</td>\n",
       "      <td>15304</td>\n",
       "      <td>TPA</td>\n",
       "      <td>Tampa, FL</td>\n",
       "      <td>11057</td>\n",
       "      <td>CLT</td>\n",
       "      <td>Charlotte, NC</td>\n",
       "      <td>...</td>\n",
       "      <td>103.0</td>\n",
       "      <td>81.0</td>\n",
       "      <td>507.0</td>\n",
       "      <td>NaN</td>\n",
       "      <td>NaN</td>\n",
       "      <td>NaN</td>\n",
       "      <td>NaN</td>\n",
       "      <td>NaN</td>\n",
       "      <td>N</td>\n",
       "      <td>1.0</td>\n",
       "    </tr>\n",
       "    <tr>\n",
       "      <th>601216</th>\n",
       "      <td>2018-01-31</td>\n",
       "      <td>AA</td>\n",
       "      <td>2054</td>\n",
       "      <td>N722US</td>\n",
       "      <td>11057</td>\n",
       "      <td>CLT</td>\n",
       "      <td>Charlotte, NC</td>\n",
       "      <td>14100</td>\n",
       "      <td>PHL</td>\n",
       "      <td>Philadelphia, PA</td>\n",
       "      <td>...</td>\n",
       "      <td>94.0</td>\n",
       "      <td>71.0</td>\n",
       "      <td>449.0</td>\n",
       "      <td>NaN</td>\n",
       "      <td>NaN</td>\n",
       "      <td>NaN</td>\n",
       "      <td>NaN</td>\n",
       "      <td>NaN</td>\n",
       "      <td>N</td>\n",
       "      <td>1.0</td>\n",
       "    </tr>\n",
       "    <tr>\n",
       "      <th>601217</th>\n",
       "      <td>2018-01-31</td>\n",
       "      <td>AA</td>\n",
       "      <td>2055</td>\n",
       "      <td>N971UY</td>\n",
       "      <td>11057</td>\n",
       "      <td>CLT</td>\n",
       "      <td>Charlotte, NC</td>\n",
       "      <td>13930</td>\n",
       "      <td>ORD</td>\n",
       "      <td>Chicago, IL</td>\n",
       "      <td>...</td>\n",
       "      <td>136.0</td>\n",
       "      <td>92.0</td>\n",
       "      <td>599.0</td>\n",
       "      <td>NaN</td>\n",
       "      <td>NaN</td>\n",
       "      <td>NaN</td>\n",
       "      <td>NaN</td>\n",
       "      <td>NaN</td>\n",
       "      <td>N</td>\n",
       "      <td>1.0</td>\n",
       "    </tr>\n",
       "    <tr>\n",
       "      <th>601218</th>\n",
       "      <td>2018-01-31</td>\n",
       "      <td>AA</td>\n",
       "      <td>2056</td>\n",
       "      <td>N125UW</td>\n",
       "      <td>11057</td>\n",
       "      <td>CLT</td>\n",
       "      <td>Charlotte, NC</td>\n",
       "      <td>14492</td>\n",
       "      <td>RDU</td>\n",
       "      <td>Raleigh/Durham, NC</td>\n",
       "      <td>...</td>\n",
       "      <td>51.0</td>\n",
       "      <td>35.0</td>\n",
       "      <td>130.0</td>\n",
       "      <td>NaN</td>\n",
       "      <td>NaN</td>\n",
       "      <td>NaN</td>\n",
       "      <td>NaN</td>\n",
       "      <td>NaN</td>\n",
       "      <td>N</td>\n",
       "      <td>1.0</td>\n",
       "    </tr>\n",
       "  </tbody>\n",
       "</table>\n",
       "<p>601219 rows × 29 columns</p>\n",
       "</div>"
      ],
      "text/plain": [
       "           fl_date mkt_unique_carrier  mkt_carrier_fl_num tail_num  \\\n",
       "0       2018-01-01                 B6                 624   N978JB   \n",
       "1       2018-01-01                 B6                 508   N353JB   \n",
       "2       2018-01-01                 B6                 511   N579JB   \n",
       "3       2018-01-01                 B6                 512   N579JB   \n",
       "4       2018-01-01                 B6                 514   N559JB   \n",
       "...            ...                ...                 ...      ...   \n",
       "601214  2018-01-31                 AA                2053   N545UW   \n",
       "601215  2018-01-31                 AA                2053   N545UW   \n",
       "601216  2018-01-31                 AA                2054   N722US   \n",
       "601217  2018-01-31                 AA                2055   N971UY   \n",
       "601218  2018-01-31                 AA                2056   N125UW   \n",
       "\n",
       "        origin_airport_id origin     origin_city_name  dest_airport_id dest  \\\n",
       "0                   12892    LAX      Los Angeles, CA            12478  JFK   \n",
       "1                   12478    JFK         New York, NY            14321  PWM   \n",
       "2                   11697    FLL  Fort Lauderdale, FL            10423  AUS   \n",
       "3                   10423    AUS           Austin, TX            11697  FLL   \n",
       "4                   12954    LGB       Long Beach, CA            12478  JFK   \n",
       "...                   ...    ...                  ...              ...  ...   \n",
       "601214              11057    CLT        Charlotte, NC            15304  TPA   \n",
       "601215              15304    TPA            Tampa, FL            11057  CLT   \n",
       "601216              11057    CLT        Charlotte, NC            14100  PHL   \n",
       "601217              11057    CLT        Charlotte, NC            13930  ORD   \n",
       "601218              11057    CLT        Charlotte, NC            14492  RDU   \n",
       "\n",
       "             dest_city_name  ...  actual_elapsed_time  air_time  distance  \\\n",
       "0              New York, NY  ...                323.0     295.0    2475.0   \n",
       "1              Portland, ME  ...                 86.0      51.0     273.0   \n",
       "2                Austin, TX  ...                189.0     161.0    1105.0   \n",
       "3       Fort Lauderdale, FL  ...                156.0     136.0    1105.0   \n",
       "4              New York, NY  ...                301.0     279.0    2465.0   \n",
       "...                     ...  ...                  ...       ...       ...   \n",
       "601214            Tampa, FL  ...                 91.0      74.0     507.0   \n",
       "601215        Charlotte, NC  ...                103.0      81.0     507.0   \n",
       "601216     Philadelphia, PA  ...                 94.0      71.0     449.0   \n",
       "601217          Chicago, IL  ...                136.0      92.0     599.0   \n",
       "601218   Raleigh/Durham, NC  ...                 51.0      35.0     130.0   \n",
       "\n",
       "        carrier_delay  weather_delay  nas_delay  security_delay  \\\n",
       "0                 5.0            0.0        9.0             0.0   \n",
       "1                 NaN            NaN        NaN             NaN   \n",
       "2                 8.0            0.0        0.0             0.0   \n",
       "3               205.0            0.0        4.0             0.0   \n",
       "4                 NaN            NaN        NaN             NaN   \n",
       "...               ...            ...        ...             ...   \n",
       "601214            NaN            NaN        NaN             NaN   \n",
       "601215            NaN            NaN        NaN             NaN   \n",
       "601216            NaN            NaN        NaN             NaN   \n",
       "601217            NaN            NaN        NaN             NaN   \n",
       "601218            NaN            NaN        NaN             NaN   \n",
       "\n",
       "        late_aircraft_delay  dup  flights  \n",
       "0                      15.0    N      1.0  \n",
       "1                       NaN    N      1.0  \n",
       "2                     237.0    N      1.0  \n",
       "3                      39.0    N      1.0  \n",
       "4                       NaN    N      1.0  \n",
       "...                     ...  ...      ...  \n",
       "601214                  NaN    N      1.0  \n",
       "601215                  NaN    N      1.0  \n",
       "601216                  NaN    N      1.0  \n",
       "601217                  NaN    N      1.0  \n",
       "601218                  NaN    N      1.0  \n",
       "\n",
       "[601219 rows x 29 columns]"
      ]
     },
     "execution_count": 6,
     "metadata": {},
     "output_type": "execute_result"
    }
   ],
   "source": [
    "pandas_response"
   ]
  },
  {
   "cell_type": "code",
   "execution_count": 15,
   "metadata": {},
   "outputs": [],
   "source": [
    "jan = pd.read_csv('data/01_2019_flights.csv', index_col=0)\n",
    "\n",
    "# Convert flight date to column to datetime\n",
    "jan['fl_date'] =  pd.to_datetime(jan['fl_date'], format='%Y/%m/%d')\n",
    "\n",
    "# Create new column for day of the week ie. 0 = monday\n",
    "jan['day_of_week'] = jan['fl_date'].dt.dayofweek"
   ]
  },
  {
   "cell_type": "markdown",
   "metadata": {},
   "source": [
    "jan"
   ]
  },
  {
   "cell_type": "code",
   "execution_count": 17,
   "metadata": {},
   "outputs": [
    {
     "data": {
      "text/plain": [
       "fl_date                datetime64[ns]\n",
       "mkt_unique_carrier             object\n",
       "branded_code_share             object\n",
       "mkt_carrier                    object\n",
       "mkt_carrier_fl_num              int64\n",
       "op_unique_carrier              object\n",
       "tail_num                       object\n",
       "op_carrier_fl_num               int64\n",
       "origin_airport_id               int64\n",
       "origin                         object\n",
       "origin_city_name               object\n",
       "dest_airport_id                 int64\n",
       "dest                           object\n",
       "dest_city_name                 object\n",
       "crs_dep_time                    int64\n",
       "dep_time                      float64\n",
       "dep_delay                     float64\n",
       "taxi_out                      float64\n",
       "wheels_off                    float64\n",
       "wheels_on                     float64\n",
       "taxi_in                       float64\n",
       "crs_arr_time                    int64\n",
       "arr_time                      float64\n",
       "arr_delay                     float64\n",
       "cancelled                     float64\n",
       "cancellation_code              object\n",
       "diverted                      float64\n",
       "dup                            object\n",
       "crs_elapsed_time              float64\n",
       "actual_elapsed_time           float64\n",
       "air_time                      float64\n",
       "flights                       float64\n",
       "distance                      float64\n",
       "carrier_delay                 float64\n",
       "weather_delay                 float64\n",
       "nas_delay                     float64\n",
       "security_delay                float64\n",
       "late_aircraft_delay           float64\n",
       "first_dep_time                float64\n",
       "total_add_gtime               float64\n",
       "longest_add_gtime             float64\n",
       "no_name                       float64\n",
       "day_of_week                     int64\n",
       "dtype: object"
      ]
     },
     "execution_count": 17,
     "metadata": {},
     "output_type": "execute_result"
    }
   ],
   "source": [
    "jan.dtypes"
   ]
  },
  {
   "cell_type": "markdown",
   "metadata": {},
   "source": [
    "#### **Task 1**: \n",
    "Test the hypothesis that the delay is from Normal distribution. and that **mean** of the delay is 0. Be careful about the outliers."
   ]
  },
  {
   "cell_type": "code",
   "execution_count": 27,
   "metadata": {},
   "outputs": [],
   "source": [
    "week1 = jan[(jan['fl_date'] >= '2019-01-01') & (jan['fl_date'] <= '2019-01-07')]"
   ]
  },
  {
   "cell_type": "code",
   "execution_count": 36,
   "metadata": {},
   "outputs": [
    {
     "data": {
      "text/plain": [
       "ShapiroResult(statistic=nan, pvalue=1.0)"
      ]
     },
     "execution_count": 36,
     "metadata": {},
     "output_type": "execute_result"
    }
   ],
   "source": [
    "shapiro_test = stats.shapiro(week1['arr_delay'])\n",
    "shapiro_test"
   ]
  },
  {
   "cell_type": "code",
   "execution_count": 39,
   "metadata": {},
   "outputs": [
    {
     "data": {
      "text/plain": [
       "3.2412014918684893"
      ]
     },
     "execution_count": 39,
     "metadata": {},
     "output_type": "execute_result"
    }
   ],
   "source": [
    "week1['arr_delay'].mean()"
   ]
  },
  {
   "cell_type": "markdown",
   "metadata": {},
   "source": [
    "#### **Task 2**: \n",
    "Is average/median monthly delay different during the year? If yes, which are months with the biggest delays and what could be the reason?"
   ]
  },
  {
   "cell_type": "code",
   "execution_count": null,
   "metadata": {},
   "outputs": [],
   "source": []
  },
  {
   "cell_type": "code",
   "execution_count": null,
   "metadata": {},
   "outputs": [],
   "source": []
  },
  {
   "cell_type": "markdown",
   "metadata": {},
   "source": [
    "#### **Task 3**: \n",
    "Does the weather affect the delay? \n",
    "Use the API to pull the weather information for flights. There is no need to get weather for ALL flights. We can choose the right representative sample. Let's focus on four weather types:\n",
    "- sunny\n",
    "- cloudy\n",
    "- rainy\n",
    "- snow.\n",
    "Test the hypothesis that these 4 delays are from the same distribution. If they are not, which ones are significantly different?"
   ]
  },
  {
   "cell_type": "code",
   "execution_count": null,
   "metadata": {},
   "outputs": [],
   "source": []
  },
  {
   "cell_type": "code",
   "execution_count": null,
   "metadata": {},
   "outputs": [],
   "source": []
  },
  {
   "cell_type": "markdown",
   "metadata": {},
   "source": [
    "#### **Task 4**: \n",
    "How taxi times changing during the day? Does higher traffic lead to bigger taxi times?"
   ]
  },
  {
   "cell_type": "code",
   "execution_count": null,
   "metadata": {},
   "outputs": [],
   "source": []
  },
  {
   "cell_type": "code",
   "execution_count": null,
   "metadata": {},
   "outputs": [],
   "source": []
  },
  {
   "cell_type": "markdown",
   "metadata": {},
   "source": [
    "#### **Task 5**:\n",
    "What is the average percentage of delays that is already created before departure? (aka are arrival delays caused by departure delays?) Are airlines able to lower the delay during the flights?"
   ]
  },
  {
   "cell_type": "code",
   "execution_count": null,
   "metadata": {},
   "outputs": [],
   "source": []
  },
  {
   "cell_type": "code",
   "execution_count": null,
   "metadata": {},
   "outputs": [],
   "source": []
  },
  {
   "cell_type": "markdown",
   "metadata": {},
   "source": [
    "#### **Task 6**: \n",
    "How many states cover 50% of US air traffic? "
   ]
  },
  {
   "cell_type": "code",
   "execution_count": null,
   "metadata": {},
   "outputs": [],
   "source": []
  },
  {
   "cell_type": "code",
   "execution_count": null,
   "metadata": {},
   "outputs": [],
   "source": []
  },
  {
   "cell_type": "markdown",
   "metadata": {},
   "source": [
    "#### **Task 7**: \n",
    "Test the hypothesis whether planes fly faster when there is the departure delay? "
   ]
  },
  {
   "cell_type": "code",
   "execution_count": null,
   "metadata": {},
   "outputs": [],
   "source": []
  },
  {
   "cell_type": "code",
   "execution_count": null,
   "metadata": {},
   "outputs": [],
   "source": []
  },
  {
   "cell_type": "markdown",
   "metadata": {},
   "source": [
    "#### **Task 8**: \n",
    "When (which hour) do most 'LONG', 'SHORT', 'MEDIUM' haul flights take off?"
   ]
  },
  {
   "cell_type": "code",
   "execution_count": null,
   "metadata": {},
   "outputs": [],
   "source": []
  },
  {
   "cell_type": "code",
   "execution_count": null,
   "metadata": {},
   "outputs": [],
   "source": []
  },
  {
   "cell_type": "markdown",
   "metadata": {},
   "source": [
    "#### **Task 9**: \n",
    "Find the top 10 the bussiest airports. Does the biggest number of flights mean that the biggest number of passengers went through the particular airport? How much traffic do these 10 airports cover?"
   ]
  },
  {
   "cell_type": "code",
   "execution_count": null,
   "metadata": {},
   "outputs": [],
   "source": []
  },
  {
   "cell_type": "code",
   "execution_count": null,
   "metadata": {},
   "outputs": [],
   "source": []
  },
  {
   "cell_type": "markdown",
   "metadata": {},
   "source": [
    "#### **Task 10**: \n",
    "Do bigger delays lead to bigger fuel comsumption per passenger? \n",
    "We need to do four things to answer this as accurate as possible:\n",
    "- Find out average monthly delay per air carrier (monthly delay is sum of all delays in 1 month)\n",
    "- Find out distance covered monthly by different air carriers\n",
    "- Find out number of passengers that were carried by different air carriers\n",
    "- Find out total fuel comsumption per air carrier.\n",
    "\n",
    "Use this information to get the average fuel comsumption per passenger per km. Is this higher for the airlines with bigger average delays?"
   ]
  },
  {
   "cell_type": "code",
   "execution_count": null,
   "metadata": {},
   "outputs": [],
   "source": []
  },
  {
   "cell_type": "code",
   "execution_count": null,
   "metadata": {},
   "outputs": [],
   "source": []
  }
 ],
 "metadata": {
  "kernelspec": {
   "display_name": "py3.6",
   "language": "python",
   "name": "py3.6"
  },
  "language_info": {
   "codemirror_mode": {
    "name": "ipython",
    "version": 3
   },
   "file_extension": ".py",
   "mimetype": "text/x-python",
   "name": "python",
   "nbconvert_exporter": "python",
   "pygments_lexer": "ipython3",
   "version": "3.6.13"
  },
  "toc": {
   "base_numbering": 1,
   "nav_menu": {},
   "number_sections": true,
   "sideBar": true,
   "skip_h1_title": false,
   "title_cell": "Table of Contents",
   "title_sidebar": "Contents",
   "toc_cell": false,
   "toc_position": {},
   "toc_section_display": true,
   "toc_window_display": false
  },
  "varInspector": {
   "cols": {
    "lenName": 16,
    "lenType": 16,
    "lenVar": 40
   },
   "kernels_config": {
    "python": {
     "delete_cmd_postfix": "",
     "delete_cmd_prefix": "del ",
     "library": "var_list.py",
     "varRefreshCmd": "print(var_dic_list())"
    },
    "r": {
     "delete_cmd_postfix": ") ",
     "delete_cmd_prefix": "rm(",
     "library": "var_list.r",
     "varRefreshCmd": "cat(var_dic_list()) "
    }
   },
   "types_to_exclude": [
    "module",
    "function",
    "builtin_function_or_method",
    "instance",
    "_Feature"
   ],
   "window_display": false
  }
 },
 "nbformat": 4,
 "nbformat_minor": 4
}
