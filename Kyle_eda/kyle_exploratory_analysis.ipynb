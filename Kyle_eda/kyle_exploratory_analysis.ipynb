{
 "cells": [
  {
   "cell_type": "markdown",
   "metadata": {
    "tags": []
   },
   "source": [
    "## Exploratory Data Analysis\n",
    "\n",
    "Use this notebook to get familiar with the datasets we have. There is 10 questions we need to answer during the EDA.\n",
    "\n",
    "\n",
    "We shouldn't limit our EDA to these 10 questions. Let's be creative :)."
   ]
  },
  {
   "cell_type": "markdown",
   "metadata": {},
   "source": [
    "#### Connect to Database"
   ]
  },
  {
   "cell_type": "code",
   "execution_count": 1,
   "metadata": {},
   "outputs": [],
   "source": [
    "import psycopg2\n",
    "import pandas as pd\n",
    "import numpy as np\n",
    "import config as cfg\n",
    "from scipy import stats\n",
    "import requests\n",
    "from IPython.display import JSON\n",
    "import json"
   ]
  },
  {
   "cell_type": "code",
   "execution_count": 3,
   "metadata": {},
   "outputs": [],
   "source": [
    "# Create a connection to the midterm database \n",
    "con = psycopg2.connect(database=cfg.DATABASE, \n",
    "                       user=cfg.USER, \n",
    "                       password=cfg.PASSWORD,\n",
    "                       host=cfg.HOST, \n",
    "                       port=cfg.PORT)\n",
    "cur = con.cursor()"
   ]
  },
  {
   "cell_type": "code",
   "execution_count": 7,
   "metadata": {},
   "outputs": [
    {
     "name": "stdout",
     "output_type": "stream",
     "text": [
      "01_2018 complete\n",
      "02_2018 complete\n",
      "03_2018 complete\n",
      "04_2018 complete\n",
      "05_2018 complete\n",
      "06_2018 complete\n",
      "07_2018 complete\n",
      "08_2018 complete\n",
      "09_2018 complete\n",
      "10_2018 complete\n",
      "11_2018 complete\n",
      "12_2018 complete\n",
      "01_2019 complete\n",
      "02_2019 complete\n",
      "03_2019 complete\n",
      "04_2019 complete\n",
      "05_2019 complete\n",
      "06_2019 complete\n",
      "07_2019 complete\n",
      "08_2019 complete\n",
      "09_2019 complete\n",
      "10_2019 complete\n",
      "11_2019 complete\n",
      "12_2019 complete\n"
     ]
    }
   ],
   "source": [
    "# get flights data by month from 2018,2019 and save to csv\n",
    "\n",
    "years = ['2018', '2019']\n",
    "months = [f'{i:02}'for i in range(1,13)]\n",
    "for year in years:\n",
    "    for month in months:\n",
    "        query = f\"SELECT * FROM flights WHERE fl_date LIKE '{year}-{month}%'\"\n",
    "\n",
    "        pandas_response = pd.read_sql_query(query, con)\n",
    "\n",
    "        pandas_response.to_csv(f'data/{month}_{year}_flights.csv')\n",
    "        print(f'{month}_{year} complete')\n",
    "        "
   ]
  },
  {
   "cell_type": "code",
   "execution_count": 6,
   "metadata": {},
   "outputs": [
    {
     "data": {
      "text/html": [
       "<div>\n",
       "<style scoped>\n",
       "    .dataframe tbody tr th:only-of-type {\n",
       "        vertical-align: middle;\n",
       "    }\n",
       "\n",
       "    .dataframe tbody tr th {\n",
       "        vertical-align: top;\n",
       "    }\n",
       "\n",
       "    .dataframe thead th {\n",
       "        text-align: right;\n",
       "    }\n",
       "</style>\n",
       "<table border=\"1\" class=\"dataframe\">\n",
       "  <thead>\n",
       "    <tr style=\"text-align: right;\">\n",
       "      <th></th>\n",
       "      <th>fl_date</th>\n",
       "      <th>mkt_unique_carrier</th>\n",
       "      <th>mkt_carrier_fl_num</th>\n",
       "      <th>tail_num</th>\n",
       "      <th>origin_airport_id</th>\n",
       "      <th>origin</th>\n",
       "      <th>origin_city_name</th>\n",
       "      <th>dest_airport_id</th>\n",
       "      <th>dest</th>\n",
       "      <th>dest_city_name</th>\n",
       "      <th>...</th>\n",
       "      <th>actual_elapsed_time</th>\n",
       "      <th>air_time</th>\n",
       "      <th>distance</th>\n",
       "      <th>carrier_delay</th>\n",
       "      <th>weather_delay</th>\n",
       "      <th>nas_delay</th>\n",
       "      <th>security_delay</th>\n",
       "      <th>late_aircraft_delay</th>\n",
       "      <th>dup</th>\n",
       "      <th>flights</th>\n",
       "    </tr>\n",
       "  </thead>\n",
       "  <tbody>\n",
       "    <tr>\n",
       "      <th>0</th>\n",
       "      <td>2018-01-01</td>\n",
       "      <td>B6</td>\n",
       "      <td>624</td>\n",
       "      <td>N978JB</td>\n",
       "      <td>12892</td>\n",
       "      <td>LAX</td>\n",
       "      <td>Los Angeles, CA</td>\n",
       "      <td>12478</td>\n",
       "      <td>JFK</td>\n",
       "      <td>New York, NY</td>\n",
       "      <td>...</td>\n",
       "      <td>323.0</td>\n",
       "      <td>295.0</td>\n",
       "      <td>2475.0</td>\n",
       "      <td>5.0</td>\n",
       "      <td>0.0</td>\n",
       "      <td>9.0</td>\n",
       "      <td>0.0</td>\n",
       "      <td>15.0</td>\n",
       "      <td>N</td>\n",
       "      <td>1.0</td>\n",
       "    </tr>\n",
       "    <tr>\n",
       "      <th>1</th>\n",
       "      <td>2018-01-01</td>\n",
       "      <td>B6</td>\n",
       "      <td>508</td>\n",
       "      <td>N353JB</td>\n",
       "      <td>12478</td>\n",
       "      <td>JFK</td>\n",
       "      <td>New York, NY</td>\n",
       "      <td>14321</td>\n",
       "      <td>PWM</td>\n",
       "      <td>Portland, ME</td>\n",
       "      <td>...</td>\n",
       "      <td>86.0</td>\n",
       "      <td>51.0</td>\n",
       "      <td>273.0</td>\n",
       "      <td>NaN</td>\n",
       "      <td>NaN</td>\n",
       "      <td>NaN</td>\n",
       "      <td>NaN</td>\n",
       "      <td>NaN</td>\n",
       "      <td>N</td>\n",
       "      <td>1.0</td>\n",
       "    </tr>\n",
       "    <tr>\n",
       "      <th>2</th>\n",
       "      <td>2018-01-01</td>\n",
       "      <td>B6</td>\n",
       "      <td>511</td>\n",
       "      <td>N579JB</td>\n",
       "      <td>11697</td>\n",
       "      <td>FLL</td>\n",
       "      <td>Fort Lauderdale, FL</td>\n",
       "      <td>10423</td>\n",
       "      <td>AUS</td>\n",
       "      <td>Austin, TX</td>\n",
       "      <td>...</td>\n",
       "      <td>189.0</td>\n",
       "      <td>161.0</td>\n",
       "      <td>1105.0</td>\n",
       "      <td>8.0</td>\n",
       "      <td>0.0</td>\n",
       "      <td>0.0</td>\n",
       "      <td>0.0</td>\n",
       "      <td>237.0</td>\n",
       "      <td>N</td>\n",
       "      <td>1.0</td>\n",
       "    </tr>\n",
       "    <tr>\n",
       "      <th>3</th>\n",
       "      <td>2018-01-01</td>\n",
       "      <td>B6</td>\n",
       "      <td>512</td>\n",
       "      <td>N579JB</td>\n",
       "      <td>10423</td>\n",
       "      <td>AUS</td>\n",
       "      <td>Austin, TX</td>\n",
       "      <td>11697</td>\n",
       "      <td>FLL</td>\n",
       "      <td>Fort Lauderdale, FL</td>\n",
       "      <td>...</td>\n",
       "      <td>156.0</td>\n",
       "      <td>136.0</td>\n",
       "      <td>1105.0</td>\n",
       "      <td>205.0</td>\n",
       "      <td>0.0</td>\n",
       "      <td>4.0</td>\n",
       "      <td>0.0</td>\n",
       "      <td>39.0</td>\n",
       "      <td>N</td>\n",
       "      <td>1.0</td>\n",
       "    </tr>\n",
       "    <tr>\n",
       "      <th>4</th>\n",
       "      <td>2018-01-01</td>\n",
       "      <td>B6</td>\n",
       "      <td>514</td>\n",
       "      <td>N559JB</td>\n",
       "      <td>12954</td>\n",
       "      <td>LGB</td>\n",
       "      <td>Long Beach, CA</td>\n",
       "      <td>12478</td>\n",
       "      <td>JFK</td>\n",
       "      <td>New York, NY</td>\n",
       "      <td>...</td>\n",
       "      <td>301.0</td>\n",
       "      <td>279.0</td>\n",
       "      <td>2465.0</td>\n",
       "      <td>NaN</td>\n",
       "      <td>NaN</td>\n",
       "      <td>NaN</td>\n",
       "      <td>NaN</td>\n",
       "      <td>NaN</td>\n",
       "      <td>N</td>\n",
       "      <td>1.0</td>\n",
       "    </tr>\n",
       "    <tr>\n",
       "      <th>...</th>\n",
       "      <td>...</td>\n",
       "      <td>...</td>\n",
       "      <td>...</td>\n",
       "      <td>...</td>\n",
       "      <td>...</td>\n",
       "      <td>...</td>\n",
       "      <td>...</td>\n",
       "      <td>...</td>\n",
       "      <td>...</td>\n",
       "      <td>...</td>\n",
       "      <td>...</td>\n",
       "      <td>...</td>\n",
       "      <td>...</td>\n",
       "      <td>...</td>\n",
       "      <td>...</td>\n",
       "      <td>...</td>\n",
       "      <td>...</td>\n",
       "      <td>...</td>\n",
       "      <td>...</td>\n",
       "      <td>...</td>\n",
       "      <td>...</td>\n",
       "    </tr>\n",
       "    <tr>\n",
       "      <th>601214</th>\n",
       "      <td>2018-01-31</td>\n",
       "      <td>AA</td>\n",
       "      <td>2053</td>\n",
       "      <td>N545UW</td>\n",
       "      <td>11057</td>\n",
       "      <td>CLT</td>\n",
       "      <td>Charlotte, NC</td>\n",
       "      <td>15304</td>\n",
       "      <td>TPA</td>\n",
       "      <td>Tampa, FL</td>\n",
       "      <td>...</td>\n",
       "      <td>91.0</td>\n",
       "      <td>74.0</td>\n",
       "      <td>507.0</td>\n",
       "      <td>NaN</td>\n",
       "      <td>NaN</td>\n",
       "      <td>NaN</td>\n",
       "      <td>NaN</td>\n",
       "      <td>NaN</td>\n",
       "      <td>N</td>\n",
       "      <td>1.0</td>\n",
       "    </tr>\n",
       "    <tr>\n",
       "      <th>601215</th>\n",
       "      <td>2018-01-31</td>\n",
       "      <td>AA</td>\n",
       "      <td>2053</td>\n",
       "      <td>N545UW</td>\n",
       "      <td>15304</td>\n",
       "      <td>TPA</td>\n",
       "      <td>Tampa, FL</td>\n",
       "      <td>11057</td>\n",
       "      <td>CLT</td>\n",
       "      <td>Charlotte, NC</td>\n",
       "      <td>...</td>\n",
       "      <td>103.0</td>\n",
       "      <td>81.0</td>\n",
       "      <td>507.0</td>\n",
       "      <td>NaN</td>\n",
       "      <td>NaN</td>\n",
       "      <td>NaN</td>\n",
       "      <td>NaN</td>\n",
       "      <td>NaN</td>\n",
       "      <td>N</td>\n",
       "      <td>1.0</td>\n",
       "    </tr>\n",
       "    <tr>\n",
       "      <th>601216</th>\n",
       "      <td>2018-01-31</td>\n",
       "      <td>AA</td>\n",
       "      <td>2054</td>\n",
       "      <td>N722US</td>\n",
       "      <td>11057</td>\n",
       "      <td>CLT</td>\n",
       "      <td>Charlotte, NC</td>\n",
       "      <td>14100</td>\n",
       "      <td>PHL</td>\n",
       "      <td>Philadelphia, PA</td>\n",
       "      <td>...</td>\n",
       "      <td>94.0</td>\n",
       "      <td>71.0</td>\n",
       "      <td>449.0</td>\n",
       "      <td>NaN</td>\n",
       "      <td>NaN</td>\n",
       "      <td>NaN</td>\n",
       "      <td>NaN</td>\n",
       "      <td>NaN</td>\n",
       "      <td>N</td>\n",
       "      <td>1.0</td>\n",
       "    </tr>\n",
       "    <tr>\n",
       "      <th>601217</th>\n",
       "      <td>2018-01-31</td>\n",
       "      <td>AA</td>\n",
       "      <td>2055</td>\n",
       "      <td>N971UY</td>\n",
       "      <td>11057</td>\n",
       "      <td>CLT</td>\n",
       "      <td>Charlotte, NC</td>\n",
       "      <td>13930</td>\n",
       "      <td>ORD</td>\n",
       "      <td>Chicago, IL</td>\n",
       "      <td>...</td>\n",
       "      <td>136.0</td>\n",
       "      <td>92.0</td>\n",
       "      <td>599.0</td>\n",
       "      <td>NaN</td>\n",
       "      <td>NaN</td>\n",
       "      <td>NaN</td>\n",
       "      <td>NaN</td>\n",
       "      <td>NaN</td>\n",
       "      <td>N</td>\n",
       "      <td>1.0</td>\n",
       "    </tr>\n",
       "    <tr>\n",
       "      <th>601218</th>\n",
       "      <td>2018-01-31</td>\n",
       "      <td>AA</td>\n",
       "      <td>2056</td>\n",
       "      <td>N125UW</td>\n",
       "      <td>11057</td>\n",
       "      <td>CLT</td>\n",
       "      <td>Charlotte, NC</td>\n",
       "      <td>14492</td>\n",
       "      <td>RDU</td>\n",
       "      <td>Raleigh/Durham, NC</td>\n",
       "      <td>...</td>\n",
       "      <td>51.0</td>\n",
       "      <td>35.0</td>\n",
       "      <td>130.0</td>\n",
       "      <td>NaN</td>\n",
       "      <td>NaN</td>\n",
       "      <td>NaN</td>\n",
       "      <td>NaN</td>\n",
       "      <td>NaN</td>\n",
       "      <td>N</td>\n",
       "      <td>1.0</td>\n",
       "    </tr>\n",
       "  </tbody>\n",
       "</table>\n",
       "<p>601219 rows × 29 columns</p>\n",
       "</div>"
      ],
      "text/plain": [
       "           fl_date mkt_unique_carrier  mkt_carrier_fl_num tail_num  \\\n",
       "0       2018-01-01                 B6                 624   N978JB   \n",
       "1       2018-01-01                 B6                 508   N353JB   \n",
       "2       2018-01-01                 B6                 511   N579JB   \n",
       "3       2018-01-01                 B6                 512   N579JB   \n",
       "4       2018-01-01                 B6                 514   N559JB   \n",
       "...            ...                ...                 ...      ...   \n",
       "601214  2018-01-31                 AA                2053   N545UW   \n",
       "601215  2018-01-31                 AA                2053   N545UW   \n",
       "601216  2018-01-31                 AA                2054   N722US   \n",
       "601217  2018-01-31                 AA                2055   N971UY   \n",
       "601218  2018-01-31                 AA                2056   N125UW   \n",
       "\n",
       "        origin_airport_id origin     origin_city_name  dest_airport_id dest  \\\n",
       "0                   12892    LAX      Los Angeles, CA            12478  JFK   \n",
       "1                   12478    JFK         New York, NY            14321  PWM   \n",
       "2                   11697    FLL  Fort Lauderdale, FL            10423  AUS   \n",
       "3                   10423    AUS           Austin, TX            11697  FLL   \n",
       "4                   12954    LGB       Long Beach, CA            12478  JFK   \n",
       "...                   ...    ...                  ...              ...  ...   \n",
       "601214              11057    CLT        Charlotte, NC            15304  TPA   \n",
       "601215              15304    TPA            Tampa, FL            11057  CLT   \n",
       "601216              11057    CLT        Charlotte, NC            14100  PHL   \n",
       "601217              11057    CLT        Charlotte, NC            13930  ORD   \n",
       "601218              11057    CLT        Charlotte, NC            14492  RDU   \n",
       "\n",
       "             dest_city_name  ...  actual_elapsed_time  air_time  distance  \\\n",
       "0              New York, NY  ...                323.0     295.0    2475.0   \n",
       "1              Portland, ME  ...                 86.0      51.0     273.0   \n",
       "2                Austin, TX  ...                189.0     161.0    1105.0   \n",
       "3       Fort Lauderdale, FL  ...                156.0     136.0    1105.0   \n",
       "4              New York, NY  ...                301.0     279.0    2465.0   \n",
       "...                     ...  ...                  ...       ...       ...   \n",
       "601214            Tampa, FL  ...                 91.0      74.0     507.0   \n",
       "601215        Charlotte, NC  ...                103.0      81.0     507.0   \n",
       "601216     Philadelphia, PA  ...                 94.0      71.0     449.0   \n",
       "601217          Chicago, IL  ...                136.0      92.0     599.0   \n",
       "601218   Raleigh/Durham, NC  ...                 51.0      35.0     130.0   \n",
       "\n",
       "        carrier_delay  weather_delay  nas_delay  security_delay  \\\n",
       "0                 5.0            0.0        9.0             0.0   \n",
       "1                 NaN            NaN        NaN             NaN   \n",
       "2                 8.0            0.0        0.0             0.0   \n",
       "3               205.0            0.0        4.0             0.0   \n",
       "4                 NaN            NaN        NaN             NaN   \n",
       "...               ...            ...        ...             ...   \n",
       "601214            NaN            NaN        NaN             NaN   \n",
       "601215            NaN            NaN        NaN             NaN   \n",
       "601216            NaN            NaN        NaN             NaN   \n",
       "601217            NaN            NaN        NaN             NaN   \n",
       "601218            NaN            NaN        NaN             NaN   \n",
       "\n",
       "        late_aircraft_delay  dup  flights  \n",
       "0                      15.0    N      1.0  \n",
       "1                       NaN    N      1.0  \n",
       "2                     237.0    N      1.0  \n",
       "3                      39.0    N      1.0  \n",
       "4                       NaN    N      1.0  \n",
       "...                     ...  ...      ...  \n",
       "601214                  NaN    N      1.0  \n",
       "601215                  NaN    N      1.0  \n",
       "601216                  NaN    N      1.0  \n",
       "601217                  NaN    N      1.0  \n",
       "601218                  NaN    N      1.0  \n",
       "\n",
       "[601219 rows x 29 columns]"
      ]
     },
     "execution_count": 6,
     "metadata": {},
     "output_type": "execute_result"
    }
   ],
   "source": [
    "pandas_response"
   ]
  },
  {
   "cell_type": "code",
   "execution_count": 9,
   "metadata": {},
   "outputs": [],
   "source": [
    "jan = pd.read_csv('data/01_2019_flights.csv', index_col=0)\n",
    "\n",
    "# Convert flight date to column to datetime\n",
    "jan['fl_date'] =  pd.to_datetime(jan['fl_date'], format='%Y/%m/%d')\n",
    "\n",
    "# Create new column for day of the week ie. 0 = monday\n",
    "jan['day_of_week'] = jan['fl_date'].dt.dayofweek"
   ]
  },
  {
   "cell_type": "markdown",
   "metadata": {},
   "source": [
    "jan"
   ]
  },
  {
   "cell_type": "code",
   "execution_count": 10,
   "metadata": {},
   "outputs": [
    {
     "data": {
      "text/plain": [
       "(638649, 43)"
      ]
     },
     "execution_count": 10,
     "metadata": {},
     "output_type": "execute_result"
    }
   ],
   "source": [
    "jan.shape"
   ]
  },
  {
   "cell_type": "code",
   "execution_count": 17,
   "metadata": {},
   "outputs": [
    {
     "data": {
      "text/plain": [
       "fl_date                datetime64[ns]\n",
       "mkt_unique_carrier             object\n",
       "branded_code_share             object\n",
       "mkt_carrier                    object\n",
       "mkt_carrier_fl_num              int64\n",
       "op_unique_carrier              object\n",
       "tail_num                       object\n",
       "op_carrier_fl_num               int64\n",
       "origin_airport_id               int64\n",
       "origin                         object\n",
       "origin_city_name               object\n",
       "dest_airport_id                 int64\n",
       "dest                           object\n",
       "dest_city_name                 object\n",
       "crs_dep_time                    int64\n",
       "dep_time                      float64\n",
       "dep_delay                     float64\n",
       "taxi_out                      float64\n",
       "wheels_off                    float64\n",
       "wheels_on                     float64\n",
       "taxi_in                       float64\n",
       "crs_arr_time                    int64\n",
       "arr_time                      float64\n",
       "arr_delay                     float64\n",
       "cancelled                     float64\n",
       "cancellation_code              object\n",
       "diverted                      float64\n",
       "dup                            object\n",
       "crs_elapsed_time              float64\n",
       "actual_elapsed_time           float64\n",
       "air_time                      float64\n",
       "flights                       float64\n",
       "distance                      float64\n",
       "carrier_delay                 float64\n",
       "weather_delay                 float64\n",
       "nas_delay                     float64\n",
       "security_delay                float64\n",
       "late_aircraft_delay           float64\n",
       "first_dep_time                float64\n",
       "total_add_gtime               float64\n",
       "longest_add_gtime             float64\n",
       "no_name                       float64\n",
       "day_of_week                     int64\n",
       "dtype: object"
      ]
     },
     "execution_count": 17,
     "metadata": {},
     "output_type": "execute_result"
    }
   ],
   "source": [
    "jan.dtypes"
   ]
  },
  {
   "cell_type": "markdown",
   "metadata": {},
   "source": [
    "#### **Task 1**: \n",
    "Test the hypothesis that the delay is from Normal distribution. and that **mean** of the delay is 0. Be careful about the outliers."
   ]
  },
  {
   "cell_type": "code",
   "execution_count": 167,
   "metadata": {},
   "outputs": [
    {
     "data": {
      "text/plain": [
       "False    145053\n",
       "True       1432\n",
       "Name: arr_delay, dtype: int64"
      ]
     },
     "execution_count": 167,
     "metadata": {},
     "output_type": "execute_result"
    }
   ],
   "source": [
    "week1 = jan[(jan['fl_date'] >= '2019-01-01') & (jan['fl_date'] <= '2019-01-07')].copy()\n",
    "x = week1['arr_delay'].isnull()\n",
    "x.value_counts()"
   ]
  },
  {
   "cell_type": "code",
   "execution_count": 161,
   "metadata": {},
   "outputs": [],
   "source": [
    "week1.dropna(inplace=True,subset=['arr_delay'])"
   ]
  },
  {
   "cell_type": "code",
   "execution_count": 163,
   "metadata": {},
   "outputs": [
    {
     "data": {
      "text/html": [
       "<div>\n",
       "<style scoped>\n",
       "    .dataframe tbody tr th:only-of-type {\n",
       "        vertical-align: middle;\n",
       "    }\n",
       "\n",
       "    .dataframe tbody tr th {\n",
       "        vertical-align: top;\n",
       "    }\n",
       "\n",
       "    .dataframe thead th {\n",
       "        text-align: right;\n",
       "    }\n",
       "</style>\n",
       "<table border=\"1\" class=\"dataframe\">\n",
       "  <thead>\n",
       "    <tr style=\"text-align: right;\">\n",
       "      <th></th>\n",
       "      <th>fl_date</th>\n",
       "      <th>mkt_unique_carrier</th>\n",
       "      <th>branded_code_share</th>\n",
       "      <th>mkt_carrier</th>\n",
       "      <th>mkt_carrier_fl_num</th>\n",
       "      <th>op_unique_carrier</th>\n",
       "      <th>tail_num</th>\n",
       "      <th>op_carrier_fl_num</th>\n",
       "      <th>origin_airport_id</th>\n",
       "      <th>origin</th>\n",
       "      <th>...</th>\n",
       "      <th>carrier_delay</th>\n",
       "      <th>weather_delay</th>\n",
       "      <th>nas_delay</th>\n",
       "      <th>security_delay</th>\n",
       "      <th>late_aircraft_delay</th>\n",
       "      <th>first_dep_time</th>\n",
       "      <th>total_add_gtime</th>\n",
       "      <th>longest_add_gtime</th>\n",
       "      <th>no_name</th>\n",
       "      <th>day_of_week</th>\n",
       "    </tr>\n",
       "  </thead>\n",
       "  <tbody>\n",
       "  </tbody>\n",
       "</table>\n",
       "<p>0 rows × 43 columns</p>\n",
       "</div>"
      ],
      "text/plain": [
       "Empty DataFrame\n",
       "Columns: [fl_date, mkt_unique_carrier, branded_code_share, mkt_carrier, mkt_carrier_fl_num, op_unique_carrier, tail_num, op_carrier_fl_num, origin_airport_id, origin, origin_city_name, dest_airport_id, dest, dest_city_name, crs_dep_time, dep_time, dep_delay, taxi_out, wheels_off, wheels_on, taxi_in, crs_arr_time, arr_time, arr_delay, cancelled, cancellation_code, diverted, dup, crs_elapsed_time, actual_elapsed_time, air_time, flights, distance, carrier_delay, weather_delay, nas_delay, security_delay, late_aircraft_delay, first_dep_time, total_add_gtime, longest_add_gtime, no_name, day_of_week]\n",
       "Index: []\n",
       "\n",
       "[0 rows x 43 columns]"
      ]
     },
     "execution_count": 163,
     "metadata": {},
     "output_type": "execute_result"
    }
   ],
   "source": [
    "week1[week1['arr_delay'].isnull()]\n"
   ]
  },
  {
   "cell_type": "code",
   "execution_count": 171,
   "metadata": {},
   "outputs": [
    {
     "data": {
      "text/plain": [
       "<AxesSubplot:>"
      ]
     },
     "execution_count": 171,
     "metadata": {},
     "output_type": "execute_result"
    },
    {
     "data": {
      "image/png": "[encoded data removed]",
      "text/plain": [
       "<Figure size 432x288 with 1 Axes>"
      ]
     },
     "metadata": {
      "needs_background": "light"
     },
     "output_type": "display_data"
    }
   ],
   "source": [
    "week1['arr_delay'].hist(bins=20, log=True)"
   ]
  },
  {
   "cell_type": "code",
   "execution_count": 179,
   "metadata": {},
   "outputs": [
    {
     "data": {
      "text/plain": [
       "-9.0     3872\n",
       "-10.0    3803\n",
       "-12.0    3789\n",
       "-11.0    3740\n",
       "-8.0     3712\n",
       "-7.0     3705\n",
       "-14.0    3586\n",
       "-15.0    3584\n",
       "-13.0    3572\n",
       "-6.0     3571\n",
       "-5.0     3542\n",
       "-16.0    3465\n",
       "-4.0     3369\n",
       "-17.0    3207\n",
       "-3.0     3112\n",
       "-18.0    3010\n",
       "-2.0     3008\n",
       "-1.0     2858\n",
       " 0.0     2803\n",
       "-19.0    2788\n",
       "-20.0    2588\n",
       " 1.0     2527\n",
       "-21.0    2366\n",
       " 2.0     2279\n",
       " 3.0     2262\n",
       "-22.0    2146\n",
       "-23.0    2062\n",
       " 4.0     1993\n",
       " 5.0     1924\n",
       "-24.0    1830\n",
       " 6.0     1817\n",
       " 7.0     1724\n",
       "-25.0    1674\n",
       " 8.0     1665\n",
       "-26.0    1593\n",
       " 9.0     1531\n",
       "-27.0    1385\n",
       " 10.0    1376\n",
       " 11.0    1370\n",
       " 12.0    1265\n",
       "-28.0    1200\n",
       " 13.0    1154\n",
       "-29.0    1142\n",
       " 14.0    1088\n",
       " 15.0    1040\n",
       " 16.0     975\n",
       "-30.0     965\n",
       "-31.0     924\n",
       " 17.0     916\n",
       " 18.0     836\n",
       "Name: arr_delay, dtype: int64"
      ]
     },
     "execution_count": 179,
     "metadata": {},
     "output_type": "execute_result"
    }
   ],
   "source": [
    "value_counts = week1['arr_delay'].value_counts()\n",
    "value_counts.head(50)"
   ]
  },
  {
   "cell_type": "code",
   "execution_count": 218,
   "metadata": {},
   "outputs": [
    {
     "data": {
      "text/plain": [
       "-76.0"
      ]
     },
     "execution_count": 218,
     "metadata": {},
     "output_type": "execute_result"
    }
   ],
   "source": [
    "week1['arr_delay'].min()"
   ]
  },
  {
   "cell_type": "code",
   "execution_count": 164,
   "metadata": {},
   "outputs": [
    {
     "data": {
      "text/plain": [
       "NormaltestResult(statistic=208.9011370260165, pvalue=4.34204643039079e-46)"
      ]
     },
     "execution_count": 164,
     "metadata": {},
     "output_type": "execute_result"
    }
   ],
   "source": [
    "normal_test = stats.normaltest(week1['arr_delay'].sample(100), nan_policy='omit')\n",
    "normal_test"
   ]
  },
  {
   "cell_type": "code",
   "execution_count": 165,
   "metadata": {},
   "outputs": [
    {
     "data": {
      "text/plain": [
       "NormaltestResult(statistic=229624.47239632078, pvalue=0.0)"
      ]
     },
     "execution_count": 165,
     "metadata": {},
     "output_type": "execute_result"
    }
   ],
   "source": [
    "normal_test = stats.normaltest(week1['arr_delay'], nan_policy='omit')\n",
    "normal_test"
   ]
  },
  {
   "cell_type": "code",
   "execution_count": 174,
   "metadata": {},
   "outputs": [
    {
     "name": "stdout",
     "output_type": "stream",
     "text": [
      "Arrival delay Mean: 3.2412014918684893\n",
      "Arrival delay Median: -6.0\n",
      "Arrival delay Standard Deviation: 47.96985335842532\n"
     ]
    }
   ],
   "source": [
    "print(f\"Arrival delay Mean: {week1['arr_delay'].mean()}\")\n",
    "print(f\"Arrival delay Median: {week1['arr_delay'].median()}\")\n",
    "print(f\"Arrival delay Standard Deviation: {week1['arr_delay'].std()}\")"
   ]
  },
  {
   "cell_type": "code",
   "execution_count": 170,
   "metadata": {},
   "outputs": [
    {
     "data": {
      "text/plain": [
       "AndersonResult(statistic=nan, critical_values=array([0.921, 1.077, 1.34 , 1.605, 1.956]), significance_level=array([15. , 10. ,  5. ,  2.5,  1. ]))"
      ]
     },
     "execution_count": 170,
     "metadata": {},
     "output_type": "execute_result"
    }
   ],
   "source": [
    "anderson_test = stats.anderson(week1['arr_delay'].sample(1000), dist='expon')\n",
    "anderson_test"
   ]
  },
  {
   "cell_type": "markdown",
   "metadata": {},
   "source": [
    "#### **Task 2**: \n",
    "Is average/median monthly delay different during the year? If yes, which are months with the biggest delays and what could be the reason?"
   ]
  },
  {
   "cell_type": "code",
   "execution_count": 215,
   "metadata": {},
   "outputs": [
    {
     "name": "stderr",
     "output_type": "stream",
     "text": [
      "/home/kyle/anaconda3/envs/Python3.6/lib/python3.6/site-packages/IPython/core/interactiveshell.py:3072: DtypeWarning: Columns (26) have mixed types.Specify dtype option on import or set low_memory=False.\n",
      "  interactivity=interactivity, compiler=compiler, result=result)\n",
      "/home/kyle/anaconda3/envs/Python3.6/lib/python3.6/site-packages/IPython/core/interactiveshell.py:3072: DtypeWarning: Columns (26) have mixed types.Specify dtype option on import or set low_memory=False.\n",
      "  interactivity=interactivity, compiler=compiler, result=result)\n"
     ]
    }
   ],
   "source": [
    "# loop through each month. Calculate mean and median of arr_delay. build dataframe with monthstats\n",
    "years = ['2018', '2019']\n",
    "months = [f'{i:02}'for i in range(1,13)]\n",
    "monthly_stats = []\n",
    "for year in years:\n",
    "    for month in months:\n",
    "        month_df = pd.read_csv(f'data/{month}_{year}_flights.csv', index_col=0)\n",
    "        month_df.dropna(inplace=True,subset=['arr_delay'])\n",
    "        monthly_stats.append({'year': year,'month':month, 'mean': month_df['arr_delay'].mean(),'median': month_df['arr_delay'].median()})\n",
    "\n",
    "monthly_stat_df = pd.DataFrame(monthly_stats)"
   ]
  },
  {
   "cell_type": "code",
   "execution_count": 217,
   "metadata": {},
   "outputs": [
    {
     "data": {
      "text/html": [
       "<div>\n",
       "<style scoped>\n",
       "    .dataframe tbody tr th:only-of-type {\n",
       "        vertical-align: middle;\n",
       "    }\n",
       "\n",
       "    .dataframe tbody tr th {\n",
       "        vertical-align: top;\n",
       "    }\n",
       "\n",
       "    .dataframe thead th {\n",
       "        text-align: right;\n",
       "    }\n",
       "</style>\n",
       "<table border=\"1\" class=\"dataframe\">\n",
       "  <thead>\n",
       "    <tr style=\"text-align: right;\">\n",
       "      <th></th>\n",
       "      <th>year</th>\n",
       "      <th>month</th>\n",
       "      <th>mean</th>\n",
       "      <th>median</th>\n",
       "    </tr>\n",
       "  </thead>\n",
       "  <tbody>\n",
       "    <tr>\n",
       "      <th>17</th>\n",
       "      <td>2019</td>\n",
       "      <td>06</td>\n",
       "      <td>11.993984</td>\n",
       "      <td>-4.0</td>\n",
       "    </tr>\n",
       "    <tr>\n",
       "      <th>13</th>\n",
       "      <td>2019</td>\n",
       "      <td>02</td>\n",
       "      <td>9.306549</td>\n",
       "      <td>-4.0</td>\n",
       "    </tr>\n",
       "    <tr>\n",
       "      <th>18</th>\n",
       "      <td>2019</td>\n",
       "      <td>07</td>\n",
       "      <td>8.971920</td>\n",
       "      <td>-6.0</td>\n",
       "    </tr>\n",
       "    <tr>\n",
       "      <th>19</th>\n",
       "      <td>2019</td>\n",
       "      <td>08</td>\n",
       "      <td>7.745285</td>\n",
       "      <td>-6.0</td>\n",
       "    </tr>\n",
       "    <tr>\n",
       "      <th>16</th>\n",
       "      <td>2019</td>\n",
       "      <td>05</td>\n",
       "      <td>7.031468</td>\n",
       "      <td>-6.0</td>\n",
       "    </tr>\n",
       "    <tr>\n",
       "      <th>23</th>\n",
       "      <td>2019</td>\n",
       "      <td>12</td>\n",
       "      <td>6.442686</td>\n",
       "      <td>-6.0</td>\n",
       "    </tr>\n",
       "    <tr>\n",
       "      <th>12</th>\n",
       "      <td>2019</td>\n",
       "      <td>01</td>\n",
       "      <td>4.714467</td>\n",
       "      <td>-7.0</td>\n",
       "    </tr>\n",
       "    <tr>\n",
       "      <th>15</th>\n",
       "      <td>2019</td>\n",
       "      <td>04</td>\n",
       "      <td>4.710994</td>\n",
       "      <td>-7.0</td>\n",
       "    </tr>\n",
       "    <tr>\n",
       "      <th>14</th>\n",
       "      <td>2019</td>\n",
       "      <td>03</td>\n",
       "      <td>3.487239</td>\n",
       "      <td>-7.0</td>\n",
       "    </tr>\n",
       "    <tr>\n",
       "      <th>21</th>\n",
       "      <td>2019</td>\n",
       "      <td>10</td>\n",
       "      <td>2.650218</td>\n",
       "      <td>-7.0</td>\n",
       "    </tr>\n",
       "    <tr>\n",
       "      <th>20</th>\n",
       "      <td>2019</td>\n",
       "      <td>09</td>\n",
       "      <td>0.476529</td>\n",
       "      <td>-9.0</td>\n",
       "    </tr>\n",
       "    <tr>\n",
       "      <th>22</th>\n",
       "      <td>2019</td>\n",
       "      <td>11</td>\n",
       "      <td>0.458006</td>\n",
       "      <td>-8.0</td>\n",
       "    </tr>\n",
       "    <tr>\n",
       "      <th>7</th>\n",
       "      <td>2018</td>\n",
       "      <td>08</td>\n",
       "      <td>10.082958</td>\n",
       "      <td>-4.0</td>\n",
       "    </tr>\n",
       "    <tr>\n",
       "      <th>6</th>\n",
       "      <td>2018</td>\n",
       "      <td>07</td>\n",
       "      <td>8.983223</td>\n",
       "      <td>-4.0</td>\n",
       "    </tr>\n",
       "    <tr>\n",
       "      <th>5</th>\n",
       "      <td>2018</td>\n",
       "      <td>06</td>\n",
       "      <td>8.811523</td>\n",
       "      <td>-5.0</td>\n",
       "    </tr>\n",
       "    <tr>\n",
       "      <th>4</th>\n",
       "      <td>2018</td>\n",
       "      <td>05</td>\n",
       "      <td>5.977482</td>\n",
       "      <td>-6.0</td>\n",
       "    </tr>\n",
       "    <tr>\n",
       "      <th>10</th>\n",
       "      <td>2018</td>\n",
       "      <td>11</td>\n",
       "      <td>5.603914</td>\n",
       "      <td>-5.0</td>\n",
       "    </tr>\n",
       "    <tr>\n",
       "      <th>1</th>\n",
       "      <td>2018</td>\n",
       "      <td>02</td>\n",
       "      <td>4.144116</td>\n",
       "      <td>-7.0</td>\n",
       "    </tr>\n",
       "    <tr>\n",
       "      <th>11</th>\n",
       "      <td>2018</td>\n",
       "      <td>12</td>\n",
       "      <td>3.713604</td>\n",
       "      <td>-6.0</td>\n",
       "    </tr>\n",
       "    <tr>\n",
       "      <th>3</th>\n",
       "      <td>2018</td>\n",
       "      <td>04</td>\n",
       "      <td>3.597966</td>\n",
       "      <td>-6.0</td>\n",
       "    </tr>\n",
       "    <tr>\n",
       "      <th>0</th>\n",
       "      <td>2018</td>\n",
       "      <td>01</td>\n",
       "      <td>3.180875</td>\n",
       "      <td>-8.0</td>\n",
       "    </tr>\n",
       "    <tr>\n",
       "      <th>9</th>\n",
       "      <td>2018</td>\n",
       "      <td>10</td>\n",
       "      <td>3.063703</td>\n",
       "      <td>-6.0</td>\n",
       "    </tr>\n",
       "    <tr>\n",
       "      <th>8</th>\n",
       "      <td>2018</td>\n",
       "      <td>09</td>\n",
       "      <td>2.982880</td>\n",
       "      <td>-7.0</td>\n",
       "    </tr>\n",
       "    <tr>\n",
       "      <th>2</th>\n",
       "      <td>2018</td>\n",
       "      <td>03</td>\n",
       "      <td>2.119581</td>\n",
       "      <td>-6.0</td>\n",
       "    </tr>\n",
       "  </tbody>\n",
       "</table>\n",
       "</div>"
      ],
      "text/plain": [
       "    year month       mean  median\n",
       "17  2019    06  11.993984    -4.0\n",
       "13  2019    02   9.306549    -4.0\n",
       "18  2019    07   8.971920    -6.0\n",
       "19  2019    08   7.745285    -6.0\n",
       "16  2019    05   7.031468    -6.0\n",
       "23  2019    12   6.442686    -6.0\n",
       "12  2019    01   4.714467    -7.0\n",
       "15  2019    04   4.710994    -7.0\n",
       "14  2019    03   3.487239    -7.0\n",
       "21  2019    10   2.650218    -7.0\n",
       "20  2019    09   0.476529    -9.0\n",
       "22  2019    11   0.458006    -8.0\n",
       "7   2018    08  10.082958    -4.0\n",
       "6   2018    07   8.983223    -4.0\n",
       "5   2018    06   8.811523    -5.0\n",
       "4   2018    05   5.977482    -6.0\n",
       "10  2018    11   5.603914    -5.0\n",
       "1   2018    02   4.144116    -7.0\n",
       "11  2018    12   3.713604    -6.0\n",
       "3   2018    04   3.597966    -6.0\n",
       "0   2018    01   3.180875    -8.0\n",
       "9   2018    10   3.063703    -6.0\n",
       "8   2018    09   2.982880    -7.0\n",
       "2   2018    03   2.119581    -6.0"
      ]
     },
     "execution_count": 217,
     "metadata": {},
     "output_type": "execute_result"
    }
   ],
   "source": [
    "monthly_stat_df.sort_values(['year', 'mean'], ascending=False)"
   ]
  },
  {
   "cell_type": "markdown",
   "metadata": {},
   "source": [
    "#### **Task 3**: \n",
    "Does the weather affect the delay? \n",
    "Use the API to pull the weather information for flights. There is no need to get weather for ALL flights. We can choose the right representative sample. Let's focus on four weather types:\n",
    "- sunny\n",
    "- cloudy\n",
    "- rainy\n",
    "- snow.\n",
    "Test the hypothesis that these 4 delays are from the same distribution. If they are not, which ones are significantly different?"
   ]
  },
  {
   "cell_type": "code",
   "execution_count": 241,
   "metadata": {},
   "outputs": [],
   "source": [
    "jan_2019 = pd.read_csv('data/01_2019_flights.csv', index_col=0)\n",
    "# Convert flight date to column to datetime\n",
    "jan_2019['fl_date'] =  pd.to_datetime(jan_2019['fl_date'], format='%Y/%m/%d')\n"
   ]
  },
  {
   "cell_type": "code",
   "execution_count": 12,
   "metadata": {},
   "outputs": [],
   "source": [
    "def get_wwo_weather(city, date, time):\n",
    "    params = {'q':city,\n",
    "              'date': date,\n",
    "              'tp':1, \n",
    "              'format': 'json',\n",
    "              'key': cfg.WEATHER_KEY\n",
    "             }\n",
    "    url = \"https://api.worldweatheronline.com/premium/v1/past-weather.ashx\"\n",
    "    response = requests.get(url=url, params=params)\n",
    "    return response"
   ]
  },
  {
   "cell_type": "code",
   "execution_count": 13,
   "metadata": {},
   "outputs": [],
   "source": [
    "response = get_wwo_weather('Los Angeles, CA', '2019-01-01', '16:30')"
   ]
  },
  {
   "cell_type": "code",
   "execution_count": 22,
   "metadata": {
    "tags": []
   },
   "outputs": [],
   "source": [
    "result  = response.json()"
   ]
  },
  {
   "cell_type": "code",
   "execution_count": 30,
   "metadata": {},
   "outputs": [
    {
     "data": {
      "text/html": [
       "<div>\n",
       "<style scoped>\n",
       "    .dataframe tbody tr th:only-of-type {\n",
       "        vertical-align: middle;\n",
       "    }\n",
       "\n",
       "    .dataframe tbody tr th {\n",
       "        vertical-align: top;\n",
       "    }\n",
       "\n",
       "    .dataframe thead th {\n",
       "        text-align: right;\n",
       "    }\n",
       "</style>\n",
       "<table border=\"1\" class=\"dataframe\">\n",
       "  <thead>\n",
       "    <tr style=\"text-align: right;\">\n",
       "      <th></th>\n",
       "      <th>data.request</th>\n",
       "      <th>data.weather</th>\n",
       "    </tr>\n",
       "  </thead>\n",
       "  <tbody>\n",
       "    <tr>\n",
       "      <th>0</th>\n",
       "      <td>[{'type': 'City', 'query': 'Los Angeles, Unite...</td>\n",
       "      <td>[{'date': '2019-01-01', 'astronomy': [{'sunris...</td>\n",
       "    </tr>\n",
       "  </tbody>\n",
       "</table>\n",
       "</div>"
      ],
      "text/plain": [
       "                                        data.request  \\\n",
       "0  [{'type': 'City', 'query': 'Los Angeles, Unite...   \n",
       "\n",
       "                                        data.weather  \n",
       "0  [{'date': '2019-01-01', 'astronomy': [{'sunris...  "
      ]
     },
     "execution_count": 30,
     "metadata": {},
     "output_type": "execute_result"
    }
   ],
   "source": [
    "result_df = pd.json_normalize(result)\n",
    "result_df"
   ]
  },
  {
   "cell_type": "code",
   "execution_count": 10,
   "metadata": {
    "tags": []
   },
   "outputs": [
    {
     "data": {
      "application/json": {
       "data": {
        "request": [
         {
          "query": "Los Angeles, United States of America",
          "type": "City"
         }
        ],
        "weather": [
         {
          "astronomy": [
           {
            "moon_illumination": "26",
            "moon_phase": "Waning Crescent",
            "moonrise": "02:54 AM",
            "moonset": "02:00 PM",
            "sunrise": "06:59 AM",
            "sunset": "04:55 PM"
           }
          ],
          "avgtempC": "13",
          "avgtempF": "55",
          "date": "2019-01-01",
          "hourly": [
           {
            "DewPointC": "-11",
            "DewPointF": "11",
            "FeelsLikeC": "12",
            "FeelsLikeF": "53",
            "HeatIndexC": "12",
            "HeatIndexF": "54",
            "WindChillC": "12",
            "WindChillF": "53",
            "WindGustKmph": "18",
            "WindGustMiles": "11",
            "cloudcover": "0",
            "humidity": "18",
            "precipInches": "0.0",
            "precipMM": "0.0",
            "pressure": "1018",
            "pressureInches": "30",
            "tempC": "12",
            "tempF": "54",
            "time": "0",
            "uvIndex": "1",
            "visibility": "10",
            "visibilityMiles": "6",
            "weatherCode": "113",
            "weatherDesc": [
             {
              "value": "Clear"
             }
            ],
            "weatherIconUrl": [
             {
              "value": "http://cdn.worldweatheronline.com/images/wsymbols01_png_64/wsymbol_0008_clear_sky_night.png"
             }
            ],
            "winddir16Point": "NNE",
            "winddirDegree": "21",
            "windspeedKmph": "10",
            "windspeedMiles": "6"
           },
           {
            "DewPointC": "-11",
            "DewPointF": "12",
            "FeelsLikeC": "11",
            "FeelsLikeF": "53",
            "HeatIndexC": "12",
            "HeatIndexF": "54",
            "WindChillC": "11",
            "WindChillF": "53",
            "WindGustKmph": "15",
            "WindGustMiles": "9",
            "cloudcover": "0",
            "humidity": "18",
            "precipInches": "0.0",
            "precipMM": "0.0",
            "pressure": "1018",
            "pressureInches": "30",
            "tempC": "12",
            "tempF": "54",
            "time": "100",
            "uvIndex": "1",
            "visibility": "10",
            "visibilityMiles": "6",
            "weatherCode": "113",
            "weatherDesc": [
             {
              "value": "Clear"
             }
            ],
            "weatherIconUrl": [
             {
              "value": "http://cdn.worldweatheronline.com/images/wsymbols01_png_64/wsymbol_0008_clear_sky_night.png"
             }
            ],
            "winddir16Point": "NNE",
            "winddirDegree": "19",
            "windspeedKmph": "10",
            "windspeedMiles": "6"
           },
           {
            "DewPointC": "-11",
            "DewPointF": "13",
            "FeelsLikeC": "11",
            "FeelsLikeF": "52",
            "HeatIndexC": "12",
            "HeatIndexF": "54",
            "WindChillC": "11",
            "WindChillF": "52",
            "WindGustKmph": "12",
            "WindGustMiles": "7",
            "cloudcover": "0",
            "humidity": "19",
            "precipInches": "0.0",
            "precipMM": "0.0",
            "pressure": "1019",
            "pressureInches": "30",
            "tempC": "12",
            "tempF": "54",
            "time": "200",
            "uvIndex": "1",
            "visibility": "10",
            "visibilityMiles": "6",
            "weatherCode": "113",
            "weatherDesc": [
             {
              "value": "Clear"
             }
            ],
            "weatherIconUrl": [
             {
              "value": "http://cdn.worldweatheronline.com/images/wsymbols01_png_64/wsymbol_0008_clear_sky_night.png"
             }
            ],
            "winddir16Point": "NNE",
            "winddirDegree": "16",
            "windspeedKmph": "9",
            "windspeedMiles": "6"
           },
           {
            "DewPointC": "-11",
            "DewPointF": "13",
            "FeelsLikeC": "11",
            "FeelsLikeF": "52",
            "HeatIndexC": "12",
            "HeatIndexF": "53",
            "WindChillC": "11",
            "WindChillF": "52",
            "WindGustKmph": "9",
            "WindGustMiles": "6",
            "cloudcover": "0",
            "humidity": "20",
            "precipInches": "0.0",
            "precipMM": "0.0",
            "pressure": "1019",
            "pressureInches": "30",
            "tempC": "12",
            "tempF": "53",
            "time": "300",
            "uvIndex": "1",
            "visibility": "10",
            "visibilityMiles": "6",
            "weatherCode": "113",
            "weatherDesc": [
             {
              "value": "Clear"
             }
            ],
            "weatherIconUrl": [
             {
              "value": "http://cdn.worldweatheronline.com/images/wsymbols01_png_64/wsymbol_0008_clear_sky_night.png"
             }
            ],
            "winddir16Point": "NNE",
            "winddirDegree": "14",
            "windspeedKmph": "9",
            "windspeedMiles": "6"
           },
           {
            "DewPointC": "-11",
            "DewPointF": "13",
            "FeelsLikeC": "10",
            "FeelsLikeF": "51",
            "HeatIndexC": "11",
            "HeatIndexF": "52",
            "WindChillC": "10",
            "WindChillF": "51",
            "WindGustKmph": "8",
            "WindGustMiles": "5",
            "cloudcover": "0",
            "humidity": "20",
            "precipInches": "0.0",
            "precipMM": "0.0",
            "pressure": "1020",
            "pressureInches": "30",
            "tempC": "11",
            "tempF": "52",
            "time": "400",
            "uvIndex": "1",
            "visibility": "10",
            "visibilityMiles": "6",
            "weatherCode": "113",
            "weatherDesc": [
             {
              "value": "Clear"
             }
            ],
            "weatherIconUrl": [
             {
              "value": "http://cdn.worldweatheronline.com/images/wsymbols01_png_64/wsymbol_0008_clear_sky_night.png"
             }
            ],
            "winddir16Point": "NE",
            "winddirDegree": "50",
            "windspeedKmph": "8",
            "windspeedMiles": "5"
           },
           {
            "DewPointC": "-11",
            "DewPointF": "12",
            "FeelsLikeC": "10",
            "FeelsLikeF": "50",
            "HeatIndexC": "11",
            "HeatIndexF": "51",
            "WindChillC": "10",
            "WindChillF": "50",
            "WindGustKmph": "7",
            "WindGustMiles": "5",
            "cloudcover": "0",
            "humidity": "20",
            "precipInches": "0.0",
            "precipMM": "0.0",
            "pressure": "1021",
            "pressureInches": "30",
            "tempC": "11",
            "tempF": "51",
            "time": "500",
            "uvIndex": "1",
            "visibility": "10",
            "visibilityMiles": "6",
            "weatherCode": "113",
            "weatherDesc": [
             {
              "value": "Clear"
             }
            ],
            "weatherIconUrl": [
             {
              "value": "http://cdn.worldweatheronline.com/images/wsymbols01_png_64/wsymbol_0008_clear_sky_night.png"
             }
            ],
            "winddir16Point": "E",
            "winddirDegree": "86",
            "windspeedKmph": "6",
            "windspeedMiles": "4"
           },
           {
            "DewPointC": "-11",
            "DewPointF": "12",
            "FeelsLikeC": "9",
            "FeelsLikeF": "48",
            "HeatIndexC": "10",
            "HeatIndexF": "50",
            "WindChillC": "9",
            "WindChillF": "48",
            "WindGustKmph": "6",
            "WindGustMiles": "4",
            "cloudcover": "0",
            "humidity": "21",
            "precipInches": "0.0",
            "precipMM": "0.0",
            "pressure": "1021",
            "pressureInches": "30",
            "tempC": "10",
            "tempF": "50",
            "time": "600",
            "uvIndex": "4",
            "visibility": "10",
            "visibilityMiles": "6",
            "weatherCode": "113",
            "weatherDesc": [
             {
              "value": "Sunny"
             }
            ],
            "weatherIconUrl": [
             {
              "value": "http://cdn.worldweatheronline.com/images/wsymbols01_png_64/wsymbol_0001_sunny.png"
             }
            ],
            "winddir16Point": "ESE",
            "winddirDegree": "122",
            "windspeedKmph": "5",
            "windspeedMiles": "3"
           },
           {
            "DewPointC": "-12",
            "DewPointF": "11",
            "FeelsLikeC": "10",
            "FeelsLikeF": "49",
            "HeatIndexC": "11",
            "HeatIndexF": "52",
            "WindChillC": "10",
            "WindChillF": "49",
            "WindGustKmph": "7",
            "WindGustMiles": "4",
            "cloudcover": "0",
            "humidity": "19",
            "precipInches": "0.0",
            "precipMM": "0.0",
            "pressure": "1022",
            "pressureInches": "30",
            "tempC": "11",
            "tempF": "52",
            "time": "700",
            "uvIndex": "4",
            "visibility": "10",
            "visibilityMiles": "6",
            "weatherCode": "113",
            "weatherDesc": [
             {
              "value": "Sunny"
             }
            ],
            "weatherIconUrl": [
             {
              "value": "http://cdn.worldweatheronline.com/images/wsymbols01_png_64/wsymbol_0001_sunny.png"
             }
            ],
            "winddir16Point": "SSE",
            "winddirDegree": "161",
            "windspeedKmph": "5",
            "windspeedMiles": "3"
           },
           {
            "DewPointC": "-13",
            "DewPointF": "9",
            "FeelsLikeC": "10",
            "FeelsLikeF": "50",
            "HeatIndexC": "12",
            "HeatIndexF": "53",
            "WindChillC": "10",
            "WindChillF": "50",
            "WindGustKmph": "7",
            "WindGustMiles": "4",
            "cloudcover": "0",
            "humidity": "17",
            "precipInches": "0.0",
            "precipMM": "0.0",
            "pressure": "1022",
            "pressureInches": "30",
            "tempC": "12",
            "tempF": "53",
            "time": "800",
            "uvIndex": "4",
            "visibility": "10",
            "visibilityMiles": "6",
            "weatherCode": "113",
            "weatherDesc": [
             {
              "value": "Sunny"
             }
            ],
            "weatherIconUrl": [
             {
              "value": "http://cdn.worldweatheronline.com/images/wsymbols01_png_64/wsymbol_0001_sunny.png"
             }
            ],
            "winddir16Point": "SSW",
            "winddirDegree": "200",
            "windspeedKmph": "5",
            "windspeedMiles": "3"
           },
           {
            "DewPointC": "-13",
            "DewPointF": "8",
            "FeelsLikeC": "11",
            "FeelsLikeF": "51",
            "HeatIndexC": "12",
            "HeatIndexF": "54",
            "WindChillC": "11",
            "WindChillF": "51",
            "WindGustKmph": "7",
            "WindGustMiles": "4",
            "cloudcover": "0",
            "humidity": "15",
            "precipInches": "0.0",
            "precipMM": "0.0",
            "pressure": "1023",
            "pressureInches": "30",
            "tempC": "12",
            "tempF": "54",
            "time": "900",
            "uvIndex": "4",
            "visibility": "10",
            "visibilityMiles": "6",
            "weatherCode": "113",
            "weatherDesc": [
             {
              "value": "Sunny"
             }
            ],
            "weatherIconUrl": [
             {
              "value": "http://cdn.worldweatheronline.com/images/wsymbols01_png_64/wsymbol_0001_sunny.png"
             }
            ],
            "winddir16Point": "WSW",
            "winddirDegree": "240",
            "windspeedKmph": "6",
            "windspeedMiles": "4"
           },
           {
            "DewPointC": "-14",
            "DewPointF": "7",
            "FeelsLikeC": "11",
            "FeelsLikeF": "53",
            "HeatIndexC": "13",
            "HeatIndexF": "55",
            "WindChillC": "11",
            "WindChillF": "53",
            "WindGustKmph": "7",
            "WindGustMiles": "5",
            "cloudcover": "0",
            "humidity": "14",
            "precipInches": "0.0",
            "precipMM": "0.0",
            "pressure": "1022",
            "pressureInches": "30",
            "tempC": "13",
            "tempF": "55",
            "time": "1000",
            "uvIndex": "4",
            "visibility": "10",
            "visibilityMiles": "6",
            "weatherCode": "113",
            "weatherDesc": [
             {
              "value": "Sunny"
             }
            ],
            "weatherIconUrl": [
             {
              "value": "http://cdn.worldweatheronline.com/images/wsymbols01_png_64/wsymbol_0001_sunny.png"
             }
            ],
            "winddir16Point": "SSE",
            "winddirDegree": "164",
            "windspeedKmph": "6",
            "windspeedMiles": "4"
           },
           {
            "DewPointC": "-14",
            "DewPointF": "7",
            "FeelsLikeC": "12",
            "FeelsLikeF": "54",
            "HeatIndexC": "13",
            "HeatIndexF": "56",
            "WindChillC": "12",
            "WindChillF": "54",
            "WindGustKmph": "8",
            "WindGustMiles": "5",
            "cloudcover": "0",
            "humidity": "13",
            "precipInches": "0.0",
            "precipMM": "0.0",
            "pressure": "1022",
            "pressureInches": "30",
            "tempC": "13",
            "tempF": "56",
            "time": "1100",
            "uvIndex": "4",
            "visibility": "10",
            "visibilityMiles": "6",
            "weatherCode": "113",
            "weatherDesc": [
             {
              "value": "Sunny"
             }
            ],
            "weatherIconUrl": [
             {
              "value": "http://cdn.worldweatheronline.com/images/wsymbols01_png_64/wsymbol_0001_sunny.png"
             }
            ],
            "winddir16Point": "E",
            "winddirDegree": "89",
            "windspeedKmph": "6",
            "windspeedMiles": "4"
           },
           {
            "DewPointC": "-14",
            "DewPointF": "6",
            "FeelsLikeC": "13",
            "FeelsLikeF": "55",
            "HeatIndexC": "14",
            "HeatIndexF": "57",
            "WindChillC": "13",
            "WindChillF": "55",
            "WindGustKmph": "8",
            "WindGustMiles": "5",
            "cloudcover": "0",
            "humidity": "13",
            "precipInches": "0.0",
            "precipMM": "0.0",
            "pressure": "1021",
            "pressureInches": "30",
            "tempC": "14",
            "tempF": "57",
            "time": "1200",
            "uvIndex": "4",
            "visibility": "10",
            "visibilityMiles": "6",
            "weatherCode": "113",
            "weatherDesc": [
             {
              "value": "Sunny"
             }
            ],
            "weatherIconUrl": [
             {
              "value": "http://cdn.worldweatheronline.com/images/wsymbols01_png_64/wsymbol_0001_sunny.png"
             }
            ],
            "winddir16Point": "NNE",
            "winddirDegree": "14",
            "windspeedKmph": "6",
            "windspeedMiles": "4"
           },
           {
            "DewPointC": "-14",
            "DewPointF": "7",
            "FeelsLikeC": "13",
            "FeelsLikeF": "56",
            "HeatIndexC": "14",
            "HeatIndexF": "58",
            "WindChillC": "13",
            "WindChillF": "56",
            "WindGustKmph": "8",
            "WindGustMiles": "5",
            "cloudcover": "0",
            "humidity": "13",
            "precipInches": "0.0",
            "precipMM": "0.0",
            "pressure": "1021",
            "pressureInches": "30",
            "tempC": "14",
            "tempF": "58",
            "time": "1300",
            "uvIndex": "4",
            "visibility": "10",
            "visibilityMiles": "6",
            "weatherCode": "113",
            "weatherDesc": [
             {
              "value": "Sunny"
             }
            ],
            "weatherIconUrl": [
             {
              "value": "http://cdn.worldweatheronline.com/images/wsymbols01_png_64/wsymbol_0001_sunny.png"
             }
            ],
            "winddir16Point": "NNE",
            "winddirDegree": "16",
            "windspeedKmph": "7",
            "windspeedMiles": "4"
           },
           {
            "DewPointC": "-13",
            "DewPointF": "8",
            "FeelsLikeC": "13",
            "FeelsLikeF": "56",
            "HeatIndexC": "14",
            "HeatIndexF": "58",
            "WindChillC": "13",
            "WindChillF": "56",
            "WindGustKmph": "8",
            "WindGustMiles": "5",
            "cloudcover": "0",
            "humidity": "13",
            "precipInches": "0.0",
            "precipMM": "0.0",
            "pressure": "1022",
            "pressureInches": "30",
            "tempC": "14",
            "tempF": "58",
            "time": "1400",
            "uvIndex": "4",
            "visibility": "10",
            "visibilityMiles": "6",
            "weatherCode": "113",
            "weatherDesc": [
             {
              "value": "Sunny"
             }
            ],
            "weatherIconUrl": [
             {
              "value": "http://cdn.worldweatheronline.com/images/wsymbols01_png_64/wsymbol_0001_sunny.png"
             }
            ],
            "winddir16Point": "NNE",
            "winddirDegree": "19",
            "windspeedKmph": "7",
            "windspeedMiles": "5"
           },
           {
            "DewPointC": "-13",
            "DewPointF": "8",
            "FeelsLikeC": "14",
            "FeelsLikeF": "56",
            "HeatIndexC": "15",
            "HeatIndexF": "58",
            "WindChillC": "14",
            "WindChillF": "56",
            "WindGustKmph": "8",
            "WindGustMiles": "5",
            "cloudcover": "0",
            "humidity": "13",
            "precipInches": "0.0",
            "precipMM": "0.0",
            "pressure": "1022",
            "pressureInches": "30",
            "tempC": "15",
            "tempF": "58",
            "time": "1500",
            "uvIndex": "4",
            "visibility": "10",
            "visibilityMiles": "6",
            "weatherCode": "113",
            "weatherDesc": [
             {
              "value": "Sunny"
             }
            ],
            "weatherIconUrl": [
             {
              "value": "http://cdn.worldweatheronline.com/images/wsymbols01_png_64/wsymbol_0001_sunny.png"
             }
            ],
            "winddir16Point": "NNE",
            "winddirDegree": "21",
            "windspeedKmph": "8",
            "windspeedMiles": "5"
           },
           {
            "DewPointC": "-13",
            "DewPointF": "9",
            "FeelsLikeC": "13",
            "FeelsLikeF": "56",
            "HeatIndexC": "14",
            "HeatIndexF": "57",
            "WindChillC": "13",
            "WindChillF": "56",
            "WindGustKmph": "9",
            "WindGustMiles": "6",
            "cloudcover": "1",
            "humidity": "14",
            "precipInches": "0.0",
            "precipMM": "0.0",
            "pressure": "1022",
            "pressureInches": "30",
            "tempC": "14",
            "tempF": "57",
            "time": "1600",
            "uvIndex": "4",
            "visibility": "10",
            "visibilityMiles": "6",
            "weatherCode": "113",
            "weatherDesc": [
             {
              "value": "Sunny"
             }
            ],
            "weatherIconUrl": [
             {
              "value": "http://cdn.worldweatheronline.com/images/wsymbols01_png_64/wsymbol_0001_sunny.png"
             }
            ],
            "winddir16Point": "ENE",
            "winddirDegree": "59",
            "windspeedKmph": "9",
            "windspeedMiles": "6"
           },
           {
            "DewPointC": "-13",
            "DewPointF": "9",
            "FeelsLikeC": "13",
            "FeelsLikeF": "55",
            "HeatIndexC": "14",
            "HeatIndexF": "56",
            "WindChillC": "13",
            "WindChillF": "55",
            "WindGustKmph": "10",
            "WindGustMiles": "6",
            "cloudcover": "2",
            "humidity": "15",
            "precipInches": "0.0",
            "precipMM": "0.0",
            "pressure": "1022",
            "pressureInches": "30",
            "tempC": "14",
            "tempF": "56",
            "time": "1700",
            "uvIndex": "4",
            "visibility": "10",
            "visibilityMiles": "6",
            "weatherCode": "113",
            "weatherDesc": [
             {
              "value": "Sunny"
             }
            ],
            "weatherIconUrl": [
             {
              "value": "http://cdn.worldweatheronline.com/images/wsymbols01_png_64/wsymbol_0001_sunny.png"
             }
            ],
            "winddir16Point": "E",
            "winddirDegree": "97",
            "windspeedKmph": "10",
            "windspeedMiles": "6"
           },
           {
            "DewPointC": "-13",
            "DewPointF": "9",
            "FeelsLikeC": "12",
            "FeelsLikeF": "54",
            "HeatIndexC": "13",
            "HeatIndexF": "56",
            "WindChillC": "12",
            "WindChillF": "54",
            "WindGustKmph": "11",
            "WindGustMiles": "7",
            "cloudcover": "3",
            "humidity": "15",
            "precipInches": "0.0",
            "precipMM": "0.0",
            "pressure": "1023",
            "pressureInches": "30",
            "tempC": "13",
            "tempF": "56",
            "time": "1800",
            "uvIndex": "1",
            "visibility": "10",
            "visibilityMiles": "6",
            "weatherCode": "113",
            "weatherDesc": [
             {
              "value": "Clear"
             }
            ],
            "weatherIconUrl": [
             {
              "value": "http://cdn.worldweatheronline.com/images/wsymbols01_png_64/wsymbol_0008_clear_sky_night.png"
             }
            ],
            "winddir16Point": "SE",
            "winddirDegree": "135",
            "windspeedKmph": "11",
            "windspeedMiles": "7"
           },
           {
            "DewPointC": "-13",
            "DewPointF": "9",
            "FeelsLikeC": "12",
            "FeelsLikeF": "53",
            "HeatIndexC": "13",
            "HeatIndexF": "55",
            "WindChillC": "12",
            "WindChillF": "53",
            "WindGustKmph": "12",
            "WindGustMiles": "8",
            "cloudcover": "27",
            "humidity": "16",
            "precipInches": "0.0",
            "precipMM": "0.0",
            "pressure": "1023",
            "pressureInches": "30",
            "tempC": "13",
            "tempF": "55",
            "time": "1900",
            "uvIndex": "1",
            "visibility": "10",
            "visibilityMiles": "6",
            "weatherCode": "113",
            "weatherDesc": [
             {
              "value": "Clear"
             }
            ],
            "weatherIconUrl": [
             {
              "value": "http://cdn.worldweatheronline.com/images/wsymbols01_png_64/wsymbol_0008_clear_sky_night.png"
             }
            ],
            "winddir16Point": "SSW",
            "winddirDegree": "208",
            "windspeedKmph": "10",
            "windspeedMiles": "6"
           },
           {
            "DewPointC": "-13",
            "DewPointF": "9",
            "FeelsLikeC": "11",
            "FeelsLikeF": "52",
            "HeatIndexC": "12",
            "HeatIndexF": "54",
            "WindChillC": "11",
            "WindChillF": "52",
            "WindGustKmph": "13",
            "WindGustMiles": "8",
            "cloudcover": "51",
            "humidity": "16",
            "precipInches": "0.0",
            "precipMM": "0.0",
            "pressure": "1023",
            "pressureInches": "30",
            "tempC": "12",
            "tempF": "54",
            "time": "2000",
            "uvIndex": "1",
            "visibility": "10",
            "visibilityMiles": "6",
            "weatherCode": "119",
            "weatherDesc": [
             {
              "value": "Cloudy"
             }
            ],
            "weatherIconUrl": [
             {
              "value": "http://cdn.worldweatheronline.com/images/wsymbols01_png_64/wsymbol_0003_white_cloud.png"
             }
            ],
            "winddir16Point": "W",
            "winddirDegree": "281",
            "windspeedKmph": "9",
            "windspeedMiles": "5"
           },
           {
            "DewPointC": "-13",
            "DewPointF": "9",
            "FeelsLikeC": "11",
            "FeelsLikeF": "51",
            "HeatIndexC": "12",
            "HeatIndexF": "53",
            "WindChillC": "11",
            "WindChillF": "51",
            "WindGustKmph": "14",
            "WindGustMiles": "9",
            "cloudcover": "75",
            "humidity": "16",
            "precipInches": "0.0",
            "precipMM": "0.0",
            "pressure": "1023",
            "pressureInches": "30",
            "tempC": "12",
            "tempF": "53",
            "time": "2100",
            "uvIndex": "1",
            "visibility": "10",
            "visibilityMiles": "6",
            "weatherCode": "119",
            "weatherDesc": [
             {
              "value": "Cloudy"
             }
            ],
            "weatherIconUrl": [
             {
              "value": "http://cdn.worldweatheronline.com/images/wsymbols01_png_64/wsymbol_0003_white_cloud.png"
             }
            ],
            "winddir16Point": "N",
            "winddirDegree": "354",
            "windspeedKmph": "8",
            "windspeedMiles": "5"
           },
           {
            "DewPointC": "-12",
            "DewPointF": "11",
            "FeelsLikeC": "9",
            "FeelsLikeF": "48",
            "HeatIndexC": "10",
            "HeatIndexF": "50",
            "WindChillC": "9",
            "WindChillF": "48",
            "WindGustKmph": "14",
            "WindGustMiles": "9",
            "cloudcover": "68",
            "humidity": "21",
            "precipInches": "0.0",
            "precipMM": "0.0",
            "pressure": "1023",
            "pressureInches": "30",
            "tempC": "10",
            "tempF": "50",
            "time": "2200",
            "uvIndex": "1",
            "visibility": "10",
            "visibilityMiles": "6",
            "weatherCode": "119",
            "weatherDesc": [
             {
              "value": "Cloudy"
             }
            ],
            "weatherIconUrl": [
             {
              "value": "http://cdn.worldweatheronline.com/images/wsymbols01_png_64/wsymbol_0003_white_cloud.png"
             }
            ],
            "winddir16Point": "N",
            "winddirDegree": "350",
            "windspeedKmph": "8",
            "windspeedMiles": "5"
           },
           {
            "DewPointC": "-10",
            "DewPointF": "14",
            "FeelsLikeC": "8",
            "FeelsLikeF": "46",
            "HeatIndexC": "9",
            "HeatIndexF": "48",
            "WindChillC": "8",
            "WindChillF": "46",
            "WindGustKmph": "14",
            "WindGustMiles": "9",
            "cloudcover": "62",
            "humidity": "27",
            "precipInches": "0.0",
            "precipMM": "0.0",
            "pressure": "1022",
            "pressureInches": "30",
            "tempC": "8",
            "tempF": "47",
            "time": "2300",
            "uvIndex": "1",
            "visibility": "10",
            "visibilityMiles": "6",
            "weatherCode": "116",
            "weatherDesc": [
             {
              "value": "Partly cloudy"
             }
            ],
            "weatherIconUrl": [
             {
              "value": "http://cdn.worldweatheronline.com/images/wsymbols01_png_64/wsymbol_0004_black_low_cloud.png"
             }
            ],
            "winddir16Point": "NNW",
            "winddirDegree": "345",
            "windspeedKmph": "8",
            "windspeedMiles": "5"
           }
          ],
          "maxtempC": "15",
          "maxtempF": "58",
          "mintempC": "10",
          "mintempF": "50",
          "sunHour": "8.7",
          "totalSnow_cm": "0.0",
          "uvIndex": "4"
         }
        ]
       }
      },
      "text/plain": [
       "<IPython.core.display.JSON object>"
      ]
     },
     "execution_count": 10,
     "metadata": {
      "application/json": {
       "expanded": false,
       "root": "root"
      }
     },
     "output_type": "execute_result"
    }
   ],
   "source": [
    "JSON(result)"
   ]
  },
  {
   "cell_type": "code",
   "execution_count": 2,
   "metadata": {},
   "outputs": [],
   "source": [
    "def get_noaa_weather():\n",
    "     # params = {'q':city,\n",
    "     #          'date': date,\n",
    "     #          'tp':1, \n",
    "     #          'format': 'json',\n",
    "     #          'key': cfg.WEATHER_KEY\n",
    "     #         }\n",
    "    headers = {'token': cfg.NOAA_KEY}\n",
    "    url = \"https://www.ncdc.noaa.gov/cdo-web/api/v2/datasets\"\n",
    "    response = requests.get(url=url, headers=headers)\n",
    "    \n",
    "    return response"
   ]
  },
  {
   "cell_type": "code",
   "execution_count": 4,
   "metadata": {},
   "outputs": [],
   "source": [
    "res= get_noaa_weather()"
   ]
  },
  {
   "cell_type": "code",
   "execution_count": 6,
   "metadata": {},
   "outputs": [],
   "source": [
    "result = res.json()\n"
   ]
  },
  {
   "cell_type": "code",
   "execution_count": 7,
   "metadata": {},
   "outputs": [
    {
     "data": {
      "application/json": {
       "metadata": {
        "resultset": {
         "count": 11,
         "limit": 25,
         "offset": 1
        }
       },
       "results": [
        {
         "datacoverage": 1,
         "id": "GHCND",
         "maxdate": "2021-11-26",
         "mindate": "1763-01-01",
         "name": "Daily Summaries",
         "uid": "gov.noaa.ncdc:C00861"
        },
        {
         "datacoverage": 1,
         "id": "GSOM",
         "maxdate": "2021-11-01",
         "mindate": "1763-01-01",
         "name": "Global Summary of the Month",
         "uid": "gov.noaa.ncdc:C00946"
        },
        {
         "datacoverage": 1,
         "id": "GSOY",
         "maxdate": "2021-01-01",
         "mindate": "1763-01-01",
         "name": "Global Summary of the Year",
         "uid": "gov.noaa.ncdc:C00947"
        },
        {
         "datacoverage": 0.95,
         "id": "NEXRAD2",
         "maxdate": "2021-11-27",
         "mindate": "1991-06-05",
         "name": "Weather Radar (Level II)",
         "uid": "gov.noaa.ncdc:C00345"
        },
        {
         "datacoverage": 0.95,
         "id": "NEXRAD3",
         "maxdate": "2021-11-26",
         "mindate": "1994-05-20",
         "name": "Weather Radar (Level III)",
         "uid": "gov.noaa.ncdc:C00708"
        },
        {
         "datacoverage": 1,
         "id": "NORMAL_ANN",
         "maxdate": "2010-01-01",
         "mindate": "2010-01-01",
         "name": "Normals Annual/Seasonal",
         "uid": "gov.noaa.ncdc:C00821"
        },
        {
         "datacoverage": 1,
         "id": "NORMAL_DLY",
         "maxdate": "2010-12-31",
         "mindate": "2010-01-01",
         "name": "Normals Daily",
         "uid": "gov.noaa.ncdc:C00823"
        },
        {
         "datacoverage": 1,
         "id": "NORMAL_HLY",
         "maxdate": "2010-12-31",
         "mindate": "2010-01-01",
         "name": "Normals Hourly",
         "uid": "gov.noaa.ncdc:C00824"
        },
        {
         "datacoverage": 1,
         "id": "NORMAL_MLY",
         "maxdate": "2010-12-01",
         "mindate": "2010-01-01",
         "name": "Normals Monthly",
         "uid": "gov.noaa.ncdc:C00822"
        },
        {
         "datacoverage": 0.25,
         "id": "PRECIP_15",
         "maxdate": "2014-01-01",
         "mindate": "1970-05-12",
         "name": "Precipitation 15 Minute",
         "uid": "gov.noaa.ncdc:C00505"
        },
        {
         "datacoverage": 1,
         "id": "PRECIP_HLY",
         "maxdate": "2014-01-01",
         "mindate": "1900-01-01",
         "name": "Precipitation Hourly",
         "uid": "gov.noaa.ncdc:C00313"
        }
       ]
      },
      "text/plain": [
       "<IPython.core.display.JSON object>"
      ]
     },
     "execution_count": 7,
     "metadata": {
      "application/json": {
       "expanded": false,
       "root": "root"
      }
     },
     "output_type": "execute_result"
    }
   ],
   "source": [
    "JSON(result)"
   ]
  },
  {
   "cell_type": "markdown",
   "metadata": {},
   "source": [
    "#### **Task 4**: \n",
    "How taxi times changing during the day? Does higher traffic lead to bigger taxi times?"
   ]
  },
  {
   "cell_type": "code",
   "execution_count": null,
   "metadata": {},
   "outputs": [],
   "source": []
  },
  {
   "cell_type": "code",
   "execution_count": null,
   "metadata": {},
   "outputs": [],
   "source": []
  },
  {
   "cell_type": "markdown",
   "metadata": {},
   "source": [
    "#### **Task 5**:\n",
    "What is the average percentage of delays that is already created before departure? (aka are arrival delays caused by departure delays?) Are airlines able to lower the delay during the flights?"
   ]
  },
  {
   "cell_type": "code",
   "execution_count": null,
   "metadata": {},
   "outputs": [],
   "source": []
  },
  {
   "cell_type": "code",
   "execution_count": null,
   "metadata": {},
   "outputs": [],
   "source": []
  },
  {
   "cell_type": "markdown",
   "metadata": {},
   "source": [
    "#### **Task 6**: \n",
    "How many states cover 50% of US air traffic? "
   ]
  },
  {
   "cell_type": "code",
   "execution_count": null,
   "metadata": {},
   "outputs": [],
   "source": []
  },
  {
   "cell_type": "code",
   "execution_count": null,
   "metadata": {},
   "outputs": [],
   "source": []
  },
  {
   "cell_type": "markdown",
   "metadata": {},
   "source": [
    "#### **Task 7**: \n",
    "Test the hypothesis whether planes fly faster when there is the departure delay? "
   ]
  },
  {
   "cell_type": "code",
   "execution_count": null,
   "metadata": {},
   "outputs": [],
   "source": []
  },
  {
   "cell_type": "code",
   "execution_count": null,
   "metadata": {},
   "outputs": [],
   "source": []
  },
  {
   "cell_type": "markdown",
   "metadata": {},
   "source": [
    "#### **Task 8**: \n",
    "When (which hour) do most 'LONG', 'SHORT', 'MEDIUM' haul flights take off?"
   ]
  },
  {
   "cell_type": "code",
   "execution_count": null,
   "metadata": {},
   "outputs": [],
   "source": []
  },
  {
   "cell_type": "code",
   "execution_count": null,
   "metadata": {},
   "outputs": [],
   "source": []
  },
  {
   "cell_type": "markdown",
   "metadata": {},
   "source": [
    "#### **Task 9**: \n",
    "Find the top 10 the bussiest airports. Does the biggest number of flights mean that the biggest number of passengers went through the particular airport? How much traffic do these 10 airports cover?"
   ]
  },
  {
   "cell_type": "code",
   "execution_count": null,
   "metadata": {},
   "outputs": [],
   "source": []
  },
  {
   "cell_type": "code",
   "execution_count": null,
   "metadata": {},
   "outputs": [],
   "source": []
  },
  {
   "cell_type": "markdown",
   "metadata": {},
   "source": [
    "#### **Task 10**: \n",
    "Do bigger delays lead to bigger fuel comsumption per passenger? \n",
    "We need to do four things to answer this as accurate as possible:\n",
    "- Find out average monthly delay per air carrier (monthly delay is sum of all delays in 1 month)\n",
    "- Find out distance covered monthly by different air carriers\n",
    "- Find out number of passengers that were carried by different air carriers\n",
    "- Find out total fuel comsumption per air carrier.\n",
    "\n",
    "Use this information to get the average fuel comsumption per passenger per km. Is this higher for the airlines with bigger average delays?"
   ]
  },
  {
   "cell_type": "code",
   "execution_count": null,
   "metadata": {},
   "outputs": [],
   "source": []
  },
  {
   "cell_type": "code",
   "execution_count": null,
   "metadata": {},
   "outputs": [],
   "source": []
  }
 ],
 "metadata": {
  "kernelspec": {
   "display_name": "py3.6",
   "language": "python",
   "name": "py3.6"
  },
  "language_info": {
   "codemirror_mode": {
    "name": "ipython",
    "version": 3
   },
   "file_extension": ".py",
   "mimetype": "text/x-python",
   "name": "python",
   "nbconvert_exporter": "python",
   "pygments_lexer": "ipython3",
   "version": "3.6.13"
  },
  "toc": {
   "base_numbering": 1,
   "nav_menu": {},
   "number_sections": true,
   "sideBar": true,
   "skip_h1_title": false,
   "title_cell": "Table of Contents",
   "title_sidebar": "Contents",
   "toc_cell": false,
   "toc_position": {},
   "toc_section_display": true,
   "toc_window_display": false
  },
  "varInspector": {
   "cols": {
    "lenName": 16,
    "lenType": 16,
    "lenVar": 40
   },
   "kernels_config": {
    "python": {
     "delete_cmd_postfix": "",
     "delete_cmd_prefix": "del ",
     "library": "var_list.py",
     "varRefreshCmd": "print(var_dic_list())"
    },
    "r": {
     "delete_cmd_postfix": ") ",
     "delete_cmd_prefix": "rm(",
     "library": "var_list.r",
     "varRefreshCmd": "cat(var_dic_list()) "
    }
   },
   "types_to_exclude": [
    "module",
    "function",
    "builtin_function_or_method",
    "instance",
    "_Feature"
   ],
   "window_display": false
  }
 },
 "nbformat": 4,
 "nbformat_minor": 4
}
