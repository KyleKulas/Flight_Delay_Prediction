{
 "cells": [
  {
   "cell_type": "markdown",
   "id": "4250ef35-e18d-4688-badf-b761818ed99f",
   "metadata": {},
   "source": [
    "## Linear Regression"
   ]
  },
  {
   "cell_type": "markdown",
   "id": "c2d66185-2583-4d99-a27b-bcd054dc7003",
   "metadata": {},
   "source": [
    "# imports\n",
    "import pandas as pd\n",
    "from sklearn.linear_model import Ridge\n",
    "from sklearn.model_selection import train_test_split\n",
    "\n"
   ]
  },
  {
   "cell_type": "code",
   "execution_count": 1,
   "id": "98cca9da-08c3-40aa-bb5e-f9b2fcf3dd3d",
   "metadata": {},
   "outputs": [],
   "source": [
    "# Read the Dataframe here\n"
   ]
  },
  {
   "cell_type": "code",
   "execution_count": null,
   "id": "d24ecb23-6ee7-47c3-9327-af563a973ad6",
   "metadata": {},
   "outputs": [],
   "source": [
    "# Target selection\n",
    "X = dataframe.drop('arr_delay',axis=1)\n",
    "y = dataframe['arr_delay']"
   ]
  },
  {
   "cell_type": "code",
   "execution_count": null,
   "id": "e42c5e24-622f-4620-8ed1-3b5550151e51",
   "metadata": {},
   "outputs": [],
   "source": [
    "# Standard Scaler creation using the fit_transform() method\n",
    "scaler = StandardScaler()\n",
    "scaled_df = scaler.fit_transform(X)"
   ]
  },
  {
   "cell_type": "code",
   "execution_count": null,
   "id": "c5cf4d07-a451-4aa3-a400-81327f48acbf",
   "metadata": {},
   "outputs": [],
   "source": [
    "# Splite DataFrame to Train and Test sets\n",
    "X_test, X_train, y_test, y_train = train_test_split(scaled_df, y, test_size=0.30)"
   ]
  },
  {
   "cell_type": "code",
   "execution_count": null,
   "id": "22e1810e-e6fb-4bfb-acbd-864b37cd148c",
   "metadata": {},
   "outputs": [],
   "source": [
    "# Fitting the model\n",
    "LR_model = linear_model.LinearRegression(learning_rate=0.001 )\n",
    "LR_model.fit(X_train,y_train)"
   ]
  },
  {
   "cell_type": "code",
   "execution_count": null,
   "id": "d2ef59e3-542f-44e2-9bfa-9330607331d6",
   "metadata": {},
   "outputs": [],
   "source": [
    "y_pred = clf.predict(X_test)"
   ]
  },
  {
   "cell_type": "code",
   "execution_count": null,
   "id": "b85f6860-a628-4d98-aea2-21c97ba87c88",
   "metadata": {},
   "outputs": [],
   "source": [
    "# The coefficients\n",
    "print('Coefficients: \\n', LR_model.coef_)\n",
    "\n",
    "# The mean squared error\n",
    "print('Mean squared error: %.2f \\n'\n",
    "      % mean_squared_error(y_test, y_pred))\n",
    "\n",
    "# The coefficient of determination: \n",
    "print('Coefficient of determination: %.2f \\n'\n",
    "      % r2_score(y_test, y_pred))"
   ]
  },
  {
   "cell_type": "markdown",
   "id": "669e55c1-a23d-4655-8df7-e03082326b36",
   "metadata": {},
   "source": [
    "### Implementing Ridge"
   ]
  },
  {
   "cell_type": "code",
   "execution_count": null,
   "id": "1b527ce7-9b68-4385-83da-bfd4aaa2a284",
   "metadata": {},
   "outputs": [],
   "source": [
    "# Ridge regression\n",
    "Rid_regression = Ridge()"
   ]
  },
  {
   "cell_type": "code",
   "execution_count": null,
   "id": "0d269e1b-5cc5-4551-bc6e-2f4c60f789b5",
   "metadata": {},
   "outputs": [],
   "source": [
    "# fit the data\n",
    "Rid_regression.fit(X_train, y_train)"
   ]
  },
  {
   "cell_type": "code",
   "execution_count": null,
   "id": "7330ca91-3aff-4cc8-b717-30e8687af711",
   "metadata": {},
   "outputs": [],
   "source": [
    "ridg_y_pred = Rid_regression.predict(X_test)"
   ]
  },
  {
   "cell_type": "code",
   "execution_count": null,
   "id": "ccb4f9e5-f3aa-4d18-8e86-807eac678548",
   "metadata": {},
   "outputs": [],
   "source": [
    "# The coefficients\n",
    "print('Coefficients: \\n', Rid_regression.coef_)\n",
    "\n",
    "# The mean squared error\n",
    "print('Mean squared error: %.2f'\n",
    "      % mean_squared_error(y_test, ridg_y_pred))\n",
    "\n",
    "\n",
    "# The coefficient of determination: \n",
    "print('Coefficient of determination: %.2f'\n",
    "      % r2_score(y_test, ridg_y_pred))"
   ]
  }
 ],
 "metadata": {
  "kernelspec": {
   "display_name": "Python 3 (ipykernel)",
   "language": "python",
   "name": "python3"
  },
  "language_info": {
   "codemirror_mode": {
    "name": "ipython",
    "version": 3
   },
   "file_extension": ".py",
   "mimetype": "text/x-python",
   "name": "python",
   "nbconvert_exporter": "python",
   "pygments_lexer": "ipython3",
   "version": "3.9.7"
  }
 },
 "nbformat": 4,
 "nbformat_minor": 5
}
