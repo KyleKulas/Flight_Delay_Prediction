{
 "cells": [
  {
   "cell_type": "markdown",
   "id": "39875a82-6902-472b-af70-d8cc1d9ffa1a",
   "metadata": {},
   "source": [
    "## Naive Byes"
   ]
  },
  {
   "cell_type": "code",
   "execution_count": 9,
   "id": "ca0a7627-7026-422d-ab4d-a2c445d4ed1e",
   "metadata": {},
   "outputs": [],
   "source": [
    "# imports\n",
    "import pandas as pd\n",
    "import numpy as np\n",
    "from sklearn.naive_bayes import GaussianNB\n",
    "from sklearn.metrics import confusion_matrix, classification_report, r2_score, roc_auc_score\n",
    "from sklearn.model_selection import train_test_split\n",
    "from sklearn.preprocessing import StandardScaler\n",
    "from sklearn.preprocessing import OneHotEncoder\n",
    "from sklearn import metrics"
   ]
  },
  {
   "cell_type": "code",
   "execution_count": 21,
   "id": "9377928a-2bc5-44b3-9a25-3eb2d13a2d04",
   "metadata": {},
   "outputs": [],
   "source": [
    "# Read the Dataframe here\n",
    "#load data\n",
    "jan_2019 = pd.read_csv('../Kyle_eda/data/01_2019_flights_weather.csv', low_memory=False)\n",
    "# drop rows with nan in arr_delay\n",
    "jan_2019.dropna(inplace=True,subset=['arr_delay'])\n",
    "jan_2019 = jan_2019[jan_2019['arr_delay'] <240]\n"
   ]
  },
  {
   "cell_type": "code",
   "execution_count": 22,
   "id": "cdda25a8-2eed-431a-a08f-29043f9a4808",
   "metadata": {},
   "outputs": [],
   "source": [
    "# encode mkt_unique_carrier\n",
    "enc = OneHotEncoder()\n",
    "enc.fit(jan_2019['mkt_unique_carrier'].values.reshape(-1,1))\n",
    "enc_df = pd.DataFrame(enc.transform(jan_2019['mkt_unique_carrier'].values.reshape(-1,1)).toarray())\n",
    "\n",
    "enc_df.reset_index(drop=True, inplace=True)\n",
    "jan_2019.reset_index(drop=True, inplace=True)\n",
    "jan_2019 = pd.concat([jan_2019, enc_df], axis=1,)"
   ]
  },
  {
   "cell_type": "code",
   "execution_count": 23,
   "id": "dfcf3fc7-dc0b-44a6-bd47-be750335dbc3",
   "metadata": {},
   "outputs": [],
   "source": [
    "# get mapping dictionary from file to use for encoding origin and dest\n",
    "dest_dict = pd.read_csv('../Kyle_eda/data/dest_dict.csv', index_col=0)\n",
    "origin_dict = pd.read_csv('../Kyle_eda/data/origin_dict.csv', index_col=0)\n",
    "dest_dict = dest_dict.T.to_dict('records')[0]\n",
    "origin_dict = origin_dict.T.to_dict('records')[0]"
   ]
  },
  {
   "cell_type": "code",
   "execution_count": 24,
   "id": "de1a6b53-7ff2-4db7-967c-38c9cbdf061c",
   "metadata": {},
   "outputs": [],
   "source": [
    "# encode origin and dest\n",
    "jan_2019['dest'] = jan_2019['dest'].map(dest_dict)\n",
    "jan_2019['origin'] = jan_2019['origin'].map(origin_dict)\n"
   ]
  },
  {
   "cell_type": "code",
   "execution_count": 25,
   "id": "9802aec5-c70c-4ad2-be8c-33de854b8c8c",
   "metadata": {},
   "outputs": [],
   "source": [
    "# mask for columns to keep\n",
    "cols_to_keep = ['origin', \n",
    "                'dest', \n",
    "                'crs_elapsed_time',\n",
    "                'distance',\n",
    "                'crs_dep_time_hr',\n",
    "                'crs_arr_time_hr',\n",
    "                'precip_origin',\n",
    "                'windspeedKmph_origin',\n",
    "                'winddirDegree_origin',\n",
    "                'visibility_origin',\n",
    "                'DewPointC_origin',\n",
    "                'pressure_origin',\n",
    "                'cloudcover_origin',\n",
    "                'WindGustKmph_origin',\n",
    "                'humidity_origin',\n",
    "                'tempC_origin',\n",
    "                'precip_dest',\n",
    "                'windspeedKmph_dest',\n",
    "                'winddirDegree_dest',\n",
    "                'visibility_dest',\n",
    "                'DewPointC_dest',\n",
    "                'pressure_dest',\n",
    "                'cloudcover_dest',\n",
    "                'WindGustKmph_dest',\n",
    "                'humidity_dest',\n",
    "                'tempC_dest',\n",
    "               0,1,2,3,4,5,6,7,8,9]\n",
    "\n",
    "X = jan_2019[cols_to_keep]\n",
    "y = jan_2019['arr_delay']\n",
    "\n",
    "X_train, X_test, y_train, y_test = train_test_split(X, y, test_size=0.3, random_state=42)"
   ]
  },
  {
   "cell_type": "code",
   "execution_count": 26,
   "id": "04d496f3-9150-429c-ada3-440491020441",
   "metadata": {},
   "outputs": [
    {
     "data": {
      "text/plain": [
       "GaussianNB()"
      ]
     },
     "execution_count": 26,
     "metadata": {},
     "output_type": "execute_result"
    }
   ],
   "source": [
    "#Create the model\n",
    "naive_model = GaussianNB()\n",
    "\n",
    "#Train the model \n",
    "naive_model.fit(X_train,y_train)"
   ]
  },
  {
   "cell_type": "code",
   "execution_count": 27,
   "id": "800d98ea-474f-4f47-a5c7-3b2370d9fcbc",
   "metadata": {},
   "outputs": [],
   "source": [
    "# Pred\n",
    "y_pred = naive_model.predict(X_test)"
   ]
  },
  {
   "cell_type": "code",
   "execution_count": 28,
   "id": "2ca4b1dd-d760-4c6d-b314-ac29a68d06e2",
   "metadata": {},
   "outputs": [
    {
     "name": "stdout",
     "output_type": "stream",
     "text": [
      "RMSE: 144.1723010567653\n"
     ]
    }
   ],
   "source": [
    "rmse = np.sqrt(metrics.mean_squared_error(y_test, y_pred))\n",
    "print(f\"RMSE: {rmse}\")"
   ]
  },
  {
   "cell_type": "code",
   "execution_count": 29,
   "id": "fc2d890a-2c0f-4076-8272-aaee5877da31",
   "metadata": {},
   "outputs": [
    {
     "data": {
      "text/plain": [
       "array([225., -60., 238., ..., -64., -59., -69.])"
      ]
     },
     "execution_count": 29,
     "metadata": {},
     "output_type": "execute_result"
    }
   ],
   "source": [
    "y_pred"
   ]
  },
  {
   "cell_type": "code",
   "execution_count": 19,
   "id": "c9af544c-29f5-437b-910e-941581896d00",
   "metadata": {},
   "outputs": [
    {
     "data": {
      "text/plain": [
       "pandas.core.series.Series"
      ]
     },
     "execution_count": 19,
     "metadata": {},
     "output_type": "execute_result"
    }
   ],
   "source": []
  },
  {
   "cell_type": "code",
   "execution_count": 11,
   "id": "2779bc6c-95d1-4ab2-957b-a0adaba38236",
   "metadata": {},
   "outputs": [
    {
     "name": "stdout",
     "output_type": "stream",
     "text": [
      "Coefficient of determination: -71.29 \n",
      "\n"
     ]
    }
   ],
   "source": [
    "# Coefficient of determination\n",
    "print('Coefficient of determination: %.2f \\n'\n",
    "      % r2_score(y_test, y_pred))"
   ]
  },
  {
   "cell_type": "markdown",
   "id": "e6e62a5b-ffc2-434f-9793-31c015fc8af9",
   "metadata": {},
   "source": [
    "### ROC curve "
   ]
  },
  {
   "cell_type": "code",
   "execution_count": null,
   "id": "356fddc7-3fa3-4f9e-a7b6-54004e77b01d",
   "metadata": {},
   "outputs": [],
   "source": [
    "# Claculation\n",
    "y_score1 = naive_model.predict_proba(X_test)[:,1]\n",
    "y_score2 = naive_model.predict_proba(X_test)[:,1]\n",
    "\n",
    "false_positive_rate1, true_positive_rate1, threshold1 = roc_curve(y_test, y_score1)\n",
    "false_positive_rate2, true_positive_rate2, threshold2 = roc_curve(y_test, y_score2)"
   ]
  },
  {
   "cell_type": "code",
   "execution_count": null,
   "id": "f704d790-918d-4c7b-9cca-9e28d96e2f7b",
   "metadata": {},
   "outputs": [],
   "source": [
    "# ROC Score\n",
    "print('roc_auc_score: ', roc_auc_score(y_test, y_score1))"
   ]
  },
  {
   "cell_type": "code",
   "execution_count": null,
   "id": "542ea79b-5354-46db-8a3b-8a3f8dae1057",
   "metadata": {},
   "outputs": [],
   "source": [
    "# Visulaization\n",
    "plt.subplots(1, figsize=(10,10))\n",
    "plt.title('Random Forest ROC')\n",
    "plt.plot(false_positive_rate1, true_positive_rate1)\n",
    "plt.plot([0, 1], ls=\"--\")\n",
    "plt.plot([0, 0], [1, 0] , c=\".7\"), plt.plot([1, 1] , c=\".7\")\n",
    "plt.ylabel('True Positive Rate')\n",
    "plt.xlabel('False Positive Rate')\n",
    "plt.show()\n"
   ]
  },
  {
   "cell_type": "code",
   "execution_count": null,
   "id": "371751df-51ee-4900-8980-04bfa1520da1",
   "metadata": {},
   "outputs": [],
   "source": []
  }
 ],
 "metadata": {
  "kernelspec": {
   "display_name": "py3.6",
   "language": "python",
   "name": "py3.6"
  },
  "language_info": {
   "codemirror_mode": {
    "name": "ipython",
    "version": 3
   },
   "file_extension": ".py",
   "mimetype": "text/x-python",
   "name": "python",
   "nbconvert_exporter": "python",
   "pygments_lexer": "ipython3",
   "version": "3.6.13"
  }
 },
 "nbformat": 4,
 "nbformat_minor": 5
}
