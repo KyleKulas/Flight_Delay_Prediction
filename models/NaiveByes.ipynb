{
 "cells": [
  {
   "cell_type": "markdown",
   "id": "39875a82-6902-472b-af70-d8cc1d9ffa1a",
   "metadata": {},
   "source": [
    "## Naive Byes"
   ]
  },
  {
   "cell_type": "code",
   "execution_count": null,
   "id": "ca0a7627-7026-422d-ab4d-a2c445d4ed1e",
   "metadata": {},
   "outputs": [],
   "source": [
    "# imports\n",
    "from sklearn.naive_bayes import GaussianNB\n",
    "from sklearn.metrics import confusion_matrix, classification_report, r2_score, roc_auc_score\n",
    "from sklearn.model_selection import train_test_split\n",
    "from sklearn.preprocessing import StandardScaler"
   ]
  },
  {
   "cell_type": "code",
   "execution_count": null,
   "id": "9377928a-2bc5-44b3-9a25-3eb2d13a2d04",
   "metadata": {},
   "outputs": [],
   "source": [
    "# Read the Dataframe here\n"
   ]
  },
  {
   "cell_type": "code",
   "execution_count": null,
   "id": "db828668-37d4-4bc3-aaf2-420bc5c68a27",
   "metadata": {},
   "outputs": [],
   "source": [
    "# Target selection\n",
    "X = dataframe.drop('arr_delay',axis=1)\n",
    "y = dataframe['arr_delay']"
   ]
  },
  {
   "cell_type": "code",
   "execution_count": null,
   "id": "cd3a632c-9e22-4d28-96c0-675d27c508ae",
   "metadata": {},
   "outputs": [],
   "source": [
    "# Standard Scaler creation using the fit_transform() method\n",
    "scaler = StandardScaler()\n",
    "scaled_df = scaler.fit_transform(X)"
   ]
  },
  {
   "cell_type": "code",
   "execution_count": null,
   "id": "ca7610b4-a13f-40ba-9464-b3fcf7827f7b",
   "metadata": {},
   "outputs": [],
   "source": [
    "# Splite DataFrame to Train and Test sets\n",
    "X_test, X_train, y_test, y_train = train_test_split(scaled_df, y, test_size=0.30)"
   ]
  },
  {
   "cell_type": "code",
   "execution_count": null,
   "id": "04d496f3-9150-429c-ada3-440491020441",
   "metadata": {},
   "outputs": [],
   "source": [
    "#Create the model\n",
    "naive_model = GaussianNB()\n",
    "\n",
    "#Train the model \n",
    "naive_model.fit(X_train,y_train)"
   ]
  },
  {
   "cell_type": "code",
   "execution_count": null,
   "id": "800d98ea-474f-4f47-a5c7-3b2370d9fcbc",
   "metadata": {},
   "outputs": [],
   "source": [
    "# Pred\n",
    "y_pred = clf.predict(X_test)"
   ]
  },
  {
   "cell_type": "code",
   "execution_count": null,
   "id": "c7cc76bb-0eb5-4964-9137-53bb5c9fa9bb",
   "metadata": {},
   "outputs": [],
   "source": [
    "# Confusion Matrix\n",
    "confusion_matrix(y_test,y_pred)"
   ]
  },
  {
   "cell_type": "code",
   "execution_count": null,
   "id": "1f67dde7-1cd9-4986-8547-05f883130f36",
   "metadata": {},
   "outputs": [],
   "source": [
    "# Classification Report\n",
    "print(classification_report(y_test, y_pred))"
   ]
  },
  {
   "cell_type": "code",
   "execution_count": null,
   "id": "2779bc6c-95d1-4ab2-957b-a0adaba38236",
   "metadata": {},
   "outputs": [],
   "source": [
    "# Coefficient of determination\n",
    "print('Coefficient of determination: %.2f \\n'\n",
    "      % r2_score(y_test, y_pred))"
   ]
  },
  {
   "cell_type": "markdown",
   "id": "e6e62a5b-ffc2-434f-9793-31c015fc8af9",
   "metadata": {},
   "source": [
    "### ROC curve "
   ]
  },
  {
   "cell_type": "code",
   "execution_count": null,
   "id": "356fddc7-3fa3-4f9e-a7b6-54004e77b01d",
   "metadata": {},
   "outputs": [],
   "source": [
    "# Claculation\n",
    "y_score1 = naive_model.predict_proba(X_test)[:,1]\n",
    "y_score2 = naive_model.predict_proba(X_test)[:,1]\n",
    "\n",
    "false_positive_rate1, true_positive_rate1, threshold1 = roc_curve(y_test, y_score1)\n",
    "false_positive_rate2, true_positive_rate2, threshold2 = roc_curve(y_test, y_score2)"
   ]
  },
  {
   "cell_type": "code",
   "execution_count": null,
   "id": "f704d790-918d-4c7b-9cca-9e28d96e2f7b",
   "metadata": {},
   "outputs": [],
   "source": [
    "# ROC Score\n",
    "print('roc_auc_score: ', roc_auc_score(y_test, y_score1))"
   ]
  },
  {
   "cell_type": "code",
   "execution_count": null,
   "id": "542ea79b-5354-46db-8a3b-8a3f8dae1057",
   "metadata": {},
   "outputs": [],
   "source": [
    "# Visulaization\n",
    "plt.subplots(1, figsize=(10,10))\n",
    "plt.title('Random Forest ROC')\n",
    "plt.plot(false_positive_rate1, true_positive_rate1)\n",
    "plt.plot([0, 1], ls=\"--\")\n",
    "plt.plot([0, 0], [1, 0] , c=\".7\"), plt.plot([1, 1] , c=\".7\")\n",
    "plt.ylabel('True Positive Rate')\n",
    "plt.xlabel('False Positive Rate')\n",
    "plt.show()\n"
   ]
  },
  {
   "cell_type": "code",
   "execution_count": null,
   "id": "371751df-51ee-4900-8980-04bfa1520da1",
   "metadata": {},
   "outputs": [],
   "source": []
  }
 ],
 "metadata": {
  "kernelspec": {
   "display_name": "Python 3 (ipykernel)",
   "language": "python",
   "name": "python3"
  },
  "language_info": {
   "codemirror_mode": {
    "name": "ipython",
    "version": 3
   },
   "file_extension": ".py",
   "mimetype": "text/x-python",
   "name": "python",
   "nbconvert_exporter": "python",
   "pygments_lexer": "ipython3",
   "version": "3.9.7"
  }
 },
 "nbformat": 4,
 "nbformat_minor": 5
}
