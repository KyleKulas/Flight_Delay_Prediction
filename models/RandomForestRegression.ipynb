{
 "cells": [
  {
   "cell_type": "markdown",
   "id": "b0f8dca9-41a6-496c-9b58-9e0e5f673a90",
   "metadata": {},
   "source": [
    "## Randon Forest Regression"
   ]
  },
  {
   "cell_type": "code",
   "execution_count": null,
   "id": "f472b441-939a-47ef-a7bd-5c96e1c76e8d",
   "metadata": {},
   "outputs": [],
   "source": [
    "# imports\n",
    "from sklearn.ensemble import RandomForestRegressor\n",
    "from sklearn.metrics import mean_squared_error, r2_score\n",
    "from sklearn.model_selection import train_test_split\n",
    "from sklearn.preprocessing import StandardScaler\n"
   ]
  },
  {
   "cell_type": "code",
   "execution_count": null,
   "id": "4ce6ecd0-7c00-4c02-9af3-411b01c2ed3d",
   "metadata": {},
   "outputs": [],
   "source": [
    "# Read the Dataframe here\n"
   ]
  },
  {
   "cell_type": "code",
   "execution_count": null,
   "id": "524e54e0-3fee-43bd-acb5-96b6af0c1ecd",
   "metadata": {},
   "outputs": [],
   "source": [
    "# Target selection\n",
    "X = dataframe.drop('arr_delay',axis=1)\n",
    "y = dataframe['arr_delay']"
   ]
  },
  {
   "cell_type": "code",
   "execution_count": null,
   "id": "30fad338-5cfd-48b4-84c2-b99bee168feb",
   "metadata": {},
   "outputs": [],
   "source": [
    "# Standard Scaler creation using the fit_transform() method\n",
    "scaler = StandardScaler()\n",
    "scaled_df = scaler.fit_transform(X)"
   ]
  },
  {
   "cell_type": "code",
   "execution_count": null,
   "id": "cb7dc460-7e5f-43a8-b8e5-47bbdd64b622",
   "metadata": {},
   "outputs": [],
   "source": [
    "# Splite DataFrame to Train and Test sets\n",
    "X_test, X_train, y_test, y_train = train_test_split(scaled_df, y, test_size=0.30)"
   ]
  },
  {
   "cell_type": "code",
   "execution_count": null,
   "id": "90c30b50-97cb-45c9-97b5-bfd446ed27a2",
   "metadata": {},
   "outputs": [],
   "source": [
    "#Create the model\n",
    "RFR_model=RandomForestRegressor(n_estimators=100, max_depth=10)\n",
    "\n",
    "#Train the model \n",
    "RFR_model.fit(X_train,y_train)"
   ]
  },
  {
   "cell_type": "code",
   "execution_count": null,
   "id": "c1024dcf-d2c7-4282-b41a-0907ec10cc1a",
   "metadata": {},
   "outputs": [],
   "source": [
    "# Accuracy check\n",
    "training_preds = RFR_model.predict(X_train)\n",
    "y_pred = RFR_model.predict(df1.values)\n",
    "\n",
    "training_accuracy = accuracy_score(y_train, training_preds)\n",
    "val_accuracy = accuracy_score(y_test, y_pred)\n",
    "\n",
    "print(\"Training Accuracy: {:.4}%\".format(training_accuracy * 100))\n",
    "print(\"Validation accuracy: {:.4}%\".format(val_accuracy * 100))"
   ]
  },
  {
   "cell_type": "code",
   "execution_count": null,
   "id": "591d4f80-ab9f-4420-8949-cc2a1396fd9b",
   "metadata": {},
   "outputs": [],
   "source": [
    "# The coefficients\n",
    "print('Coefficients: \\n', RFR_model.coef_)\n",
    "# The mean squared error\n",
    "print('Mean squared error: %.2f \\n'\n",
    "      % mean_squared_error(y_test, y_pred))\n",
    "\n",
    "# The coefficient of determination:\n",
    "print('Coefficient of determination: %.2f \\n'\n",
    "      % r2_score(y_test, y_pred))"
   ]
  },
  {
   "cell_type": "code",
   "execution_count": null,
   "id": "a7d69e29-7f17-4b39-8ef6-d56364b57879",
   "metadata": {},
   "outputs": [],
   "source": [
    "# Create a Pediction data from \n",
    "pred = pd.DataFrame(y_pred)\n",
    "\n",
    "# Save to file\n",
    "pred.to_csv('RFR_prediction.csv')"
   ]
  },
  {
   "cell_type": "markdown",
   "id": "4e8a0382-a858-4f8c-bb73-d507160d418f",
   "metadata": {},
   "source": [
    "## Hypertuning & Grid"
   ]
  },
  {
   "cell_type": "code",
   "execution_count": null,
   "id": "1020c887-8de6-410d-b2e7-1db13dbcc9d1",
   "metadata": {},
   "outputs": [],
   "source": [
    "from sklearn.model_selection import RandomizedSearchCV\n",
    "\n",
    "# Number of trees in random forest\n",
    "estimators = [int(x) for x in np.linspace(start = 100, stop = 1000, num = 10)]\n",
    "\n",
    "# Number of features to consider at every split\n",
    "features = ['auto', 'sqrt']\n",
    "\n",
    "# Maximum number of levels in tree\n",
    "depth = [int(x) for x in np.linspace(10, 50, num = 11)]\n",
    "depth.append(None)\n",
    "\n",
    "# Minimum number of samples required to split a node\n",
    "samples_split = [2, 5, 10]\n",
    "\n",
    "# Minimum number of samples required at each leaf node\n",
    "samples_leaf = [1, 2, 4]\n",
    "\n",
    "# Method of selecting samples\n",
    "bootstrap_samples = [True, False]\n",
    "\n",
    "# Create the random grid\n",
    "grid_search = {'n_estimators': estimators,\n",
    "               'max_features': features,\n",
    "               'max_depth': depth,\n",
    "               'min_samples_split': samples_split,\n",
    "               'min_samples_leaf': samples_leaf,\n",
    "               'bootstrap': bootstrap_samples}\n",
    "print(grid_search)"
   ]
  },
  {
   "cell_type": "code",
   "execution_count": null,
   "id": "5b775348-36c2-484f-87af-b3b860c665fd",
   "metadata": {},
   "outputs": [],
   "source": [
    "# Random grid to search for best hyperparameters\n",
    "\n",
    "# Base model to tune\n",
    "rfr = RandomForestRegressor()\n",
    "\n",
    "# Random search of parameters, using 3 fold cross validation,\n",
    "\n",
    "# search across 100 different combinations, and use all available cores\n",
    "rf_random = RandomizedSearchCV(estimator = rfr, param_distributions = grid_search, n_iter = 100, cv = 3, verbose=2)\n",
    "\n",
    "# Fit the random search model\n",
    "rf_random.fit(X_train, y_train)"
   ]
  },
  {
   "cell_type": "code",
   "execution_count": null,
   "id": "a08186b1-7836-4066-bf22-f7422d965896",
   "metadata": {},
   "outputs": [],
   "source": [
    "# Preds\n",
    "y_pred = rf_random.predict(X_test)"
   ]
  },
  {
   "cell_type": "code",
   "execution_count": null,
   "id": "d97f3009-dcf1-4adc-a0d3-abad4cdb15ef",
   "metadata": {},
   "outputs": [],
   "source": [
    "# R2 Score\n",
    "rmse = np.sqrt(mean_squared_error(y_test,y_pred))\n",
    "r2 = r2_score(y_test,y_pred)\n",
    "\n",
    "print('rmse: ',rmse)\n",
    "print('r2_score:', r2)"
   ]
  }
 ],
 "metadata": {
  "kernelspec": {
   "display_name": "Python 3 (ipykernel)",
   "language": "python",
   "name": "python3"
  },
  "language_info": {
   "codemirror_mode": {
    "name": "ipython",
    "version": 3
   },
   "file_extension": ".py",
   "mimetype": "text/x-python",
   "name": "python",
   "nbconvert_exporter": "python",
   "pygments_lexer": "ipython3",
   "version": "3.9.7"
  }
 },
 "nbformat": 4,
 "nbformat_minor": 5
}
