{
 "cells": [
  {
   "cell_type": "markdown",
   "id": "b0f8dca9-41a6-496c-9b58-9e0e5f673a90",
   "metadata": {},
   "source": [
    "## Randon Forest Regression"
   ]
  },
  {
   "cell_type": "code",
   "execution_count": 2,
   "id": "f472b441-939a-47ef-a7bd-5c96e1c76e8d",
   "metadata": {},
   "outputs": [],
   "source": [
    "# imports\n",
    "import pandas as pd\n",
    "import numpy as np\n",
    "from sklearn.ensemble import RandomForestRegressor\n",
    "from sklearn.metrics import mean_squared_error, r2_score\n",
    "from sklearn.model_selection import train_test_split\n",
    "from sklearn.preprocessing import StandardScaler\n",
    "from sklearn import metrics\n",
    "from sklearn.preprocessing import OneHotEncoder\n"
   ]
  },
  {
   "cell_type": "code",
   "execution_count": 3,
   "id": "4ce6ecd0-7c00-4c02-9af3-411b01c2ed3d",
   "metadata": {},
   "outputs": [],
   "source": [
    "# Read the Dataframe here\n",
    "#load data\n",
    "jan_2019 = pd.read_csv('../Kyle_eda/data/01_2019_flights_weather.csv', low_memory=False)\n",
    "# drop rows with nan in arr_delay\n",
    "jan_2019.dropna(inplace=True,subset=['arr_delay'])"
   ]
  },
  {
   "cell_type": "code",
   "execution_count": 4,
   "id": "2c8ebd34-8b3a-4003-aa87-4472a85416cf",
   "metadata": {},
   "outputs": [],
   "source": [
    "# encode mkt_unique_carrier\n",
    "enc = OneHotEncoder()\n",
    "enc.fit(jan_2019['mkt_unique_carrier'].values.reshape(-1,1))\n",
    "enc_df = pd.DataFrame(enc.transform(jan_2019['mkt_unique_carrier'].values.reshape(-1,1)).toarray())\n",
    "\n",
    "enc_df.reset_index(drop=True, inplace=True)\n",
    "jan_2019.reset_index(drop=True, inplace=True)\n",
    "jan_2019 = pd.concat([jan_2019, enc_df], axis=1,)"
   ]
  },
  {
   "cell_type": "code",
   "execution_count": 5,
   "id": "1ad6d83e-fcec-460e-9a22-a426a11cfea7",
   "metadata": {},
   "outputs": [],
   "source": [
    "# get mapping dictionary from file to use for encoding origin and dest\n",
    "dest_dict = pd.read_csv('../Kyle_eda/data/dest_dict.csv', index_col=0)\n",
    "origin_dict = pd.read_csv('../Kyle_eda/data/origin_dict.csv', index_col=0)\n",
    "dest_dict = dest_dict.T.to_dict('records')[0]\n",
    "origin_dict = origin_dict.T.to_dict('records')[0]"
   ]
  },
  {
   "cell_type": "code",
   "execution_count": 6,
   "id": "39d3ec0e-2a8f-46e0-9472-50b2d59e2048",
   "metadata": {},
   "outputs": [],
   "source": [
    "# encode origin and dest\n",
    "jan_2019['dest'] = jan_2019['dest'].map(dest_dict)\n",
    "jan_2019['origin'] = jan_2019['origin'].map(origin_dict)\n"
   ]
  },
  {
   "cell_type": "code",
   "execution_count": 9,
   "id": "019b0e60-a4a6-4a41-922e-2c6fd0496ee3",
   "metadata": {},
   "outputs": [],
   "source": [
    "# mask for columns to keep\n",
    "cols_to_keep = ['origin', \n",
    "                'dest', \n",
    "                'crs_elapsed_time',\n",
    "                'distance',\n",
    "                'crs_dep_time_hr',\n",
    "                'crs_arr_time_hr',\n",
    "                'precip_origin',\n",
    "                'windspeedKmph_origin',\n",
    "                'winddirDegree_origin',\n",
    "                'visibility_origin',\n",
    "                'DewPointC_origin',\n",
    "                'pressure_origin',\n",
    "                'cloudcover_origin',\n",
    "                'WindGustKmph_origin',\n",
    "                'humidity_origin',\n",
    "                'tempC_origin',\n",
    "                'precip_dest',\n",
    "                'windspeedKmph_dest',\n",
    "                'winddirDegree_dest',\n",
    "                'visibility_dest',\n",
    "                'DewPointC_dest',\n",
    "                'pressure_dest',\n",
    "                'cloudcover_dest',\n",
    "                'WindGustKmph_dest',\n",
    "                'humidity_dest',\n",
    "                'tempC_dest']\n",
    "\n",
    "X = jan_2019[cols_to_keep]\n",
    "y = jan_2019['arr_delay']\n",
    "\n",
    "X_train, X_test, y_train, y_test = train_test_split(X, y, test_size=0.3, random_state=42)"
   ]
  },
  {
   "cell_type": "code",
   "execution_count": null,
   "id": "fdddcfa7-b869-4cda-b4bd-2454b061c82e",
   "metadata": {},
   "outputs": [],
   "source": []
  },
  {
   "cell_type": "code",
   "execution_count": null,
   "id": "7c571a9d-76ce-4ade-a675-3054421145c0",
   "metadata": {},
   "outputs": [],
   "source": []
  },
  {
   "cell_type": "code",
   "execution_count": 10,
   "id": "90c30b50-97cb-45c9-97b5-bfd446ed27a2",
   "metadata": {},
   "outputs": [
    {
     "data": {
      "text/plain": [
       "RandomForestRegressor(max_depth=10)"
      ]
     },
     "execution_count": 10,
     "metadata": {},
     "output_type": "execute_result"
    }
   ],
   "source": [
    "#Create the model\n",
    "RFR_model=RandomForestRegressor(n_estimators=100, max_depth=10)\n",
    "\n",
    "#Train the model \n",
    "RFR_model.fit(X_train,y_train)"
   ]
  },
  {
   "cell_type": "code",
   "execution_count": 11,
   "id": "c1024dcf-d2c7-4282-b41a-0907ec10cc1a",
   "metadata": {},
   "outputs": [
    {
     "name": "stdout",
     "output_type": "stream",
     "text": [
      "Mean squared error: 2415.83 \n",
      "\n"
     ]
    }
   ],
   "source": [
    "# Accuracy check\n",
    "training_preds = RFR_model.predict(X_train)\n",
    "y_pred = RFR_model.predict(X_test)\n",
    "\n",
    "# The mean squared error\n",
    "print('Mean squared error: %.2f \\n'\n",
    "      % metrics.mean_squared_error(y_test, y_pred))\n"
   ]
  },
  {
   "cell_type": "code",
   "execution_count": 13,
   "id": "591d4f80-ab9f-4420-8949-cc2a1396fd9b",
   "metadata": {},
   "outputs": [
    {
     "name": "stdout",
     "output_type": "stream",
     "text": [
      "Coefficient of determination: 0.14 \n",
      "\n"
     ]
    }
   ],
   "source": [
    "\n",
    "# The coefficient of determination:\n",
    "print('Coefficient of determination: %.2f \\n'\n",
    "      % r2_score(y_test, y_pred))"
   ]
  },
  {
   "cell_type": "markdown",
   "id": "4e8a0382-a858-4f8c-bb73-d507160d418f",
   "metadata": {},
   "source": [
    "## Hypertuning & Grid"
   ]
  },
  {
   "cell_type": "code",
   "execution_count": null,
   "id": "1020c887-8de6-410d-b2e7-1db13dbcc9d1",
   "metadata": {},
   "outputs": [],
   "source": [
    "from sklearn.model_selection import RandomizedSearchCV\n",
    "\n",
    "# Number of trees in random forest\n",
    "estimators = [int(x) for x in np.linspace(start = 100, stop = 1000, num = 10)]\n",
    "\n",
    "# Number of features to consider at every split\n",
    "features = ['auto', 'sqrt']\n",
    "\n",
    "# Maximum number of levels in tree\n",
    "depth = [int(x) for x in np.linspace(10, 50, num = 11)]\n",
    "depth.append(None)\n",
    "\n",
    "# Minimum number of samples required to split a node\n",
    "samples_split = [2, 5, 10]\n",
    "\n",
    "# Minimum number of samples required at each leaf node\n",
    "samples_leaf = [1, 2, 4]\n",
    "\n",
    "# Method of selecting samples\n",
    "bootstrap_samples = [True, False]\n",
    "\n",
    "# Create the random grid\n",
    "grid_search = {'n_estimators': estimators,\n",
    "               'max_features': features,\n",
    "               'max_depth': depth,\n",
    "               'min_samples_split': samples_split,\n",
    "               'min_samples_leaf': samples_leaf,\n",
    "               'bootstrap': bootstrap_samples}\n",
    "print(grid_search)"
   ]
  },
  {
   "cell_type": "code",
   "execution_count": null,
   "id": "5b775348-36c2-484f-87af-b3b860c665fd",
   "metadata": {},
   "outputs": [],
   "source": [
    "# Random grid to search for best hyperparameters\n",
    "\n",
    "# Base model to tune\n",
    "rfr = RandomForestRegressor()\n",
    "\n",
    "# Random search of parameters, using 3 fold cross validation,\n",
    "\n",
    "# search across 100 different combinations, and use all available cores\n",
    "rf_random = RandomizedSearchCV(estimator = rfr, param_distributions = grid_search, n_iter = 100, cv = 3, verbose=2)\n",
    "\n",
    "# Fit the random search model\n",
    "rf_random.fit(X_train, y_train)"
   ]
  },
  {
   "cell_type": "code",
   "execution_count": null,
   "id": "a08186b1-7836-4066-bf22-f7422d965896",
   "metadata": {},
   "outputs": [],
   "source": [
    "# Preds\n",
    "y_pred = rf_random.predict(X_test)"
   ]
  },
  {
   "cell_type": "code",
   "execution_count": null,
   "id": "d97f3009-dcf1-4adc-a0d3-abad4cdb15ef",
   "metadata": {},
   "outputs": [],
   "source": [
    "# R2 Score\n",
    "rmse = np.sqrt(mean_squared_error(y_test,y_pred))\n",
    "r2 = r2_score(y_test,y_pred)\n",
    "\n",
    "print('rmse: ',rmse)\n",
    "print('r2_score:', r2)"
   ]
  }
 ],
 "metadata": {
  "kernelspec": {
   "display_name": "py3.6",
   "language": "python",
   "name": "py3.6"
  },
  "language_info": {
   "codemirror_mode": {
    "name": "ipython",
    "version": 3
   },
   "file_extension": ".py",
   "mimetype": "text/x-python",
   "name": "python",
   "nbconvert_exporter": "python",
   "pygments_lexer": "ipython3",
   "version": "3.6.13"
  }
 },
 "nbformat": 4,
 "nbformat_minor": 5
}

