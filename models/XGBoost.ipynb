{
 "cells": [
  {
   "cell_type": "markdown",
   "id": "eeb56f85-befd-457f-8eb5-598ec87418c1",
   "metadata": {},
   "source": [
    "# XGBoots"
   ]
  },
  {
   "cell_type": "code",
   "execution_count": null,
   "id": "6c008643-2f2b-4dcd-bb8e-b1e208555d79",
   "metadata": {},
   "outputs": [],
   "source": [
    "# imports\n",
    "from xgboost import XGBClassifier\n",
    "from sklearn.metrics import accuracy_score, classification_report, r2_score\n",
    "from sklearn.model_selection import train_test_split\n",
    "from sklearn.preprocessing import StandardScaler"
   ]
  },
  {
   "cell_type": "code",
   "execution_count": null,
   "id": "ded5820d-a81f-423a-8a03-9d1c92a4b65e",
   "metadata": {},
   "outputs": [],
   "source": [
    "# Read the Dataframe here\n",
    "\n",
    "\n",
    "# Read test Dataframe here\n",
    "test_data ="
   ]
  },
  {
   "cell_type": "code",
   "execution_count": null,
   "id": "d0eaa42a-42a7-4848-83b3-658e0649a0f0",
   "metadata": {},
   "outputs": [],
   "source": [
    "# Target selection\n",
    "X = dataframe.drop('arr_delay',axis=1)\n",
    "y = dataframe['arr_delay']"
   ]
  },
  {
   "cell_type": "code",
   "execution_count": null,
   "id": "1f8aa0be-8e53-41ce-8595-464ab8e066f1",
   "metadata": {},
   "outputs": [],
   "source": [
    "# Standard Scaler creation using the fit_transform() method\n",
    "scaler = StandardScaler()\n",
    "scaled_df = scaler.fit_transform(X)"
   ]
  },
  {
   "cell_type": "code",
   "execution_count": null,
   "id": "b68c1765-906f-4bc8-ac47-4eaeb2cd0706",
   "metadata": {},
   "outputs": [],
   "source": [
    "# Splite DataFrame to Train and Test sets\n",
    "X_test, X_train, y_test, y_train = train_test_split(scaled_df, y, test_size=0.30)"
   ]
  },
  {
   "cell_type": "code",
   "execution_count": null,
   "id": "0ed5fea5-ba6c-4e16-8afd-2a5b0ff8b26b",
   "metadata": {},
   "outputs": [],
   "source": [
    "#Create the model\n",
    "xgboost = XGBClassifier(n_estimators=100)\n",
    "\n",
    "#Train the model \n",
    "xgboost.fit(X_train,y_train)"
   ]
  },
  {
   "cell_type": "code",
   "execution_count": null,
   "id": "46030534-66b9-4994-b399-d11e4340fba6",
   "metadata": {},
   "outputs": [],
   "source": [
    "# Preds\n",
    "y_pred = xgboost.predict(test_data.values)"
   ]
  },
  {
   "cell_type": "code",
   "execution_count": null,
   "id": "a946e1f7-561d-4303-91ec-e9a95ad04a92",
   "metadata": {},
   "outputs": [],
   "source": [
    "# Training Accuracy\n",
    "training_accuracy = accuracy_score(y_test, y_pred)\n",
    "\n",
    "print(\"Validation accuracy: {:.4}%\".format(training_accuracy * 100))"
   ]
  },
  {
   "cell_type": "code",
   "execution_count": null,
   "id": "267c85b0-6311-4d20-8d48-ed58e258ca08",
   "metadata": {},
   "outputs": [],
   "source": [
    "# Confusion Matrix\n",
    "confusion_matrix(y_test, y_pred)"
   ]
  },
  {
   "cell_type": "code",
   "execution_count": null,
   "id": "33158500-0793-43a1-83e5-db668396c96b",
   "metadata": {},
   "outputs": [],
   "source": [
    "# Classification Report\n",
    "print(classification_report(y_test, y_pred))"
   ]
  },
  {
   "cell_type": "code",
   "execution_count": null,
   "id": "abaa3cbc-f2ee-42da-bb0d-bc8dbd120d91",
   "metadata": {},
   "outputs": [],
   "source": [
    "# Create a Dataframe from Pred\n",
    "pred = pd.DataFrame(y_pred)"
   ]
  },
  {
   "cell_type": "markdown",
   "id": "1d538ae2-0cd6-4264-9910-f14753fd8206",
   "metadata": {},
   "source": [
    "### Hypertuning "
   ]
  },
  {
   "cell_type": "code",
   "execution_count": null,
   "id": "8030757a-f1b4-4fba-8f68-b58393167b4d",
   "metadata": {},
   "outputs": [],
   "source": [
    "# Create function for Hypertuning\n",
    "\n",
    "def hypertuning(X_train, y_train):\n",
    "    tuning = {\n",
    "        'learning_rate': [0.01, 0.1],\n",
    "        'max_depth': [3, 5, 7, 10],\n",
    "        'min_child_weight': [1, 3, 5],\n",
    "        'subsample': [0.5, 0.7],\n",
    "        'colsample_bytree': [0.5, 0.7],\n",
    "        'n_estimators' : 3000,\n",
    "        'objective': ['reg:squarederror']}\n",
    "\n",
    "    xgb_model = XGBRegressor()\n",
    "\n",
    "    grid_search = GridSearchCV(estimator = xgb_model,\n",
    "                           param_grid = param_tuning,                        \n",
    "                           cv = 5,\n",
    "                           n_jobs = -1,\n",
    "                           verbose = 1)\n",
    "\n",
    "    grid_search.fit(X_train,y_train)\n",
    "\n",
    "    return grid_search.best_params_\n",
    "\n",
    "\n",
    "# Calling function\n",
    "hypertuning(X_train,y_train)"
   ]
  },
  {
   "cell_type": "code",
   "execution_count": null,
   "id": "7c8324b4-555a-43b7-9429-31df57666755",
   "metadata": {},
   "outputs": [],
   "source": [
    "# Put the best stimated here\n",
    "xgb_model = XGBRegressor(\n",
    "        objective = ,\n",
    "        colsample_bytree = ,\n",
    "        learning_rate = ,\n",
    "        max_depth = ,\n",
    "        min_child_weight =,\n",
    "        n_estimators = ,\n",
    "        alpha = )\n",
    "\n",
    "# fit the model\n",
    "xgb_model.fit(X_train, y_train)\n",
    "\n",
    "# Predictions\n",
    "training_preds = xgb_model.predict(X_train)\n",
    "y_pred = xgb_model.predict(X_test)\n"
   ]
  },
  {
   "cell_type": "code",
   "execution_count": null,
   "id": "03449231-5c99-40ce-9634-f2f105e07be3",
   "metadata": {},
   "outputs": [],
   "source": [
    "# Classification Report\n",
    "print(classification_report(y_test, y_pred))"
   ]
  },
  {
   "cell_type": "code",
   "execution_count": null,
   "id": "abd18b1f-8c83-48bd-80cb-0b5424198ed8",
   "metadata": {},
   "outputs": [],
   "source": [
    "# RMSE\n",
    "rmse = np.sqrt(mean_squared_error(y_test, y_pred))\n",
    "\n",
    "# R2 score\n",
    "r2 = r2_score(y_test,y_pred)\n",
    "\n",
    "print(\"RMSE: %.4f\" % (rmse))\n",
    "print('r2_score:', r2)"
   ]
  }
 ],
 "metadata": {
  "kernelspec": {
   "display_name": "Python 3 (ipykernel)",
   "language": "python",
   "name": "python3"
  },
  "language_info": {
   "codemirror_mode": {
    "name": "ipython",
    "version": 3
   },
   "file_extension": ".py",
   "mimetype": "text/x-python",
   "name": "python",
   "nbconvert_exporter": "python",
   "pygments_lexer": "ipython3",
   "version": "3.9.7"
  }
 },
 "nbformat": 4,
 "nbformat_minor": 5
}
