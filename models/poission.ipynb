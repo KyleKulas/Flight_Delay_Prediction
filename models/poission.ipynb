{
 "cells": [
  {
   "cell_type": "code",
   "execution_count": 7,
   "id": "8dc7171c-7f9e-49a9-8699-991cca963c11",
   "metadata": {},
   "outputs": [],
   "source": [
    "\n",
    "import pandas as pd\n",
    "import numpy as np\n",
    "from sklearn import linear_model\n",
    "from sklearn import metrics\n",
    "from sklearn.preprocessing import OneHotEncoder\n",
    "from sklearn.model_selection import train_test_split"
   ]
  },
  {
   "cell_type": "code",
   "execution_count": 2,
   "id": "30864911-ccb4-4eec-827e-a52685089853",
   "metadata": {},
   "outputs": [],
   "source": [
    "# Read the Dataframe here\n",
    "#load data\n",
    "jan_2019 = pd.read_csv('../Kyle_eda/data/01_2019_flights_weather.csv', low_memory=False)\n",
    "# drop rows with nan in arr_delay\n",
    "jan_2019.dropna(inplace=True,subset=['arr_delay'])"
   ]
  },
  {
   "cell_type": "code",
   "execution_count": 3,
   "id": "bda0647f-e775-4ad0-a946-ed241355c873",
   "metadata": {},
   "outputs": [],
   "source": [
    "# encode mkt_unique_carrier\n",
    "enc = OneHotEncoder()\n",
    "enc.fit(jan_2019['mkt_unique_carrier'].values.reshape(-1,1))\n",
    "enc_df = pd.DataFrame(enc.transform(jan_2019['mkt_unique_carrier'].values.reshape(-1,1)).toarray())\n",
    "\n",
    "enc_df.reset_index(drop=True, inplace=True)\n",
    "jan_2019.reset_index(drop=True, inplace=True)\n",
    "jan_2019 = pd.concat([jan_2019, enc_df], axis=1,)"
   ]
  },
  {
   "cell_type": "code",
   "execution_count": 4,
   "id": "6a592580-fded-44b3-bdba-1d2c2e7c58f7",
   "metadata": {},
   "outputs": [],
   "source": [
    "# get mapping dictionary from file to use for encoding origin and dest\n",
    "dest_dict = pd.read_csv('../Kyle_eda/data/dest_dict.csv', index_col=0)\n",
    "origin_dict = pd.read_csv('../Kyle_eda/data/origin_dict.csv', index_col=0)\n",
    "dest_dict = dest_dict.T.to_dict('records')[0]\n",
    "origin_dict = origin_dict.T.to_dict('records')[0]"
   ]
  },
  {
   "cell_type": "code",
   "execution_count": 5,
   "id": "230d7daf-23b3-459a-b4ef-dfd634cdcf3e",
   "metadata": {},
   "outputs": [],
   "source": [
    "# encode origin and dest\n",
    "jan_2019['dest'] = jan_2019['dest'].map(dest_dict)\n",
    "jan_2019['origin'] = jan_2019['origin'].map(origin_dict)\n"
   ]
  },
  {
   "cell_type": "code",
   "execution_count": 8,
   "id": "6b4cbc7e-b789-4688-af78-0e685dd64f6f",
   "metadata": {},
   "outputs": [],
   "source": [
    "# mask for columns to keep\n",
    "cols_to_keep = ['origin', \n",
    "                'dest', \n",
    "                'crs_elapsed_time',\n",
    "                'distance',\n",
    "                'crs_dep_time_hr',\n",
    "                'crs_arr_time_hr',\n",
    "                'precip_origin',\n",
    "                'windspeedKmph_origin',\n",
    "                'winddirDegree_origin',\n",
    "                'visibility_origin',\n",
    "                'DewPointC_origin',\n",
    "                'pressure_origin',\n",
    "                'cloudcover_origin',\n",
    "                'WindGustKmph_origin',\n",
    "                'humidity_origin',\n",
    "                'tempC_origin',\n",
    "                'precip_dest',\n",
    "                'windspeedKmph_dest',\n",
    "                'winddirDegree_dest',\n",
    "                'visibility_dest',\n",
    "                'DewPointC_dest',\n",
    "                'pressure_dest',\n",
    "                'cloudcover_dest',\n",
    "                'WindGustKmph_dest',\n",
    "                'humidity_dest',\n",
    "                'tempC_dest']\n",
    "\n",
    "X = jan_2019[cols_to_keep]\n",
    "y = jan_2019['arr_delay']\n",
    "\n",
    "X_train, X_test, y_train, y_test = train_test_split(X, y, test_size=0.3, random_state=42)"
   ]
  },
  {
   "cell_type": "code",
   "execution_count": 9,
   "id": "fd74cf36-468b-4891-b4e2-c0fe5beb5623",
   "metadata": {},
   "outputs": [],
   "source": [
    "clf = linear_model.PoissonRegressor()"
   ]
  },
  {
   "cell_type": "code",
   "execution_count": 12,
   "id": "a2725ef3-271f-412b-b168-21c8b71a969d",
   "metadata": {},
   "outputs": [
    {
     "ename": "ValueError",
     "evalue": "Some value(s) of y are out of the valid range for family PoissonDistribution",
     "output_type": "error",
     "traceback": [
      "\u001b[0;31m---------------------------------------------------------------------------\u001b[0m",
      "\u001b[0;31mValueError\u001b[0m                                Traceback (most recent call last)",
      "\u001b[0;32m<ipython-input-12-83a9362c1568>\u001b[0m in \u001b[0;36m<module>\u001b[0;34m\u001b[0m\n\u001b[0;32m----> 1\u001b[0;31m \u001b[0mclf\u001b[0m\u001b[0;34m.\u001b[0m\u001b[0mfit\u001b[0m\u001b[0;34m(\u001b[0m\u001b[0mX_train\u001b[0m\u001b[0;34m,\u001b[0m \u001b[0my_train\u001b[0m\u001b[0;34m)\u001b[0m\u001b[0;34m\u001b[0m\u001b[0;34m\u001b[0m\u001b[0m\n\u001b[0m\u001b[1;32m      2\u001b[0m \u001b[0;34m\u001b[0m\u001b[0m\n\u001b[1;32m      3\u001b[0m \u001b[0mpreds\u001b[0m \u001b[0;34m=\u001b[0m \u001b[0mclf\u001b[0m\u001b[0;34m.\u001b[0m\u001b[0mpredict\u001b[0m\u001b[0;34m(\u001b[0m\u001b[0mX_test\u001b[0m\u001b[0;34m)\u001b[0m\u001b[0;34m\u001b[0m\u001b[0;34m\u001b[0m\u001b[0m\n\u001b[1;32m      4\u001b[0m \u001b[0;34m\u001b[0m\u001b[0m\n\u001b[1;32m      5\u001b[0m \u001b[0mclf\u001b[0m\u001b[0;34m.\u001b[0m\u001b[0mcoef_\u001b[0m\u001b[0;34m\u001b[0m\u001b[0;34m\u001b[0m\u001b[0m\n",
      "\u001b[0;32m~/anaconda3/envs/Python3.6/lib/python3.6/site-packages/sklearn/linear_model/_glm/glm.py\u001b[0m in \u001b[0;36mfit\u001b[0;34m(self, X, y, sample_weight)\u001b[0m\n\u001b[1;32m    233\u001b[0m             raise ValueError(\"Some value(s) of y are out of the valid \"\n\u001b[1;32m    234\u001b[0m                              \u001b[0;34m\"range for family {0}\"\u001b[0m\u001b[0;34m\u001b[0m\u001b[0;34m\u001b[0m\u001b[0m\n\u001b[0;32m--> 235\u001b[0;31m                              .format(family.__class__.__name__))\n\u001b[0m\u001b[1;32m    236\u001b[0m         \u001b[0;31m# TODO: if alpha=0 check that X is not rank deficient\u001b[0m\u001b[0;34m\u001b[0m\u001b[0;34m\u001b[0m\u001b[0;34m\u001b[0m\u001b[0m\n\u001b[1;32m    237\u001b[0m \u001b[0;34m\u001b[0m\u001b[0m\n",
      "\u001b[0;31mValueError\u001b[0m: Some value(s) of y are out of the valid range for family PoissonDistribution"
     ]
    }
   ],
   "source": [
    "clf.fit(X_train, y_train)\n",
    "\n",
    "preds = clf.predict(X_test)\n",
    "\n",
    "clf.coef_\n",
    "\n",
    "clf.intercept_"
   ]
  },
  {
   "cell_type": "code",
   "execution_count": null,
   "id": "b5fb8ec6-4bac-4b70-919d-3f19bcfb981d",
   "metadata": {},
   "outputs": [],
   "source": []
  }
 ],
 "metadata": {
  "kernelspec": {
   "display_name": "py3.6",
   "language": "python",
   "name": "py3.6"
  },
  "language_info": {
   "codemirror_mode": {
    "name": "ipython",
    "version": 3
   },
   "file_extension": ".py",
   "mimetype": "text/x-python",
   "name": "python",
   "nbconvert_exporter": "python",
   "pygments_lexer": "ipython3",
   "version": "3.6.13"
  }
 },
 "nbformat": 4,
 "nbformat_minor": 5
}
